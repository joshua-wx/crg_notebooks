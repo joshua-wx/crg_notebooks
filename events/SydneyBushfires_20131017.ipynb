{
 "cells": [
  {
   "cell_type": "markdown",
   "metadata": {},
   "source": [
    "Load libraries"
   ]
  },
  {
   "cell_type": "code",
   "execution_count": 39,
   "metadata": {
    "collapsed": false
   },
   "outputs": [],
   "source": [
    "#imports\n",
    "from __future__ import print_function\n",
    "import pyart\n",
    "import matplotlib.pyplot as plt\n",
    "import matplotlib\n",
    "%matplotlib inline\n",
    "import numpy as np\n",
    "import h5py\n",
    "from time import time\n",
    "import os\n",
    "from netCDF4 import num2date, date2num\n"
   ]
  },
  {
   "cell_type": "markdown",
   "metadata": {},
   "source": [
    "Load odimh5 file"
   ]
  },
  {
   "cell_type": "code",
   "execution_count": 40,
   "metadata": {
    "collapsed": false
   },
   "outputs": [],
   "source": [
    "fn  = '../data/201310170519T_Hills.h5'\n",
    "#Since the names in the HDF5 file are non-standard we use file_field_names = True\n",
    "radar = pyart.aux_io.read_odim_h5(fn, file_field_names=True) \n",
    "\n",
    "radar.fields['DBZH']['standard_name'] = 'Reflectivity'\n",
    "radar.fields['DBZH']['units'] = 'dBZ'\n",
    "radar.fields['DBZH']['long_name'] = 'Radar Reflectivity Factor'\n",
    "radar.fields['VRADH']['standard_name'] = 'Velocity'\n",
    "radar.fields['VRADH']['units'] = 'm/s'\n",
    "radar.fields['VRADH']['long_name'] = 'Radial Velocity of Scatterers'"
   ]
  },
  {
   "cell_type": "code",
   "execution_count": 41,
   "metadata": {
    "collapsed": true
   },
   "outputs": [],
   "source": [
    "tilt = 0\n",
    "lat_lines = np.arange(-33,-36,-.2)\n",
    "lon_lines = np.arange(149, 153, .2)\n",
    "# ogr2ogr -f \"ESRI Shapefile\" <output>.shp <input>.shp -clipsrc -36 -33 149 153\n",
    "max_lat   = -33.2134\n",
    "min_lat   = -34.0646\n",
    "min_lon   = 150.0719\n",
    "max_lon   = 151.2443\n",
    "extent = [min_lat, max_lat, min_lon, max_lon]\n"
   ]
  },
  {
   "cell_type": "code",
   "execution_count": 42,
   "metadata": {
    "collapsed": false
   },
   "outputs": [],
   "source": [
    "hfile = h5py.File(fn, 'r')\n",
    "d1_how = hfile['dataset1']['how'].attrs\n",
    "NI = d1_how['NI']\n",
    "\n",
    "gatefilter = pyart.correct.GateFilter(radar)\n",
    "gatefilter.exclude_masked('DBZH')\n",
    "corr_vel = pyart.correct.dealias_region_based(\n",
    "    radar, vel_field='VRADH', gatefilter = gatefilter, nyquist_vel=NI)\n",
    "radar.add_field('VRADH_corr', corr_vel, False)"
   ]
  },
  {
   "cell_type": "code",
   "execution_count": null,
   "metadata": {
    "collapsed": true
   },
   "outputs": [],
   "source": [
    "#pyart.io.write_cfradial('converted_kurnell_file.nc', radar)"
   ]
  },
  {
   "cell_type": "code",
   "execution_count": null,
   "metadata": {
    "collapsed": false
   },
   "outputs": [],
   "source": [
    "my_display = pyart.graph.RadarMapDisplay(radar)\n",
    "f = plt.figure(figsize=[20,20])\n",
    "plt.subplot(2,2,1)\n",
    "tilt = 0\n",
    "my_display.plot_ppi_map('VRADH', tilt, vmin=-30, vmax=30, \n",
    "                        lat_lines = lat_lines, lon_lines = lon_lines,\n",
    "                        max_lat = max_lat, min_lat =min_lat, min_lon = min_lon, max_lon = max_lon,\n",
    "                        cmap = pyart.graph.cm.BuDRd18,resolution='f')\n",
    "\n",
    "\n",
    "ax = plt.gca()\n",
    "plt.subplot(2,2,2)\n",
    "tilt = 0\n",
    "my_display.plot_ppi_map('VRADH_corr', tilt, vmin=-30., vmax=30., \n",
    "                        lat_lines = lat_lines, lon_lines = lon_lines,\n",
    "                        max_lat = max_lat, min_lat =min_lat, min_lon = min_lon, max_lon = max_lon,\n",
    "                       cmap = pyart.graph.cm.BuDRd18,resolution='f')\n",
    "\n",
    "ax = plt.gca()\n",
    "plt.subplot(2,2,3)\n",
    "tilt = 1\n",
    "my_display.plot_ppi_map('VRADH', tilt, vmin=-30, vmax=30, \n",
    "                        lat_lines = lat_lines, lon_lines = lon_lines,\n",
    "                        max_lat = max_lat, min_lat =min_lat, min_lon = min_lon, max_lon = max_lon,\n",
    "                       cmap = pyart.graph.cm.BuDRd18,resolution='f')\n",
    "\n",
    "ax = plt.gca()\n",
    "plt.subplot(2,2,4)\n",
    "tilt = 1\n",
    "my_display.plot_ppi_map('VRADH_corr', tilt, vmin=-30., vmax=30., \n",
    "                        lat_lines = lat_lines, lon_lines = lon_lines,\n",
    "                        max_lat = max_lat, min_lat =min_lat, min_lon = min_lon, max_lon = max_lon,\n",
    "                       cmap = pyart.graph.cm.BuDRd18,resolution='f')\n",
    "\n",
    "ax = plt.gca()"
   ]
  },
  {
   "cell_type": "code",
   "execution_count": null,
   "metadata": {
    "collapsed": true
   },
   "outputs": [],
   "source": []
  },
  {
   "cell_type": "code",
   "execution_count": null,
   "metadata": {
    "collapsed": true
   },
   "outputs": [],
   "source": []
  }
 ],
 "metadata": {
  "kernelspec": {
   "display_name": "Python [Root]",
   "language": "python",
   "name": "Python [Root]"
  },
  "language_info": {
   "codemirror_mode": {
    "name": "ipython",
    "version": 2
   },
   "file_extension": ".py",
   "mimetype": "text/x-python",
   "name": "python",
   "nbconvert_exporter": "python",
   "pygments_lexer": "ipython2",
   "version": "2.7.12"
  }
 },
 "nbformat": 4,
 "nbformat_minor": 0
}
