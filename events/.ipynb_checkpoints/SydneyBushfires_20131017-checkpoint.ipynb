{
 "cells": [
  {
   "cell_type": "markdown",
   "metadata": {},
   "source": [
    "Load libraries"
   ]
  },
  {
   "cell_type": "code",
   "execution_count": 1,
   "metadata": {
    "collapsed": false
   },
   "outputs": [
    {
     "name": "stdout",
     "output_type": "stream",
     "text": [
      "\n",
      "## You are using the Python ARM Radar Toolkit (Py-ART), an open source\n",
      "## library for working with weather radar data.\n",
      "##\n",
      "## If you use this software to prepare a publication, please cite:\n",
      "##\n",
      "##     JJ Helmus and SM Collis, JORS 2016, doi: 10.5334/jors.119 \n"
     ]
    },
    {
     "name": "stderr",
     "output_type": "stream",
     "text": [
      "/home/meso/anaconda2/lib/python2.7/site-packages/ipykernel/pylab/config.py:66: DeprecationWarning: metadata {'config': True} was set from the constructor.  Metadata should be set using the .tag() method, e.g., Int().tag(key1='value1', key2='value2')\n",
      "  inline backend.\"\"\"\n",
      "/home/meso/anaconda2/lib/python2.7/site-packages/ipykernel/pylab/config.py:71: DeprecationWarning: metadata {'config': True} was set from the constructor.  Metadata should be set using the .tag() method, e.g., Int().tag(key1='value1', key2='value2')\n",
      "  'retina', 'jpeg', 'svg', 'pdf'.\"\"\")\n",
      "/home/meso/anaconda2/lib/python2.7/site-packages/ipykernel/pylab/config.py:85: DeprecationWarning: metadata {'config': True} was set from the constructor.  Metadata should be set using the .tag() method, e.g., Int().tag(key1='value1', key2='value2')\n",
      "  use `figure_formats` instead)\"\"\")\n",
      "/home/meso/anaconda2/lib/python2.7/site-packages/ipykernel/pylab/config.py:95: DeprecationWarning: metadata {'config': True} was set from the constructor.  Metadata should be set using the .tag() method, e.g., Int().tag(key1='value1', key2='value2')\n",
      "  \"\"\"\n",
      "/home/meso/anaconda2/lib/python2.7/site-packages/ipykernel/pylab/config.py:114: DeprecationWarning: metadata {'config': True} was set from the constructor.  Metadata should be set using the .tag() method, e.g., Int().tag(key1='value1', key2='value2')\n",
      "  \"\"\")\n",
      "/home/meso/anaconda2/lib/python2.7/site-packages/ipykernel/pylab/config.py:44: DeprecationWarning: InlineBackend._config_changed is deprecated: use @observe and @unobserve instead.\n",
      "  def _config_changed(self, name, old, new):\n",
      "/home/meso/anaconda2/lib/python2.7/site-packages/traitlets/traitlets.py:770: DeprecationWarning: A parent of InlineBackend._config_changed has adopted the new @observe(change) API\n",
      "  clsname, change_or_name), DeprecationWarning)\n",
      "/home/meso/anaconda2/lib/python2.7/site-packages/IPython/core/formatters.py:98: DeprecationWarning: DisplayFormatter._formatters_default is deprecated: use @default decorator instead.\n",
      "  def _formatters_default(self):\n",
      "/home/meso/anaconda2/lib/python2.7/site-packages/IPython/core/formatters.py:677: DeprecationWarning: PlainTextFormatter._deferred_printers_default is deprecated: use @default decorator instead.\n",
      "  def _deferred_printers_default(self):\n",
      "/home/meso/anaconda2/lib/python2.7/site-packages/IPython/core/formatters.py:669: DeprecationWarning: PlainTextFormatter._singleton_printers_default is deprecated: use @default decorator instead.\n",
      "  def _singleton_printers_default(self):\n",
      "/home/meso/anaconda2/lib/python2.7/site-packages/IPython/core/formatters.py:672: DeprecationWarning: PlainTextFormatter._type_printers_default is deprecated: use @default decorator instead.\n",
      "  def _type_printers_default(self):\n",
      "/home/meso/anaconda2/lib/python2.7/site-packages/IPython/core/formatters.py:672: DeprecationWarning: PlainTextFormatter._type_printers_default is deprecated: use @default decorator instead.\n",
      "  def _type_printers_default(self):\n",
      "/home/meso/anaconda2/lib/python2.7/site-packages/IPython/core/formatters.py:677: DeprecationWarning: PlainTextFormatter._deferred_printers_default is deprecated: use @default decorator instead.\n",
      "  def _deferred_printers_default(self):\n"
     ]
    }
   ],
   "source": [
    "#imports\n",
    "from __future__ import print_function\n",
    "import pyart\n",
    "import matplotlib.pyplot as plt\n",
    "import matplotlib\n",
    "%matplotlib inline\n",
    "import numpy as np\n",
    "import h5py\n",
    "from time import time\n",
    "import os\n",
    "from netCDF4 import num2date, date2num\n"
   ]
  },
  {
   "cell_type": "markdown",
   "metadata": {},
   "source": [
    "Load odimh5 file"
   ]
  },
  {
   "cell_type": "code",
   "execution_count": 2,
   "metadata": {
    "collapsed": false
   },
   "outputs": [],
   "source": [
    "fn  = '../data/201310170519T_Hills.h5'\n",
    "#Since the names in the HDF5 file are non-standard we use file_field_names = True\n",
    "radar = pyart.aux_io.read_odim_h5(fn, file_field_names=True) \n",
    "\n",
    "radar.fields['DBZH']['standard_name'] = 'Reflectivity'\n",
    "radar.fields['DBZH']['units'] = 'dBZ'\n",
    "radar.fields['DBZH']['long_name'] = 'Radar Reflectivity Factor'\n",
    "radar.fields['VRADH']['standard_name'] = 'Velocity'\n",
    "radar.fields['VRADH']['units'] = 'm/s'\n",
    "radar.fields['VRADH']['long_name'] = 'Radial Velocity of Scatterers'"
   ]
  },
  {
   "cell_type": "code",
   "execution_count": 3,
   "metadata": {
    "collapsed": true
   },
   "outputs": [],
   "source": [
    "tilt = 0\n",
    "lat_lines = np.arange(-33,-36,-.2)\n",
    "lon_lines = np.arange(149, 153, .2)\n",
    "# ogr2ogr -f \"ESRI Shapefile\" <output>.shp <input>.shp -clipsrc -36 -33 149 153\n",
    "max_lat   = -33.2134\n",
    "min_lat   = -34.0646\n",
    "min_lon   = 150.0719\n",
    "max_lon   = 151.2443\n",
    "extent = [min_lat, max_lat, min_lon, max_lon]\n"
   ]
  },
  {
   "cell_type": "code",
   "execution_count": 4,
   "metadata": {
    "collapsed": false
   },
   "outputs": [],
   "source": [
    "hfile = h5py.File(fn, 'r')\n",
    "d1_how = hfile['dataset1']['how'].attrs\n",
    "NI = d1_how['NI']+0.1\n",
    "\n",
    "gatefilter = pyart.correct.GateFilter(radar)\n",
    "gatefilter.exclude_masked('DBZH')\n",
    "corr_vel = pyart.correct.dealias_region_based(\n",
    "    radar, vel_field='VRADH', gatefilter = gatefilter, nyquist_vel=NI)\n",
    "radar.add_field('VRADH_corr', corr_vel, False)"
   ]
  },
  {
   "cell_type": "code",
   "execution_count": 5,
   "metadata": {
    "collapsed": true
   },
   "outputs": [],
   "source": [
    "#pyart.io.write_cfradial('converted_kurnell_file.nc', radar)"
   ]
  },
  {
   "cell_type": "code",
   "execution_count": 7,
   "metadata": {
    "collapsed": false
   },
   "outputs": [
    {
     "ename": "MissingOptionalDependency",
     "evalue": "Basemap is required to use RadarMapDisplay but is not installed",
     "output_type": "error",
     "traceback": [
      "\u001b[1;31m---------------------------------------------------------------------------\u001b[0m",
      "\u001b[1;31mMissingOptionalDependency\u001b[0m                 Traceback (most recent call last)",
      "\u001b[1;32m<ipython-input-7-3d891f2590c0>\u001b[0m in \u001b[0;36m<module>\u001b[1;34m()\u001b[0m\n\u001b[1;32m----> 1\u001b[1;33m \u001b[0mmy_display\u001b[0m \u001b[1;33m=\u001b[0m \u001b[0mpyart\u001b[0m\u001b[1;33m.\u001b[0m\u001b[0mgraph\u001b[0m\u001b[1;33m.\u001b[0m\u001b[0mRadarMapDisplay\u001b[0m\u001b[1;33m(\u001b[0m\u001b[0mradar\u001b[0m\u001b[1;33m)\u001b[0m\u001b[1;33m\u001b[0m\u001b[0m\n\u001b[0m\u001b[0;32m      2\u001b[0m \u001b[0mf\u001b[0m \u001b[1;33m=\u001b[0m \u001b[0mplt\u001b[0m\u001b[1;33m.\u001b[0m\u001b[0mfigure\u001b[0m\u001b[1;33m(\u001b[0m\u001b[0mfigsize\u001b[0m\u001b[1;33m=\u001b[0m\u001b[1;33m[\u001b[0m\u001b[1;36m20\u001b[0m\u001b[1;33m,\u001b[0m\u001b[1;36m20\u001b[0m\u001b[1;33m]\u001b[0m\u001b[1;33m)\u001b[0m\u001b[1;33m\u001b[0m\u001b[0m\n\u001b[0;32m      3\u001b[0m \u001b[0mplt\u001b[0m\u001b[1;33m.\u001b[0m\u001b[0msubplot\u001b[0m\u001b[1;33m(\u001b[0m\u001b[1;36m2\u001b[0m\u001b[1;33m,\u001b[0m\u001b[1;36m2\u001b[0m\u001b[1;33m,\u001b[0m\u001b[1;36m1\u001b[0m\u001b[1;33m)\u001b[0m\u001b[1;33m\u001b[0m\u001b[0m\n\u001b[0;32m      4\u001b[0m \u001b[0mtilt\u001b[0m \u001b[1;33m=\u001b[0m \u001b[1;36m0\u001b[0m\u001b[1;33m\u001b[0m\u001b[0m\n\u001b[0;32m      5\u001b[0m my_display.plot_ppi_map('VRADH', tilt, vmin=-30, vmax=30, \n",
      "\u001b[1;32m/home/meso/.local/lib/python2.7/site-packages/pyart/graph/radarmapdisplay.pyc\u001b[0m in \u001b[0;36m__init__\u001b[1;34m(self, radar, shift)\u001b[0m\n\u001b[0;32m     81\u001b[0m             raise MissingOptionalDependency(\n\u001b[0;32m     82\u001b[0m                 \u001b[1;34m\"Basemap is required to use RadarMapDisplay but is not \"\u001b[0m \u001b[1;33m+\u001b[0m\u001b[1;33m\u001b[0m\u001b[0m\n\u001b[1;32m---> 83\u001b[1;33m                 \"installed\")\n\u001b[0m\u001b[0;32m     84\u001b[0m \u001b[1;33m\u001b[0m\u001b[0m\n\u001b[0;32m     85\u001b[0m         \u001b[1;31m# initalize the base class\u001b[0m\u001b[1;33m\u001b[0m\u001b[1;33m\u001b[0m\u001b[0m\n",
      "\u001b[1;31mMissingOptionalDependency\u001b[0m: Basemap is required to use RadarMapDisplay but is not installed"
     ]
    }
   ],
   "source": [
    "my_display = pyart.graph.RadarMapDisplay(radar)\n",
    "f = plt.figure(figsize=[20,20])\n",
    "plt.subplot(2,2,1)\n",
    "tilt = 0\n",
    "my_display.plot_ppi_map('VRADH', tilt, vmin=-30, vmax=30, \n",
    "                        lat_lines = lat_lines, lon_lines = lon_lines,\n",
    "                        max_lat = max_lat, min_lat =min_lat, min_lon = min_lon, max_lon = max_lon,\n",
    "                        cmap = pyart.graph.cm.BuDRd18,resolution='f')\n",
    "\n",
    "\n",
    "ax = plt.gca()\n",
    "plt.subplot(2,2,2)\n",
    "tilt = 0\n",
    "my_display.plot_ppi_map('VRADH_corr', tilt, vmin=-30., vmax=30., \n",
    "                        lat_lines = lat_lines, lon_lines = lon_lines,\n",
    "                        max_lat = max_lat, min_lat =min_lat, min_lon = min_lon, max_lon = max_lon,\n",
    "                       cmap = pyart.graph.cm.BuDRd18,resolution='f')\n",
    "\n",
    "ax = plt.gca()\n",
    "plt.subplot(2,2,3)\n",
    "tilt = 1\n",
    "my_display.plot_ppi_map('VRADH', tilt, vmin=-30, vmax=30, \n",
    "                        lat_lines = lat_lines, lon_lines = lon_lines,\n",
    "                        max_lat = max_lat, min_lat =min_lat, min_lon = min_lon, max_lon = max_lon,\n",
    "                       cmap = pyart.graph.cm.BuDRd18,resolution='f')\n",
    "\n",
    "ax = plt.gca()\n",
    "plt.subplot(2,2,4)\n",
    "tilt = 1\n",
    "my_display.plot_ppi_map('VRADH_corr', tilt, vmin=-30., vmax=30., \n",
    "                        lat_lines = lat_lines, lon_lines = lon_lines,\n",
    "                        max_lat = max_lat, min_lat =min_lat, min_lon = min_lon, max_lon = max_lon,\n",
    "                       cmap = pyart.graph.cm.BuDRd18,resolution='f')\n",
    "\n",
    "ax = plt.gca()"
   ]
  },
  {
   "cell_type": "code",
   "execution_count": null,
   "metadata": {
    "collapsed": true
   },
   "outputs": [],
   "source": []
  },
  {
   "cell_type": "code",
   "execution_count": null,
   "metadata": {
    "collapsed": true
   },
   "outputs": [],
   "source": []
  }
 ],
 "metadata": {
  "kernelspec": {
   "display_name": "Python [Root]",
   "language": "python",
   "name": "Python [Root]"
  },
  "language_info": {
   "codemirror_mode": {
    "name": "ipython",
    "version": 2
   },
   "file_extension": ".py",
   "mimetype": "text/x-python",
   "name": "python",
   "nbconvert_exporter": "python",
   "pygments_lexer": "ipython2",
   "version": "2.7.12"
  }
 },
 "nbformat": 4,
 "nbformat_minor": 0
}
