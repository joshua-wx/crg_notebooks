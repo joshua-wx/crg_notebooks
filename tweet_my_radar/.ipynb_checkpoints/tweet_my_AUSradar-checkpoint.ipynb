{
 "cells": [
  {
   "cell_type": "markdown",
   "metadata": {},
   "source": [
    "How to use the Twitter API and Py-ART to Tweet Your Australian Radar!\n",
    "----------------------------------------------------------\n",
    "\n",
    "*Scott Collis, Argonne National Laboratory* Adapted for Australian radars by Joshua Soderholm"
   ]
  },
  {
   "cell_type": "code",
   "execution_count": 1,
   "metadata": {
    "collapsed": false
   },
   "outputs": [
    {
     "name": "stdout",
     "output_type": "stream",
     "text": [
      "\n",
      "## You are using the Python ARM Radar Toolkit (Py-ART), an open source\n",
      "## library for working with weather radar data.\n",
      "##\n",
      "## If you use this software to prepare a publication, please cite:\n",
      "##\n",
      "##     JJ Helmus and SM Collis, JORS 2016, doi: 10.5334/jors.119 \n"
     ]
    }
   ],
   "source": [
    "#First some imports\n",
    "import twitter #https://python-twitter.readthedocs.io/en/latest/index.html\n",
    "import json\n",
    "import pyart #https://github.com/ARM-DOE/pyart\n",
    "import matplotlib.pyplot as plt\n",
    "from boto.s3.connection import S3Connection #Anaconda installable\n",
    "import shutil, os\n",
    "from datetime import timedelta, datetime\n",
    "import numpy as np\n",
    "import tempfile\n",
    "import shutil, os"
   ]
  },
  {
   "cell_type": "markdown",
   "metadata": {},
   "source": [
    "First, some functions to deal with Amazon Web Services Simple Storage Service (s3) holding of BOM radar archive. This is a realtime and historical archive provided by Fugro-ROAMES for testing purposes. Future aim is to host this archive permanently, publically."
   ]
  },
  {
   "cell_type": "code",
   "execution_count": 2,
   "metadata": {
    "collapsed": true
   },
   "outputs": [],
   "source": [
    "def nearestDate(dates, pivot):\n",
    "    return min(dates, key=lambda x: abs(x - pivot))\n",
    "\n",
    "\n",
    "def get_radar_from_aws(site, datetime_t):\n",
    "    \"\"\"\n",
    "    Get the closest volume of NEXRAD data to a particular datetime.\n",
    "    Parameters\n",
    "    ----------\n",
    "    site : string\n",
    "        four letter radar designation \n",
    "    datetime_t : datetime\n",
    "        desired date time\n",
    "    \"\"\"\n",
    "    \n",
    "    #First create the query string for the bucket knowing\n",
    "    #how NOAA and AWS store the data\n",
    "    \n",
    "    my_pref = \"odimh5_archive/\" + site + datetime_t.strftime('/%Y/%m/%d')\n",
    "    #Connect to the bucket\n",
    "    \n",
    "    conn = S3Connection(anon = True)\n",
    "    bucket = conn.get_bucket('roames-wxradar-archive')\n",
    "    \n",
    "    #Get a list of files \n",
    "    \n",
    "    bucket_list = list(bucket.list(prefix = my_pref))\n",
    "    #print(bucket_list)\n",
    "    #we are going to create a list of keys and datetimes to allow easy searching\n",
    "    \n",
    "    keys = []\n",
    "    datetimes = []\n",
    "    \n",
    "    #populate the list\n",
    "    for i in range(len(bucket_list)):\n",
    "        this_str = str(bucket_list[i].key)\n",
    "        if 'h5' in this_str:\n",
    "            endme = this_str[-18:-3]\n",
    "            fmt = '%Y%m%d_%H%M%S' \n",
    "            dt = datetime.strptime(endme, fmt)\n",
    "            datetimes.append(dt)\n",
    "            keys.append(bucket_list[i])\n",
    "            #print(dt)\n",
    "    \n",
    "    #function to allow easy searching \n",
    "    \n",
    "    def func(x):\n",
    "        delta =  x - datetime_t if x > datetime_t else timedelta.max\n",
    "        return delta\n",
    "    \n",
    "    #find the closest available radar to your datetime \n",
    "    closest_datetime = nearestDate(datetimes, datetime_t)\n",
    "    index = datetimes.index(closest_datetime)\n",
    "    #print(closest_datetime)\n",
    "    #create a temp file, download radar data to file from S3\n",
    "    #read into a radar object and return\n",
    "    \n",
    "    localfile = tempfile.NamedTemporaryFile()\n",
    "    keys[index].get_contents_to_filename(localfile.name)\n",
    "    radar = pyart.aux_io.read_odim_h5(localfile.name, file_field_names=True) \n",
    "    return radar"
   ]
  },
  {
   "cell_type": "markdown",
   "metadata": {},
   "source": [
    "Ok.. now the part that takes some work.. Take a loom here:\n",
    "\n",
    "https://python-twitter.readthedocs.io/en/latest/getting_started.html\n",
    "\n",
    "This gives you instruction on how to populate the json file... \n",
    "\n",
    "Here is an example:\n",
    "`\n",
    "➜  twitterradar git:(tools_init) ✗ more token/PyWeather.json \n",
    "{\"consumer_key\":\"SOMETHING\",\n",
    "\"consumer_secret\":\"SOMETHINGELSE\",\n",
    "\"access_token_key\":\"ANOTHERTHING\",\n",
    "\"access_token_secret\":\"YETANOTHERTHING\"}\n",
    "`\n",
    "\n"
   ]
  },
  {
   "cell_type": "code",
   "execution_count": 3,
   "metadata": {
    "collapsed": true
   },
   "outputs": [],
   "source": [
    "fh = open('/home/meso/aws_key/twitter_key.json')\n",
    "myson = json.load(fh)\n",
    "fh.close()"
   ]
  },
  {
   "cell_type": "markdown",
   "metadata": {},
   "source": [
    "Initialize the API"
   ]
  },
  {
   "cell_type": "code",
   "execution_count": 4,
   "metadata": {
    "collapsed": false
   },
   "outputs": [],
   "source": [
    "api = twitter.Api(consumer_key=myson['consumer_key'],\n",
    "                  consumer_secret=myson['consumer_secret'],\n",
    "                  access_token_key=myson['access_token_key'],\n",
    "                  access_token_secret=myson['access_token_secret'])"
   ]
  },
  {
   "cell_type": "markdown",
   "metadata": {
    "collapsed": true
   },
   "source": [
    "Ok.. Now a cool method for tweeting your radar!"
   ]
  },
  {
   "cell_type": "code",
   "execution_count": 5,
   "metadata": {
    "collapsed": true
   },
   "outputs": [],
   "source": [
    "def tweet_my_radar(datetime, radar, tapi, min_lat = None,\n",
    "                  max_lat = None, min_lon = None, \n",
    "                  max_lon = None):\n",
    "    \"\"\"\n",
    "    Fetch a radar from S3, plot it and tweet plus statistics.\n",
    "    \n",
    "    Grab a radar from a site and use the Twitter API\n",
    "    to tweet the PPI from the lowest tilt to twitter.\n",
    "    Also tweet the number of gates above two reflectivity\n",
    "    thresholds and the min and max reflectivity.\n",
    "    \n",
    "    Parameters\n",
    "    ----------\n",
    "    datetime: datetime object\n",
    "        Python datetime object to be passed to the method\n",
    "        to find the nearest radar object from AWS S3 using\n",
    "        boto. \n",
    "    \n",
    "    radar: String\n",
    "        Two number radar code (e.g., 02 Sydney, 66 Brisbane)\n",
    "    \n",
    "    min_lat, max_lat, min_lon, max_lon: floats\n",
    "        bounds for the display\n",
    "        \n",
    "    Returns\n",
    "    -------\n",
    "    None\n",
    "    \n",
    "    \"\"\"\n",
    "    #Get a Py-ART radar Object\n",
    "    my_radar = get_radar_from_aws(radar,b_d )\n",
    "    my_radar.fields['DBZH']['standard_name'] = 'Reflectivity'\n",
    "    my_radar.fields['DBZH']['units'] = 'dBZ'\n",
    "    my_radar.fields['DBZH']['long_name'] = 'Radar Reflectivity Factor'\n",
    "    #Make a display\n",
    "    display = pyart.graph.RadarMapDisplay(my_radar)\n",
    "    fig = plt.figure(figsize = [10,8])\n",
    "    #Plot Z from lowest tilt\n",
    "    display.plot_ppi_map('DBZH', sweep = 1, resolution = 'i',\n",
    "                        vmin = -8, vmax = 64, mask_outside = False,\n",
    "                        cmap = pyart.graph.cm.NWSRef,\n",
    "                        min_lat = min_lat, min_lon = min_lon,\n",
    "                        max_lat = max_lat, max_lon = max_lon)\n",
    "    #get a tempfile\n",
    "    localfile = tempfile.NamedTemporaryFile()\n",
    "    #Save to tempfile.. Need png or Twitter gets grumpy \n",
    "    plt.savefig(localfile.name + '.png')\n",
    "    print(localfile.name)\n",
    "    #Now grab some statistics.. \n",
    "    min_z = my_radar.fields['DBZH']['data'].min()\n",
    "    max_z = my_radar.fields['DBZH']['data'].max()\n",
    "    n_gates_20 = len(np.where(my_radar.fields['DBZH']['data'] > 20.0)[0])\n",
    "    n_gates_40 = len(np.where(my_radar.fields['DBZH']['data'] > 40.0)[0])\n",
    "    \n",
    "    #Format the strings.. TODO: turn into percent\n",
    "    gdata = \"There are {0} gates above 20dBZ and {1} above 40dBZ\".format(n_gates_20, \n",
    "                                                                     n_gates_40)\n",
    "    \n",
    "    #Make the tweet text\n",
    "    mmdata = \"The min Z is {0}dBZ and the max is {1}dBZ\".format(min_z,\n",
    "                                                            max_z)\n",
    "    #And... post it.. yes.. it is that easy!\n",
    "    tapi.PostUpdate( gdata + ' ' + mmdata, \n",
    "              media = localfile.name + '.png')\n",
    "    "
   ]
  },
  {
   "cell_type": "code",
   "execution_count": 13,
   "metadata": {
    "collapsed": false
   },
   "outputs": [
    {
     "ename": "S3ResponseError",
     "evalue": "S3ResponseError: 403 Forbidden\n",
     "output_type": "error",
     "traceback": [
      "\u001b[1;31m---------------------------------------------------------------------------\u001b[0m",
      "\u001b[1;31mS3ResponseError\u001b[0m                           Traceback (most recent call last)",
      "\u001b[1;32m<ipython-input-13-a195848187ef>\u001b[0m in \u001b[0;36m<module>\u001b[1;34m()\u001b[0m\n\u001b[0;32m     12\u001b[0m tweet_my_radar(b_d, radar, api, min_lat = min_lat,\n\u001b[0;32m     13\u001b[0m                   \u001b[0mmax_lat\u001b[0m \u001b[1;33m=\u001b[0m \u001b[0mmax_lat\u001b[0m\u001b[1;33m,\u001b[0m \u001b[0mmin_lon\u001b[0m \u001b[1;33m=\u001b[0m \u001b[0mmin_lon\u001b[0m\u001b[1;33m,\u001b[0m\u001b[1;33m\u001b[0m\u001b[0m\n\u001b[1;32m---> 14\u001b[1;33m                   max_lon = max_lon)\n\u001b[0m",
      "\u001b[1;32m<ipython-input-5-88dd7f982f38>\u001b[0m in \u001b[0;36mtweet_my_radar\u001b[1;34m(datetime, radar, tapi, min_lat, max_lat, min_lon, max_lon)\u001b[0m\n\u001b[0;32m     29\u001b[0m     \"\"\"\n\u001b[0;32m     30\u001b[0m     \u001b[1;31m#Get a Py-ART radar Object\u001b[0m\u001b[1;33m\u001b[0m\u001b[1;33m\u001b[0m\u001b[0m\n\u001b[1;32m---> 31\u001b[1;33m     \u001b[0mmy_radar\u001b[0m \u001b[1;33m=\u001b[0m \u001b[0mget_radar_from_aws\u001b[0m\u001b[1;33m(\u001b[0m\u001b[0mradar\u001b[0m\u001b[1;33m,\u001b[0m\u001b[0mb_d\u001b[0m \u001b[1;33m)\u001b[0m\u001b[1;33m\u001b[0m\u001b[0m\n\u001b[0m\u001b[0;32m     32\u001b[0m     \u001b[0mmy_radar\u001b[0m\u001b[1;33m.\u001b[0m\u001b[0mfields\u001b[0m\u001b[1;33m[\u001b[0m\u001b[1;34m'DBZH'\u001b[0m\u001b[1;33m]\u001b[0m\u001b[1;33m[\u001b[0m\u001b[1;34m'standard_name'\u001b[0m\u001b[1;33m]\u001b[0m \u001b[1;33m=\u001b[0m \u001b[1;34m'Reflectivity'\u001b[0m\u001b[1;33m\u001b[0m\u001b[0m\n\u001b[0;32m     33\u001b[0m     \u001b[0mmy_radar\u001b[0m\u001b[1;33m.\u001b[0m\u001b[0mfields\u001b[0m\u001b[1;33m[\u001b[0m\u001b[1;34m'DBZH'\u001b[0m\u001b[1;33m]\u001b[0m\u001b[1;33m[\u001b[0m\u001b[1;34m'units'\u001b[0m\u001b[1;33m]\u001b[0m \u001b[1;33m=\u001b[0m \u001b[1;34m'dBZ'\u001b[0m\u001b[1;33m\u001b[0m\u001b[0m\n",
      "\u001b[1;32m<ipython-input-2-3de5709be74d>\u001b[0m in \u001b[0;36mget_radar_from_aws\u001b[1;34m(site, datetime_t)\u001b[0m\n\u001b[0;32m     21\u001b[0m \u001b[1;33m\u001b[0m\u001b[0m\n\u001b[0;32m     22\u001b[0m     \u001b[0mconn\u001b[0m \u001b[1;33m=\u001b[0m \u001b[0mS3Connection\u001b[0m\u001b[1;33m(\u001b[0m\u001b[0manon\u001b[0m \u001b[1;33m=\u001b[0m \u001b[0mTrue\u001b[0m\u001b[1;33m)\u001b[0m\u001b[1;33m\u001b[0m\u001b[0m\n\u001b[1;32m---> 23\u001b[1;33m     \u001b[0mbucket\u001b[0m \u001b[1;33m=\u001b[0m \u001b[0mconn\u001b[0m\u001b[1;33m.\u001b[0m\u001b[0mget_bucket\u001b[0m\u001b[1;33m(\u001b[0m\u001b[1;34m'roames-wxradar-archive'\u001b[0m\u001b[1;33m)\u001b[0m\u001b[1;33m\u001b[0m\u001b[0m\n\u001b[0m\u001b[0;32m     24\u001b[0m \u001b[1;33m\u001b[0m\u001b[0m\n\u001b[0;32m     25\u001b[0m     \u001b[1;31m#Get a list of files\u001b[0m\u001b[1;33m\u001b[0m\u001b[1;33m\u001b[0m\u001b[0m\n",
      "\u001b[1;32m/home/meso/anaconda2/lib/python2.7/site-packages/boto/s3/connection.pyc\u001b[0m in \u001b[0;36mget_bucket\u001b[1;34m(self, bucket_name, validate, headers)\u001b[0m\n\u001b[0;32m    504\u001b[0m         \"\"\"\n\u001b[0;32m    505\u001b[0m         \u001b[1;32mif\u001b[0m \u001b[0mvalidate\u001b[0m\u001b[1;33m:\u001b[0m\u001b[1;33m\u001b[0m\u001b[0m\n\u001b[1;32m--> 506\u001b[1;33m             \u001b[1;32mreturn\u001b[0m \u001b[0mself\u001b[0m\u001b[1;33m.\u001b[0m\u001b[0mhead_bucket\u001b[0m\u001b[1;33m(\u001b[0m\u001b[0mbucket_name\u001b[0m\u001b[1;33m,\u001b[0m \u001b[0mheaders\u001b[0m\u001b[1;33m=\u001b[0m\u001b[0mheaders\u001b[0m\u001b[1;33m)\u001b[0m\u001b[1;33m\u001b[0m\u001b[0m\n\u001b[0m\u001b[0;32m    507\u001b[0m         \u001b[1;32melse\u001b[0m\u001b[1;33m:\u001b[0m\u001b[1;33m\u001b[0m\u001b[0m\n\u001b[0;32m    508\u001b[0m             \u001b[1;32mreturn\u001b[0m \u001b[0mself\u001b[0m\u001b[1;33m.\u001b[0m\u001b[0mbucket_class\u001b[0m\u001b[1;33m(\u001b[0m\u001b[0mself\u001b[0m\u001b[1;33m,\u001b[0m \u001b[0mbucket_name\u001b[0m\u001b[1;33m)\u001b[0m\u001b[1;33m\u001b[0m\u001b[0m\n",
      "\u001b[1;32m/home/meso/anaconda2/lib/python2.7/site-packages/boto/s3/connection.pyc\u001b[0m in \u001b[0;36mhead_bucket\u001b[1;34m(self, bucket_name, headers)\u001b[0m\n\u001b[0;32m    537\u001b[0m             \u001b[0merr\u001b[0m\u001b[1;33m.\u001b[0m\u001b[0merror_code\u001b[0m \u001b[1;33m=\u001b[0m \u001b[1;34m'AccessDenied'\u001b[0m\u001b[1;33m\u001b[0m\u001b[0m\n\u001b[0;32m    538\u001b[0m             \u001b[0merr\u001b[0m\u001b[1;33m.\u001b[0m\u001b[0merror_message\u001b[0m \u001b[1;33m=\u001b[0m \u001b[1;34m'Access Denied'\u001b[0m\u001b[1;33m\u001b[0m\u001b[0m\n\u001b[1;32m--> 539\u001b[1;33m             \u001b[1;32mraise\u001b[0m \u001b[0merr\u001b[0m\u001b[1;33m\u001b[0m\u001b[0m\n\u001b[0m\u001b[0;32m    540\u001b[0m         \u001b[1;32melif\u001b[0m \u001b[0mresponse\u001b[0m\u001b[1;33m.\u001b[0m\u001b[0mstatus\u001b[0m \u001b[1;33m==\u001b[0m \u001b[1;36m404\u001b[0m\u001b[1;33m:\u001b[0m\u001b[1;33m\u001b[0m\u001b[0m\n\u001b[0;32m    541\u001b[0m             \u001b[1;31m# For backward-compatibility, we'll populate part of the exception\u001b[0m\u001b[1;33m\u001b[0m\u001b[1;33m\u001b[0m\u001b[0m\n",
      "\u001b[1;31mS3ResponseError\u001b[0m: S3ResponseError: 403 Forbidden\n"
     ]
    }
   ],
   "source": [
    "#2014 hailstorm for Brisbane\n",
    "\n",
    "base_date = \"20141127_060000\"\n",
    "radar     = \"66\"\n",
    "fmt = '%Y%m%d_%H%M%S' \n",
    "b_d = datetime.strptime(base_date, fmt)\n",
    "min_lat = -28.6\n",
    "max_lat = -26.8\n",
    "min_lon = 152.2\n",
    "max_lon = 154.2\n",
    "\n",
    "tweet_my_radar(b_d, radar, api, min_lat = min_lat,\n",
    "                  max_lat = max_lat, min_lon = min_lon, \n",
    "                  max_lon = max_lon)"
   ]
  },
  {
   "cell_type": "code",
   "execution_count": 8,
   "metadata": {
    "collapsed": false
   },
   "outputs": [
    {
     "ename": "S3ResponseError",
     "evalue": "S3ResponseError: 403 Forbidden\n",
     "output_type": "error",
     "traceback": [
      "\u001b[1;31m---------------------------------------------------------------------------\u001b[0m",
      "\u001b[1;31mS3ResponseError\u001b[0m                           Traceback (most recent call last)",
      "\u001b[1;32m<ipython-input-8-ad219b5a6945>\u001b[0m in \u001b[0;36m<module>\u001b[1;34m()\u001b[0m\n\u001b[0;32m     10\u001b[0m tweet_my_radar(b_d, radar, api, min_lat = min_lat,\n\u001b[0;32m     11\u001b[0m                   \u001b[0mmax_lat\u001b[0m \u001b[1;33m=\u001b[0m \u001b[0mmax_lat\u001b[0m\u001b[1;33m,\u001b[0m \u001b[0mmin_lon\u001b[0m \u001b[1;33m=\u001b[0m \u001b[0mmin_lon\u001b[0m\u001b[1;33m,\u001b[0m\u001b[1;33m\u001b[0m\u001b[0m\n\u001b[1;32m---> 12\u001b[1;33m                   max_lon = max_lon)\n\u001b[0m",
      "\u001b[1;32m<ipython-input-5-88dd7f982f38>\u001b[0m in \u001b[0;36mtweet_my_radar\u001b[1;34m(datetime, radar, tapi, min_lat, max_lat, min_lon, max_lon)\u001b[0m\n\u001b[0;32m     29\u001b[0m     \"\"\"\n\u001b[0;32m     30\u001b[0m     \u001b[1;31m#Get a Py-ART radar Object\u001b[0m\u001b[1;33m\u001b[0m\u001b[1;33m\u001b[0m\u001b[0m\n\u001b[1;32m---> 31\u001b[1;33m     \u001b[0mmy_radar\u001b[0m \u001b[1;33m=\u001b[0m \u001b[0mget_radar_from_aws\u001b[0m\u001b[1;33m(\u001b[0m\u001b[0mradar\u001b[0m\u001b[1;33m,\u001b[0m\u001b[0mb_d\u001b[0m \u001b[1;33m)\u001b[0m\u001b[1;33m\u001b[0m\u001b[0m\n\u001b[0m\u001b[0;32m     32\u001b[0m     \u001b[0mmy_radar\u001b[0m\u001b[1;33m.\u001b[0m\u001b[0mfields\u001b[0m\u001b[1;33m[\u001b[0m\u001b[1;34m'DBZH'\u001b[0m\u001b[1;33m]\u001b[0m\u001b[1;33m[\u001b[0m\u001b[1;34m'standard_name'\u001b[0m\u001b[1;33m]\u001b[0m \u001b[1;33m=\u001b[0m \u001b[1;34m'Reflectivity'\u001b[0m\u001b[1;33m\u001b[0m\u001b[0m\n\u001b[0;32m     33\u001b[0m     \u001b[0mmy_radar\u001b[0m\u001b[1;33m.\u001b[0m\u001b[0mfields\u001b[0m\u001b[1;33m[\u001b[0m\u001b[1;34m'DBZH'\u001b[0m\u001b[1;33m]\u001b[0m\u001b[1;33m[\u001b[0m\u001b[1;34m'units'\u001b[0m\u001b[1;33m]\u001b[0m \u001b[1;33m=\u001b[0m \u001b[1;34m'dBZ'\u001b[0m\u001b[1;33m\u001b[0m\u001b[0m\n",
      "\u001b[1;32m<ipython-input-2-3de5709be74d>\u001b[0m in \u001b[0;36mget_radar_from_aws\u001b[1;34m(site, datetime_t)\u001b[0m\n\u001b[0;32m     21\u001b[0m \u001b[1;33m\u001b[0m\u001b[0m\n\u001b[0;32m     22\u001b[0m     \u001b[0mconn\u001b[0m \u001b[1;33m=\u001b[0m \u001b[0mS3Connection\u001b[0m\u001b[1;33m(\u001b[0m\u001b[0manon\u001b[0m \u001b[1;33m=\u001b[0m \u001b[0mTrue\u001b[0m\u001b[1;33m)\u001b[0m\u001b[1;33m\u001b[0m\u001b[0m\n\u001b[1;32m---> 23\u001b[1;33m     \u001b[0mbucket\u001b[0m \u001b[1;33m=\u001b[0m \u001b[0mconn\u001b[0m\u001b[1;33m.\u001b[0m\u001b[0mget_bucket\u001b[0m\u001b[1;33m(\u001b[0m\u001b[1;34m'roames-wxradar-archive'\u001b[0m\u001b[1;33m)\u001b[0m\u001b[1;33m\u001b[0m\u001b[0m\n\u001b[0m\u001b[0;32m     24\u001b[0m \u001b[1;33m\u001b[0m\u001b[0m\n\u001b[0;32m     25\u001b[0m     \u001b[1;31m#Get a list of files\u001b[0m\u001b[1;33m\u001b[0m\u001b[1;33m\u001b[0m\u001b[0m\n",
      "\u001b[1;32m/home/meso/anaconda2/lib/python2.7/site-packages/boto/s3/connection.pyc\u001b[0m in \u001b[0;36mget_bucket\u001b[1;34m(self, bucket_name, validate, headers)\u001b[0m\n\u001b[0;32m    504\u001b[0m         \"\"\"\n\u001b[0;32m    505\u001b[0m         \u001b[1;32mif\u001b[0m \u001b[0mvalidate\u001b[0m\u001b[1;33m:\u001b[0m\u001b[1;33m\u001b[0m\u001b[0m\n\u001b[1;32m--> 506\u001b[1;33m             \u001b[1;32mreturn\u001b[0m \u001b[0mself\u001b[0m\u001b[1;33m.\u001b[0m\u001b[0mhead_bucket\u001b[0m\u001b[1;33m(\u001b[0m\u001b[0mbucket_name\u001b[0m\u001b[1;33m,\u001b[0m \u001b[0mheaders\u001b[0m\u001b[1;33m=\u001b[0m\u001b[0mheaders\u001b[0m\u001b[1;33m)\u001b[0m\u001b[1;33m\u001b[0m\u001b[0m\n\u001b[0m\u001b[0;32m    507\u001b[0m         \u001b[1;32melse\u001b[0m\u001b[1;33m:\u001b[0m\u001b[1;33m\u001b[0m\u001b[0m\n\u001b[0;32m    508\u001b[0m             \u001b[1;32mreturn\u001b[0m \u001b[0mself\u001b[0m\u001b[1;33m.\u001b[0m\u001b[0mbucket_class\u001b[0m\u001b[1;33m(\u001b[0m\u001b[0mself\u001b[0m\u001b[1;33m,\u001b[0m \u001b[0mbucket_name\u001b[0m\u001b[1;33m)\u001b[0m\u001b[1;33m\u001b[0m\u001b[0m\n",
      "\u001b[1;32m/home/meso/anaconda2/lib/python2.7/site-packages/boto/s3/connection.pyc\u001b[0m in \u001b[0;36mhead_bucket\u001b[1;34m(self, bucket_name, headers)\u001b[0m\n\u001b[0;32m    537\u001b[0m             \u001b[0merr\u001b[0m\u001b[1;33m.\u001b[0m\u001b[0merror_code\u001b[0m \u001b[1;33m=\u001b[0m \u001b[1;34m'AccessDenied'\u001b[0m\u001b[1;33m\u001b[0m\u001b[0m\n\u001b[0;32m    538\u001b[0m             \u001b[0merr\u001b[0m\u001b[1;33m.\u001b[0m\u001b[0merror_message\u001b[0m \u001b[1;33m=\u001b[0m \u001b[1;34m'Access Denied'\u001b[0m\u001b[1;33m\u001b[0m\u001b[0m\n\u001b[1;32m--> 539\u001b[1;33m             \u001b[1;32mraise\u001b[0m \u001b[0merr\u001b[0m\u001b[1;33m\u001b[0m\u001b[0m\n\u001b[0m\u001b[0;32m    540\u001b[0m         \u001b[1;32melif\u001b[0m \u001b[0mresponse\u001b[0m\u001b[1;33m.\u001b[0m\u001b[0mstatus\u001b[0m \u001b[1;33m==\u001b[0m \u001b[1;36m404\u001b[0m\u001b[1;33m:\u001b[0m\u001b[1;33m\u001b[0m\u001b[0m\n\u001b[0;32m    541\u001b[0m             \u001b[1;31m# For backward-compatibility, we'll populate part of the exception\u001b[0m\u001b[1;33m\u001b[0m\u001b[1;33m\u001b[0m\u001b[0m\n",
      "\u001b[1;31mS3ResponseError\u001b[0m: S3ResponseError: 403 Forbidden\n"
     ]
    }
   ],
   "source": [
    "#now for Brisbane\n",
    "\n",
    "radar   = \"66\"\n",
    "b_d     = datetime.now()\n",
    "min_lat = -28.6\n",
    "max_lat = -26.8\n",
    "min_lon = 152.2\n",
    "max_lon = 154.2\n",
    "\n",
    "tweet_my_radar(b_d, radar, api, min_lat = min_lat,\n",
    "                  max_lat = max_lat, min_lon = min_lon, \n",
    "                  max_lon = max_lon)"
   ]
  },
  {
   "cell_type": "code",
   "execution_count": null,
   "metadata": {
    "collapsed": true
   },
   "outputs": [],
   "source": []
  }
 ],
 "metadata": {
  "anaconda-cloud": {},
  "kernelspec": {
   "display_name": "Python [Root]",
   "language": "python",
   "name": "Python [Root]"
  },
  "language_info": {
   "codemirror_mode": {
    "name": "ipython",
    "version": 2
   },
   "file_extension": ".py",
   "mimetype": "text/x-python",
   "name": "python",
   "nbconvert_exporter": "python",
   "pygments_lexer": "ipython2",
   "version": "2.7.12"
  }
 },
 "nbformat": 4,
 "nbformat_minor": 1
}
