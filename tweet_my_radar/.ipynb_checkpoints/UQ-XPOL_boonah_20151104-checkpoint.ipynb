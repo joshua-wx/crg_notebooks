{
 "cells": [
  {
   "cell_type": "code",
   "execution_count": 96,
   "metadata": {
    "collapsed": false
   },
   "outputs": [
    {
     "name": "stdout",
     "output_type": "stream",
     "text": [
      "\n",
      "====================================================================\n",
      "Create an RHI plot with reflectivity contour lines from an MDV file\n",
      "====================================================================\n",
      "\n",
      "An example which creates an RHI plot of velocity using a RadarDisplay object\n",
      "and adding Reflectivity contours from the same MDV file.\n",
      "\n",
      "\n"
     ]
    }
   ],
   "source": [
    "%matplotlib inline\n",
    "\n",
    "\"\"\"\n",
    "====================================================================\n",
    "Create an RHI plot with reflectivity contour lines from an MDV file\n",
    "====================================================================\n",
    "\n",
    "An example which creates an RHI plot of velocity using a RadarDisplay object\n",
    "and adding Reflectivity contours from the same MDV file.\n",
    "\n",
    "\"\"\"\n",
    "print __doc__\n",
    "\n",
    "# Author: Cory Weber (cweber@anl.gov)\n",
    "# License: BSD 3 clause\n",
    "import matplotlib.pyplot as plt\n",
    "import pyart\n",
    "import numpy as np\n",
    "import scipy.ndimage as spyi\n",
    "import os\n",
    "\n",
    "root_path = '/home/meso/boonah_srhi/test/'\n",
    "sweep     = 0\n",
    "nyq       = 50\n",
    "v_min     = -15\n",
    "v_max     = 15\n",
    "# save figure\n",
    "#plt.savefig(out_fn, dpi=100)\n"
   ]
  },
  {
   "cell_type": "code",
   "execution_count": 103,
   "metadata": {
    "collapsed": false
   },
   "outputs": [],
   "source": [
    "def plot_rhi(in_fn,out_fn):\n",
    "    #Since the names in the HDF5 file are non-standard we use file_field_names = True\n",
    "    #Since the names in the HDF5 file are non-standard we use file_field_names = True\n",
    "    radar = pyart.aux_io.read_odim_h5(in_fn, file_field_names=True) \n",
    "    \n",
    "    #rename fields\n",
    "    radar.fields['DBZH']['standard_name'] = 'Reflectivity'\n",
    "    radar.fields['DBZH']['units'] = 'dBZ'\n",
    "    radar.fields['DBZH']['long_name'] = 'Radar Reflectivity Factor'\n",
    "    radar.fields['VRADH']['standard_name'] = 'Velocity'\n",
    "    radar.fields['VRADH']['units'] = 'm/s'\n",
    "    radar.fields['VRADH']['long_name'] = 'Radial Velocity of Scatterers'\n",
    "\n",
    "    #exclude mask\n",
    "    gatefilter = pyart.correct.GateFilter(radar)\n",
    "    gatefilter.exclude_below('VRADH',v_min)\n",
    "    gatefilter.exclude_above('VRADH',v_max)\n",
    "    corr_vel = pyart.correct.dealias_region_based(\n",
    "        radar, vel_field='VRADH', keep_original=False, \n",
    "        gatefilter = gatefilter, nyquist_vel=nyq, centered = True)\n",
    "    radar.add_field('corrected_VRADH', corr_vel, replace_existing = True)\n",
    "    \n",
    "    #line commented out to show reflectivity\n",
    "    fig = plt.figure(figsize=[10, 10])\n",
    "    ax = fig.add_subplot(111)\n",
    "    display.plot_rhi('smoothed_corrected_VRADH', vmin=v_min, vmax=v_max, sweep=sweep, fig=fig)\n",
    "    display.set_limits(xlim=[7, 27], ylim=[1, 14])\n",
    "\n",
    "    # get data\n",
    "    start = radar.get_start(sweep)\n",
    "    end = radar.get_end(sweep) + 1\n",
    "    data = radar.fields['smoothed_corrected_VRADH']['data'][start:end]\n",
    "\n",
    "    x = radar.gate_x['data'][start:end] / 1000.0\n",
    "    y = radar.gate_y['data'][start:end] / 1000.0\n",
    "    z = radar.gate_z['data'][start:end] / 1000.0\n",
    "\n",
    "    # smooth out the lines\n",
    "    data = spyi.gaussian_filter(data, sigma=2.5)\n",
    "\n",
    "    # calculate (R)ange\n",
    "    R = np.sqrt(x ** 2 + y ** 2) * np.sign(y)\n",
    "    R = -R\n",
    "\n",
    "    # add contours\n",
    "    # creates steps 35 to 100 by 5\n",
    "    neg_levels = [-15, -10, -5]\n",
    "    pos_levels = [5, 10, 15]\n",
    "    # adds coutours to plot\\\n",
    "    neg_contours = ax.contour(R, z, data, neg_levels, linewidths=1.5, colors='k',\n",
    "                          linestyles='dashed', antialiased=True)\n",
    "    zero_contours = ax.contour(R, z, data, 0, linewidths=1.5, colors='#6E6E6E',\n",
    "                          linestyles='dashdot', antialiased=True)\n",
    "    pos_contours = ax.contour(R, z, data, pos_levels, linewidths=1.5, colors='k',\n",
    "                          linestyles='solid', antialiased=True)\n",
    "\n",
    "    # adds contour labels (fmt= '%r' displays 10.0 vs 10.0000)\n",
    "    #plt.clabel(neg_contours, neg_levels, fmt='%r', inline=True, fontsize=10)\n",
    "    #plt.clabel(pos_contours, pos_levels, fmt='%r', inline=True, fontsize=10)\n",
    "\n",
    "    # format plot\n",
    "    # add grid (dotted lines, major axis only)\n",
    "    ax.grid(color='k', linestyle=':', linewidth=1, which='major')\n",
    "    # save figure\n",
    "    plt.savefig(out_fn, dpi=100)\n",
    "    "
   ]
  },
  {
   "cell_type": "code",
   "execution_count": 104,
   "metadata": {
    "collapsed": false
   },
   "outputs": [
    {
     "name": "stdout",
     "output_type": "stream",
     "text": [
      "('processing ', '/home/meso/boonah_srhi/test/uq-xpol_rhi_20151104_083936.h5')\n",
      "('processing ', '/home/meso/boonah_srhi/test/uq-xpol_rhi_20151104_083943.h5')\n",
      "('processing ', '/home/meso/boonah_srhi/test/uq-xpol_rhi_20151104_083949.h5')\n",
      "('processing ', '/home/meso/boonah_srhi/test/uq-xpol_rhi_20151104_083955.h5')\n",
      "('processing ', '/home/meso/boonah_srhi/test/uq-xpol_rhi_20151104_084002.h5')\n",
      "('processing ', '/home/meso/boonah_srhi/test/uq-xpol_rhi_20151104_084008.h5')\n",
      "('processing ', '/home/meso/boonah_srhi/test/uq-xpol_rhi_20151104_084014.h5')\n",
      "('processing ', '/home/meso/boonah_srhi/test/uq-xpol_rhi_20151104_084020.h5')\n",
      "('processing ', '/home/meso/boonah_srhi/test/uq-xpol_rhi_20151104_084027.h5')\n"
     ]
    }
   ],
   "source": [
    "fls    = os.listdir(root_path)\n",
    "fls.sort()\n",
    "\n",
    "i = 0\n",
    "out_dir = 'tmp/boonah_20151104/'\n",
    "\n",
    "for fl in fls:\n",
    "    print('processing ', root_path+ fl)\n",
    "    plot_rhi(root_path+ fl,out_dir+fl+'.png')   \n",
    "    plt.close()\n",
    "    i = i +1"
   ]
  },
  {
   "cell_type": "code",
   "execution_count": null,
   "metadata": {
    "collapsed": true
   },
   "outputs": [],
   "source": []
  },
  {
   "cell_type": "code",
   "execution_count": null,
   "metadata": {
    "collapsed": true
   },
   "outputs": [],
   "source": []
  }
 ],
 "metadata": {
  "kernelspec": {
   "display_name": "Python [Root]",
   "language": "python",
   "name": "Python [Root]"
  },
  "language_info": {
   "codemirror_mode": {
    "name": "ipython",
    "version": 2
   },
   "file_extension": ".py",
   "mimetype": "text/x-python",
   "name": "python",
   "nbconvert_exporter": "python",
   "pygments_lexer": "ipython2",
   "version": "2.7.12"
  }
 },
 "nbformat": 4,
 "nbformat_minor": 0
}
