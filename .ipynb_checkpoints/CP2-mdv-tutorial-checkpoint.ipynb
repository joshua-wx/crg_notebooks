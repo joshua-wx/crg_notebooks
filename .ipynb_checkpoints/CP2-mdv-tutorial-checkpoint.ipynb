{
 "cells": [
  {
   "cell_type": "code",
   "execution_count": 2,
   "metadata": {
    "collapsed": false
   },
   "outputs": [
    {
     "name": "stdout",
     "output_type": "stream",
     "text": [
      "\n",
      "====================================================================\n",
      "Create an RHI plot with reflectivity contour lines from an MDV file\n",
      "====================================================================\n",
      "\n",
      "An example which creates an RHI plot of velocity using a RadarDisplay object\n",
      "and adding Reflectivity contours from the same MDV file.\n",
      "\n",
      "\n"
     ]
    },
    {
     "ename": "AttributeError",
     "evalue": "'Radar' object has no attribute 'gate_x'",
     "output_type": "error",
     "traceback": [
      "\u001b[1;31m---------------------------------------------------------------------------\u001b[0m",
      "\u001b[1;31mAttributeError\u001b[0m                            Traceback (most recent call last)",
      "\u001b[1;32m<ipython-input-2-de59c9ff9cac>\u001b[0m in \u001b[0;36m<module>\u001b[1;34m()\u001b[0m\n\u001b[0;32m     39\u001b[0m \u001b[0mdata\u001b[0m \u001b[1;33m=\u001b[0m \u001b[0mradar\u001b[0m\u001b[1;33m.\u001b[0m\u001b[0mfields\u001b[0m\u001b[1;33m[\u001b[0m\u001b[1;34m'reflectivity'\u001b[0m\u001b[1;33m]\u001b[0m\u001b[1;33m[\u001b[0m\u001b[1;34m'data'\u001b[0m\u001b[1;33m]\u001b[0m\u001b[1;33m[\u001b[0m\u001b[0mstart\u001b[0m\u001b[1;33m:\u001b[0m\u001b[0mend\u001b[0m\u001b[1;33m]\u001b[0m\u001b[1;33m\u001b[0m\u001b[0m\n\u001b[0;32m     40\u001b[0m \u001b[1;33m\u001b[0m\u001b[0m\n\u001b[1;32m---> 41\u001b[1;33m \u001b[0mx\u001b[0m \u001b[1;33m=\u001b[0m \u001b[0mradar\u001b[0m\u001b[1;33m.\u001b[0m\u001b[0mgate_x\u001b[0m\u001b[1;33m[\u001b[0m\u001b[1;34m'data'\u001b[0m\u001b[1;33m]\u001b[0m\u001b[1;33m[\u001b[0m\u001b[0mstart\u001b[0m\u001b[1;33m:\u001b[0m\u001b[0mend\u001b[0m\u001b[1;33m]\u001b[0m \u001b[1;33m/\u001b[0m \u001b[1;36m1000.0\u001b[0m\u001b[1;33m\u001b[0m\u001b[0m\n\u001b[0m\u001b[0;32m     42\u001b[0m \u001b[0my\u001b[0m \u001b[1;33m=\u001b[0m \u001b[0mradar\u001b[0m\u001b[1;33m.\u001b[0m\u001b[0mgate_y\u001b[0m\u001b[1;33m[\u001b[0m\u001b[1;34m'data'\u001b[0m\u001b[1;33m]\u001b[0m\u001b[1;33m[\u001b[0m\u001b[0mstart\u001b[0m\u001b[1;33m:\u001b[0m\u001b[0mend\u001b[0m\u001b[1;33m]\u001b[0m \u001b[1;33m/\u001b[0m \u001b[1;36m1000.0\u001b[0m\u001b[1;33m\u001b[0m\u001b[0m\n\u001b[0;32m     43\u001b[0m \u001b[0mz\u001b[0m \u001b[1;33m=\u001b[0m \u001b[0mradar\u001b[0m\u001b[1;33m.\u001b[0m\u001b[0mgate_z\u001b[0m\u001b[1;33m[\u001b[0m\u001b[1;34m'data'\u001b[0m\u001b[1;33m]\u001b[0m\u001b[1;33m[\u001b[0m\u001b[0mstart\u001b[0m\u001b[1;33m:\u001b[0m\u001b[0mend\u001b[0m\u001b[1;33m]\u001b[0m \u001b[1;33m/\u001b[0m \u001b[1;36m1000.0\u001b[0m\u001b[1;33m\u001b[0m\u001b[0m\n",
      "\u001b[1;31mAttributeError\u001b[0m: 'Radar' object has no attribute 'gate_x'"
     ]
    }
   ],
   "source": [
    "\"\"\"\n",
    "====================================================================\n",
    "Create an RHI plot with reflectivity contour lines from an MDV file\n",
    "====================================================================\n",
    "\n",
    "An example which creates an RHI plot of velocity using a RadarDisplay object\n",
    "and adding Reflectivity contours from the same MDV file.\n",
    "\n",
    "\"\"\"\n",
    "print __doc__\n",
    "\n",
    "# Author: Cory Weber (cweber@anl.gov)\n",
    "# License: BSD 3 clause\n",
    "import matplotlib.pyplot as plt\n",
    "import pyart\n",
    "import numpy as np\n",
    "import scipy.ndimage as spyi\n",
    "\n",
    "filename = 'data/201412111341CP2_rhi_az242.mdv'\n",
    "\n",
    "# create the plot using RadarDisplay\n",
    "sweep = 2\n",
    "# read file\n",
    "radar = pyart.io.read_mdv(filename)\n",
    "display = pyart.graph.RadarDisplay(radar)\n",
    "fig = plt.figure(figsize=[20, 5])\n",
    "ax = fig.add_subplot(111)\n",
    "\n",
    "# plot velocity\n",
    "display.plot('velocity', sweep=sweep, vmin=-15, vmax=15.0, fig=fig,\n",
    "             ax=ax, cmap='pyart_BuDRd18', colorbar_label='Velocity (m/s)')\n",
    "\n",
    "# line commented out to show reflectivity\n",
    "# display.plot('reflectivity', sweep=sweep, vmin=-0, vmax=45.0, fig=fig,ax=ax)\n",
    "\n",
    "# get data\n",
    "start = radar.get_start(sweep)\n",
    "end = radar.get_end(sweep) + 1\n",
    "data = radar.fields['reflectivity']['data'][start:end]\n",
    "\n",
    "x = radar.gate_x['data'][start:end] / 1000.0\n",
    "y = radar.gate_y['data'][start:end] / 1000.0\n",
    "z = radar.gate_z['data'][start:end] / 1000.0\n",
    "\n",
    "# smooth out the lines\n",
    "data = spyi.gaussian_filter(data, sigma=1.2)\n",
    "\n",
    "# calculate (R)ange\n",
    "R = np.sqrt(x ** 2 + y ** 2) * np.sign(y)\n",
    "R = -R\n",
    "display.set_limits(xlim=[25, 0], ylim=[0, 5])\n",
    "\n",
    "# add contours\n",
    "# creates steps 35 to 100 by 5\n",
    "levels = np.arange(35, 100, 5)\n",
    "# adds coutours to plot\n",
    "contours = ax.contour(R, z, data, levels, linewidths=1.5, colors='k',\n",
    "                      linestyles='solid', antialiased=True)\n",
    "\n",
    "# adds contour labels (fmt= '%r' displays 10.0 vs 10.0000)\n",
    "plt.clabel(contours, levels, fmt='%r', inline=True, fontsize=10)\n",
    "\n",
    "\n",
    "# format plot\n",
    "# add grid (dotted lines, major axis only)\n",
    "ax.grid(color='k', linestyle=':', linewidth=1, which='major')\n",
    "\n",
    "# horizontal\n",
    "ax.axhline(0.9, 0, 1, linestyle='solid', color='k', linewidth=2)\n",
    "ax.axhline(1.3, 0, 1, linestyle='dashed', color='k', linewidth=2)\n",
    "# vertical\n",
    "ax.axvline(15, 0, 1, linestyle='solid', color='#00b4ff', linewidth=2)\n",
    "ax.axvline(4.5, 0, 1, linestyle='solid', color='#ff6800', linewidth=2)\n",
    "\n",
    "ax.set_ylabel('Altitude above CP-2 (km)')\n",
    "\n",
    "ax = plt.gca()\n"
   ]
  },
  {
   "cell_type": "code",
   "execution_count": null,
   "metadata": {
    "collapsed": true
   },
   "outputs": [],
   "source": []
  },
  {
   "cell_type": "code",
   "execution_count": null,
   "metadata": {
    "collapsed": true
   },
   "outputs": [],
   "source": []
  }
 ],
 "metadata": {
  "kernelspec": {
   "display_name": "Python 2",
   "language": "python",
   "name": "python2"
  },
  "language_info": {
   "codemirror_mode": {
    "name": "ipython",
    "version": 2
   },
   "file_extension": ".py",
   "mimetype": "text/x-python",
   "name": "python",
   "nbconvert_exporter": "python",
   "pygments_lexer": "ipython2",
   "version": "2.7.11"
  }
 },
 "nbformat": 4,
 "nbformat_minor": 0
}
