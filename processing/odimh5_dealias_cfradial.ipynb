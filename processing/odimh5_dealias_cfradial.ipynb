{
 "cells": [
  {
   "cell_type": "markdown",
   "metadata": {},
   "source": [
    "Load libraries"
   ]
  },
  {
   "cell_type": "code",
   "execution_count": 2,
   "metadata": {
    "collapsed": false
   },
   "outputs": [],
   "source": [
    "#imports\n",
    "from __future__ import print_function\n",
    "import pyart\n",
    "import matplotlib.pyplot as plt\n",
    "import matplotlib\n",
    "%matplotlib inline\n",
    "import numpy as np\n",
    "import h5py\n",
    "from time import time\n",
    "import os\n",
    "from netCDF4 import num2date, date2num"
   ]
  },
  {
   "cell_type": "code",
   "execution_count": 5,
   "metadata": {
    "collapsed": false
   },
   "outputs": [],
   "source": [
    "def odim_to_nc(in_fn,out_fn,kurnell_flag):\n",
    "\n",
    "    #read fn\n",
    "    radar = pyart.aux_io.read_odim_h5(in_fn, file_field_names=True) \n",
    "\n",
    "    #update field names\n",
    "    radar.fields['DBZH']['standard_name'] = 'Reflectivity'\n",
    "    radar.fields['DBZH']['units'] = 'dBZ'\n",
    "    radar.fields['DBZH']['long_name'] = 'Radar Reflectivity Factor'\n",
    "    radar.fields['VRADH']['standard_name'] = 'Velocity'\n",
    "    radar.fields['VRADH']['units'] = 'm/s'\n",
    "    radar.fields['VRADH']['long_name'] = 'Radial Velocity of Scatterers'\n",
    "\n",
    "    #create custom nyquist velocity field (adjusting for kurnell)\n",
    "    hfile = h5py.File(in_fn, 'r')\n",
    "    d1_how = hfile['dataset1']['how'].attrs\n",
    "    NI = d1_how['NI']\n",
    "    NI_vec = np.ones(radar.nsweeps)*NI\n",
    "#    if kurnell_flag == 1:\n",
    "#        NI_onsite = 27\n",
    "#        NI_vec[1:] = NI_onsite\n",
    "    new_dict = {'data': NI_vec, 'units': 'meters_per_second', 'meta_group':'instrument_parameters','comments':'Unambiguous velocity','long_name':'Nyquist Velocity'}\n",
    "    radar.instrument_parameters = {'nyquist_velocity':new_dict}    \n",
    "\n",
    "    #apply dealias filter\n",
    "    gatefilter = pyart.correct.GateFilter(radar)\n",
    "    gatefilter.exclude_masked('DBZH')\n",
    "    corr_vel = pyart.correct.dealias_region_based(radar, vel_field='VRADH', gatefilter = gatefilter, nyquist_vel=NI_vec)\n",
    "    radar.add_field('VRADH_corr', corr_vel, False)\n",
    "\n",
    "    #write to nc\n",
    "    pyart.io.write_cfradial(out_fn, radar)"
   ]
  },
  {
   "cell_type": "code",
   "execution_count": 6,
   "metadata": {
    "collapsed": false
   },
   "outputs": [
    {
     "name": "stdout",
     "output_type": "stream",
     "text": [
      "doing file  1   /run/media/meso/DATA/project_data/SydneyBushFire/71_odimh5/02_20131017_000100.h5\n",
      "doing file  2   /run/media/meso/DATA/project_data/SydneyBushFire/71_odimh5/02_20131017_000700.h5\n",
      "doing file  3   /run/media/meso/DATA/project_data/SydneyBushFire/71_odimh5/02_20131017_001300.h5\n",
      "doing file  4   /run/media/meso/DATA/project_data/SydneyBushFire/71_odimh5/02_20131017_001900.h5\n",
      "doing file  5   /run/media/meso/DATA/project_data/SydneyBushFire/71_odimh5/02_20131017_002500.h5\n",
      "doing file  6   /run/media/meso/DATA/project_data/SydneyBushFire/71_odimh5/02_20131017_003100.h5\n",
      "doing file  7   /run/media/meso/DATA/project_data/SydneyBushFire/71_odimh5/02_20131017_003700.h5\n",
      "doing file  8   /run/media/meso/DATA/project_data/SydneyBushFire/71_odimh5/02_20131017_004300.h5\n",
      "doing file  9   /run/media/meso/DATA/project_data/SydneyBushFire/71_odimh5/02_20131017_004900.h5\n",
      "doing file  10   /run/media/meso/DATA/project_data/SydneyBushFire/71_odimh5/02_20131017_005500.h5\n",
      "doing file  11   /run/media/meso/DATA/project_data/SydneyBushFire/71_odimh5/02_20131017_010100.h5\n",
      "doing file  12   /run/media/meso/DATA/project_data/SydneyBushFire/71_odimh5/02_20131017_010700.h5\n",
      "doing file  13   /run/media/meso/DATA/project_data/SydneyBushFire/71_odimh5/02_20131017_011300.h5\n",
      "doing file  14   /run/media/meso/DATA/project_data/SydneyBushFire/71_odimh5/02_20131017_011900.h5\n",
      "doing file  15   /run/media/meso/DATA/project_data/SydneyBushFire/71_odimh5/02_20131017_012500.h5\n",
      "doing file  16   /run/media/meso/DATA/project_data/SydneyBushFire/71_odimh5/02_20131017_031900.h5\n",
      "doing file  17   /run/media/meso/DATA/project_data/SydneyBushFire/71_odimh5/02_20131017_032500.h5\n",
      "doing file  18   /run/media/meso/DATA/project_data/SydneyBushFire/71_odimh5/02_20131017_033300.h5\n",
      "doing file  19   /run/media/meso/DATA/project_data/SydneyBushFire/71_odimh5/02_20131017_033700.h5\n",
      "doing file  20   /run/media/meso/DATA/project_data/SydneyBushFire/71_odimh5/02_20131017_034300.h5\n",
      "doing file  21   /run/media/meso/DATA/project_data/SydneyBushFire/71_odimh5/02_20131017_034900.h5\n",
      "doing file  22   /run/media/meso/DATA/project_data/SydneyBushFire/71_odimh5/02_20131017_035500.h5\n",
      "doing file  23   /run/media/meso/DATA/project_data/SydneyBushFire/71_odimh5/02_20131017_040100.h5\n",
      "doing file  24   /run/media/meso/DATA/project_data/SydneyBushFire/71_odimh5/02_20131017_040700.h5\n",
      "doing file  25   /run/media/meso/DATA/project_data/SydneyBushFire/71_odimh5/02_20131017_041300.h5\n",
      "doing file  26   /run/media/meso/DATA/project_data/SydneyBushFire/71_odimh5/02_20131017_041900.h5\n",
      "doing file  27   /run/media/meso/DATA/project_data/SydneyBushFire/71_odimh5/02_20131017_042500.h5\n",
      "doing file  28   /run/media/meso/DATA/project_data/SydneyBushFire/71_odimh5/02_20131017_043100.h5\n",
      "doing file  29   /run/media/meso/DATA/project_data/SydneyBushFire/71_odimh5/02_20131017_043700.h5\n",
      "doing file  30   /run/media/meso/DATA/project_data/SydneyBushFire/71_odimh5/02_20131017_044300.h5\n",
      "doing file  31   /run/media/meso/DATA/project_data/SydneyBushFire/71_odimh5/02_20131017_044900.h5\n",
      "doing file  32   /run/media/meso/DATA/project_data/SydneyBushFire/71_odimh5/02_20131017_045500.h5\n",
      "doing file  33   /run/media/meso/DATA/project_data/SydneyBushFire/71_odimh5/02_20131017_050100.h5\n",
      "doing file  34   /run/media/meso/DATA/project_data/SydneyBushFire/71_odimh5/02_20131017_050700.h5\n",
      "doing file  35   /run/media/meso/DATA/project_data/SydneyBushFire/71_odimh5/02_20131017_051300.h5\n",
      "doing file  36   /run/media/meso/DATA/project_data/SydneyBushFire/71_odimh5/02_20131017_051900.h5\n",
      "doing file  37   /run/media/meso/DATA/project_data/SydneyBushFire/71_odimh5/02_20131017_052500.h5\n",
      "doing file  38   /run/media/meso/DATA/project_data/SydneyBushFire/71_odimh5/02_20131017_053100.h5\n",
      "doing file  39   /run/media/meso/DATA/project_data/SydneyBushFire/71_odimh5/02_20131017_053700.h5\n",
      "doing file  40   /run/media/meso/DATA/project_data/SydneyBushFire/71_odimh5/02_20131017_054300.h5\n",
      "doing file  41   /run/media/meso/DATA/project_data/SydneyBushFire/71_odimh5/02_20131017_054900.h5\n",
      "doing file  42   /run/media/meso/DATA/project_data/SydneyBushFire/71_odimh5/02_20131017_055500.h5\n",
      "doing file  43   /run/media/meso/DATA/project_data/SydneyBushFire/71_odimh5/02_20131017_060100.h5\n",
      "doing file  44   /run/media/meso/DATA/project_data/SydneyBushFire/71_odimh5/02_20131017_060700.h5\n",
      "doing file  45   /run/media/meso/DATA/project_data/SydneyBushFire/71_odimh5/02_20131017_061300.h5\n",
      "doing file  46   /run/media/meso/DATA/project_data/SydneyBushFire/71_odimh5/02_20131017_061900.h5\n",
      "doing file  47   /run/media/meso/DATA/project_data/SydneyBushFire/71_odimh5/02_20131017_062500.h5\n",
      "doing file  48   /run/media/meso/DATA/project_data/SydneyBushFire/71_odimh5/02_20131017_063100.h5\n",
      "doing file  49   /run/media/meso/DATA/project_data/SydneyBushFire/71_odimh5/02_20131017_063700.h5\n",
      "doing file  50   /run/media/meso/DATA/project_data/SydneyBushFire/71_odimh5/02_20131017_064300.h5\n",
      "doing file  51   /run/media/meso/DATA/project_data/SydneyBushFire/71_odimh5/02_20131017_064900.h5\n",
      "doing file  52   /run/media/meso/DATA/project_data/SydneyBushFire/71_odimh5/02_20131017_065500.h5\n",
      "doing file  53   /run/media/meso/DATA/project_data/SydneyBushFire/71_odimh5/02_20131017_070100.h5\n",
      "doing file  54   /run/media/meso/DATA/project_data/SydneyBushFire/71_odimh5/02_20131017_070700.h5\n",
      "doing file  55   /run/media/meso/DATA/project_data/SydneyBushFire/71_odimh5/02_20131017_071300.h5\n",
      "doing file  56   /run/media/meso/DATA/project_data/SydneyBushFire/71_odimh5/02_20131017_071900.h5\n",
      "doing file  57   /run/media/meso/DATA/project_data/SydneyBushFire/71_odimh5/02_20131017_072500.h5\n",
      "doing file  58   /run/media/meso/DATA/project_data/SydneyBushFire/71_odimh5/02_20131017_073100.h5\n",
      "doing file  59   /run/media/meso/DATA/project_data/SydneyBushFire/71_odimh5/02_20131017_073700.h5\n",
      "doing file  60   /run/media/meso/DATA/project_data/SydneyBushFire/71_odimh5/02_20131017_074300.h5\n",
      "doing file  61   /run/media/meso/DATA/project_data/SydneyBushFire/71_odimh5/02_20131017_074900.h5\n",
      "doing file  62   /run/media/meso/DATA/project_data/SydneyBushFire/71_odimh5/02_20131017_075500.h5\n",
      "doing file  63   /run/media/meso/DATA/project_data/SydneyBushFire/71_odimh5/02_20131017_080100.h5\n",
      "doing file  64   /run/media/meso/DATA/project_data/SydneyBushFire/71_odimh5/02_20131017_080700.h5\n",
      "doing file  65   /run/media/meso/DATA/project_data/SydneyBushFire/71_odimh5/02_20131017_081300.h5\n",
      "doing file  66   /run/media/meso/DATA/project_data/SydneyBushFire/71_odimh5/02_20131017_081900.h5\n",
      "doing file  67   /run/media/meso/DATA/project_data/SydneyBushFire/71_odimh5/02_20131017_082500.h5\n",
      "doing file  68   /run/media/meso/DATA/project_data/SydneyBushFire/71_odimh5/02_20131017_083100.h5\n",
      "doing file  69   /run/media/meso/DATA/project_data/SydneyBushFire/71_odimh5/02_20131017_083700.h5\n",
      "doing file  70   /run/media/meso/DATA/project_data/SydneyBushFire/71_odimh5/02_20131017_084300.h5\n",
      "doing file  71   /run/media/meso/DATA/project_data/SydneyBushFire/71_odimh5/02_20131017_084900.h5\n",
      "doing file  72   /run/media/meso/DATA/project_data/SydneyBushFire/71_odimh5/02_20131017_085500.h5\n",
      "doing file  73   /run/media/meso/DATA/project_data/SydneyBushFire/71_odimh5/02_20131017_090100.h5\n",
      "doing file  74   /run/media/meso/DATA/project_data/SydneyBushFire/71_odimh5/02_20131017_090700.h5\n",
      "doing file  75   /run/media/meso/DATA/project_data/SydneyBushFire/71_odimh5/02_20131017_091300.h5\n",
      "doing file  76   /run/media/meso/DATA/project_data/SydneyBushFire/71_odimh5/02_20131017_091900.h5\n",
      "doing file  77   /run/media/meso/DATA/project_data/SydneyBushFire/71_odimh5/02_20131017_092500.h5\n",
      "doing file  78   /run/media/meso/DATA/project_data/SydneyBushFire/71_odimh5/02_20131017_093100.h5\n",
      "doing file  79   /run/media/meso/DATA/project_data/SydneyBushFire/71_odimh5/02_20131017_093700.h5\n",
      "doing file  80   /run/media/meso/DATA/project_data/SydneyBushFire/71_odimh5/02_20131017_094300.h5\n",
      "doing file  81   /run/media/meso/DATA/project_data/SydneyBushFire/71_odimh5/02_20131017_094900.h5\n",
      "doing file  82   /run/media/meso/DATA/project_data/SydneyBushFire/71_odimh5/02_20131017_095500.h5\n",
      "doing file  83   /run/media/meso/DATA/project_data/SydneyBushFire/71_odimh5/02_20131017_100100.h5\n",
      "doing file  84   /run/media/meso/DATA/project_data/SydneyBushFire/71_odimh5/02_20131017_100700.h5\n",
      "doing file  85   /run/media/meso/DATA/project_data/SydneyBushFire/71_odimh5/02_20131017_101300.h5\n",
      "doing file  86   /run/media/meso/DATA/project_data/SydneyBushFire/71_odimh5/02_20131017_101900.h5\n",
      "doing file  87   /run/media/meso/DATA/project_data/SydneyBushFire/71_odimh5/02_20131017_102500.h5\n",
      "doing file  88   /run/media/meso/DATA/project_data/SydneyBushFire/71_odimh5/02_20131017_103100.h5\n",
      "doing file  89   /run/media/meso/DATA/project_data/SydneyBushFire/71_odimh5/02_20131017_103700.h5\n",
      "doing file  90   /run/media/meso/DATA/project_data/SydneyBushFire/71_odimh5/02_20131017_104300.h5\n",
      "doing file  91   /run/media/meso/DATA/project_data/SydneyBushFire/71_odimh5/02_20131017_104900.h5\n",
      "doing file  92   /run/media/meso/DATA/project_data/SydneyBushFire/71_odimh5/02_20131017_105500.h5\n",
      "doing file  93   /run/media/meso/DATA/project_data/SydneyBushFire/71_odimh5/02_20131017_110100.h5\n",
      "doing file  94   /run/media/meso/DATA/project_data/SydneyBushFire/71_odimh5/02_20131017_110700.h5\n",
      "doing file  95   /run/media/meso/DATA/project_data/SydneyBushFire/71_odimh5/02_20131017_111300.h5\n",
      "doing file  96   /run/media/meso/DATA/project_data/SydneyBushFire/71_odimh5/02_20131017_111900.h5\n",
      "doing file  97   /run/media/meso/DATA/project_data/SydneyBushFire/71_odimh5/02_20131017_112500.h5\n",
      "doing file  98   /run/media/meso/DATA/project_data/SydneyBushFire/71_odimh5/02_20131017_113100.h5\n",
      "doing file  99   /run/media/meso/DATA/project_data/SydneyBushFire/71_odimh5/02_20131017_113700.h5\n",
      "doing file  100   /run/media/meso/DATA/project_data/SydneyBushFire/71_odimh5/02_20131017_114300.h5\n",
      "doing file  101   /run/media/meso/DATA/project_data/SydneyBushFire/71_odimh5/02_20131017_114900.h5\n",
      "doing file  102   /run/media/meso/DATA/project_data/SydneyBushFire/71_odimh5/02_20131017_115500.h5\n",
      "doing file  103   /run/media/meso/DATA/project_data/SydneyBushFire/71_odimh5/02_20131017_120100.h5\n"
     ]
    }
   ],
   "source": [
    "in_dirr = '/run/media/meso/DATA/project_data/SydneyBushFire/71_odimh5/'\n",
    "out_dirr = '/run/media/meso/DATA/project_data/SydneyBushFire/nick_cf_20131017/71_cfradial/'\n",
    "\n",
    "fls = os.listdir(in_dirr)\n",
    "fls.sort()\n",
    "\n",
    "i = 1\n",
    "for fl in fls:\n",
    "    print('doing file ',i,' ',in_dirr+ fl)\n",
    "    in_fn  = in_dirr+fl\n",
    "    out_fn = out_dirr+fl+'.nc'\n",
    "    odim_to_nc(in_fn,out_fn,0)\n",
    "    i = i +1\n",
    "\n",
    "\n"
   ]
  },
  {
   "cell_type": "code",
   "execution_count": null,
   "metadata": {
    "collapsed": true
   },
   "outputs": [],
   "source": []
  },
  {
   "cell_type": "code",
   "execution_count": null,
   "metadata": {
    "collapsed": true
   },
   "outputs": [],
   "source": []
  }
 ],
 "metadata": {
  "kernelspec": {
   "display_name": "Python [Root]",
   "language": "python",
   "name": "Python [Root]"
  },
  "language_info": {
   "codemirror_mode": {
    "name": "ipython",
    "version": 2
   },
   "file_extension": ".py",
   "mimetype": "text/x-python",
   "name": "python",
   "nbconvert_exporter": "python",
   "pygments_lexer": "ipython2",
   "version": "2.7.12"
  }
 },
 "nbformat": 4,
 "nbformat_minor": 0
}
