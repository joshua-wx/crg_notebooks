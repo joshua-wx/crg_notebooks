{
 "cells": [
  {
   "cell_type": "markdown",
   "metadata": {},
   "source": [
    "Load libraries"
   ]
  },
  {
   "cell_type": "code",
   "execution_count": 2,
   "metadata": {
    "collapsed": false
   },
   "outputs": [],
   "source": [
    "#imports\n",
    "from __future__ import print_function\n",
    "import pyart\n",
    "import matplotlib.pyplot as plt\n",
    "import matplotlib\n",
    "%matplotlib inline\n",
    "import numpy as np\n",
    "import h5py\n",
    "from time import time\n",
    "import os\n",
    "from netCDF4 import num2date, date2num"
   ]
  },
  {
   "cell_type": "code",
   "execution_count": 3,
   "metadata": {
    "collapsed": false
   },
   "outputs": [],
   "source": [
    "def odim_to_nc(in_fn,out_fn,kurnell_flag):\n",
    "\n",
    "    #read fn\n",
    "    radar = pyart.aux_io.read_odim_h5(in_fn, file_field_names=True) \n",
    "\n",
    "    #update field names\n",
    "    radar.fields['DBZH']['standard_name'] = 'Reflectivity'\n",
    "    radar.fields['DBZH']['units'] = 'dBZ'\n",
    "    radar.fields['DBZH']['long_name'] = 'Radar Reflectivity Factor'\n",
    "    radar.fields['VRADH']['standard_name'] = 'Velocity'\n",
    "    radar.fields['VRADH']['units'] = 'm/s'\n",
    "    radar.fields['VRADH']['long_name'] = 'Radial Velocity of Scatterers'\n",
    "\n",
    "    #create custom nyquist velocity field (adjusting for kurnell)\n",
    "    hfile = h5py.File(in_fn, 'r')\n",
    "    d1_how = hfile['dataset1']['how'].attrs\n",
    "    NI = d1_how['NI']\n",
    "    print(NI)\n",
    "\n",
    "    corr_vel = pyart.correct.dealias_region_based(\n",
    "    radar, vel_field='VRADH',nyquist_vel=NI, skip_between_rays=5,skip_along_ray=5,interval_splits=4)\n",
    "\n",
    "    radar.add_field('VRADH_corr', corr_vel, False)\n",
    "\n",
    "    #write to nc\n",
    "    pyart.io.write_cfradial(out_fn, radar)"
   ]
  },
  {
   "cell_type": "code",
   "execution_count": 4,
   "metadata": {
    "collapsed": false
   },
   "outputs": [
    {
     "name": "stdout",
     "output_type": "stream",
     "text": [
      "doing file  1   /run/media/meso/DATA/project_data/SydneyBushFire/71_odimh5/02_20131017_000100.h5\n"
     ]
    },
    {
     "ename": "NameError",
     "evalue": "global name 'fn' is not defined",
     "output_type": "error",
     "traceback": [
      "\u001b[1;31m---------------------------------------------------------------------------\u001b[0m",
      "\u001b[1;31mNameError\u001b[0m                                 Traceback (most recent call last)",
      "\u001b[1;32m<ipython-input-4-bd2397bc6762>\u001b[0m in \u001b[0;36m<module>\u001b[1;34m()\u001b[0m\n\u001b[0;32m     10\u001b[0m     \u001b[0min_fn\u001b[0m  \u001b[1;33m=\u001b[0m \u001b[0min_dirr\u001b[0m\u001b[1;33m+\u001b[0m\u001b[0mfl\u001b[0m\u001b[1;33m\u001b[0m\u001b[0m\n\u001b[0;32m     11\u001b[0m     \u001b[0mout_fn\u001b[0m \u001b[1;33m=\u001b[0m \u001b[0mout_dirr\u001b[0m\u001b[1;33m+\u001b[0m\u001b[0mfl\u001b[0m\u001b[1;33m+\u001b[0m\u001b[1;34m'.nc'\u001b[0m\u001b[1;33m\u001b[0m\u001b[0m\n\u001b[1;32m---> 12\u001b[1;33m     \u001b[0modim_to_nc\u001b[0m\u001b[1;33m(\u001b[0m\u001b[0min_fn\u001b[0m\u001b[1;33m,\u001b[0m\u001b[0mout_fn\u001b[0m\u001b[1;33m,\u001b[0m\u001b[1;36m0\u001b[0m\u001b[1;33m)\u001b[0m\u001b[1;33m\u001b[0m\u001b[0m\n\u001b[0m\u001b[0;32m     13\u001b[0m     \u001b[0mi\u001b[0m \u001b[1;33m=\u001b[0m \u001b[0mi\u001b[0m \u001b[1;33m+\u001b[0m\u001b[1;36m1\u001b[0m\u001b[1;33m\u001b[0m\u001b[0m\n\u001b[0;32m     14\u001b[0m \u001b[1;33m\u001b[0m\u001b[0m\n",
      "\u001b[1;32m<ipython-input-3-2c16ae2f3072>\u001b[0m in \u001b[0;36modim_to_nc\u001b[1;34m(in_fn, out_fn, kurnell_flag)\u001b[0m\n\u001b[0;32m     13\u001b[0m \u001b[1;33m\u001b[0m\u001b[0m\n\u001b[0;32m     14\u001b[0m     \u001b[1;31m#create custom nyquist velocity field (adjusting for kurnell)\u001b[0m\u001b[1;33m\u001b[0m\u001b[1;33m\u001b[0m\u001b[0m\n\u001b[1;32m---> 15\u001b[1;33m     \u001b[0mhfile\u001b[0m \u001b[1;33m=\u001b[0m \u001b[0mh5py\u001b[0m\u001b[1;33m.\u001b[0m\u001b[0mFile\u001b[0m\u001b[1;33m(\u001b[0m\u001b[0mfn\u001b[0m\u001b[1;33m,\u001b[0m \u001b[1;34m'r'\u001b[0m\u001b[1;33m)\u001b[0m\u001b[1;33m\u001b[0m\u001b[0m\n\u001b[0m\u001b[0;32m     16\u001b[0m     \u001b[0md1_how\u001b[0m \u001b[1;33m=\u001b[0m \u001b[0mhfile\u001b[0m\u001b[1;33m[\u001b[0m\u001b[1;34m'dataset1'\u001b[0m\u001b[1;33m]\u001b[0m\u001b[1;33m[\u001b[0m\u001b[1;34m'how'\u001b[0m\u001b[1;33m]\u001b[0m\u001b[1;33m.\u001b[0m\u001b[0mattrs\u001b[0m\u001b[1;33m\u001b[0m\u001b[0m\n\u001b[0;32m     17\u001b[0m     \u001b[0mNI\u001b[0m \u001b[1;33m=\u001b[0m \u001b[0md1_how\u001b[0m\u001b[1;33m[\u001b[0m\u001b[1;34m'NI'\u001b[0m\u001b[1;33m]\u001b[0m\u001b[1;33m\u001b[0m\u001b[0m\n",
      "\u001b[1;31mNameError\u001b[0m: global name 'fn' is not defined"
     ]
    }
   ],
   "source": [
    "in_dirr = '/run/media/meso/DATA/project_data/SydneyBushFire/71_odimh5/'\n",
    "out_dirr = '/run/media/meso/DATA/project_data/SydneyBushFire/nick_cf_20131017/71_cfradial/'\n",
    "\n",
    "fls = os.listdir(in_dirr)\n",
    "fls.sort()\n",
    "\n",
    "i = 1\n",
    "for fl in fls:\n",
    "    print('doing file ',i,' ',in_dirr+ fl)\n",
    "    in_fn  = in_dirr+fl\n",
    "    out_fn = out_dirr+fl+'.nc'\n",
    "    odim_to_nc(in_fn,out_fn,0)\n",
    "    i = i +1\n",
    "\n",
    "\n"
   ]
  },
  {
   "cell_type": "code",
   "execution_count": null,
   "metadata": {
    "collapsed": true
   },
   "outputs": [],
   "source": []
  },
  {
   "cell_type": "code",
   "execution_count": null,
   "metadata": {
    "collapsed": true
   },
   "outputs": [],
   "source": []
  }
 ],
 "metadata": {
  "kernelspec": {
   "display_name": "Python [Root]",
   "language": "python",
   "name": "Python [Root]"
  },
  "language_info": {
   "codemirror_mode": {
    "name": "ipython",
    "version": 2
   },
   "file_extension": ".py",
   "mimetype": "text/x-python",
   "name": "python",
   "nbconvert_exporter": "python",
   "pygments_lexer": "ipython2",
   "version": "2.7.12"
  }
 },
 "nbformat": 4,
 "nbformat_minor": 0
}
