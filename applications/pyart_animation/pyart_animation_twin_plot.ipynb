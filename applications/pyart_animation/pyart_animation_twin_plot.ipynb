{
 "cells": [
  {
   "cell_type": "markdown",
   "metadata": {},
   "source": [
    "# Py-ART Animation\n",
    "### Choosing the radar volume from a Australian radar site over a time span. \n",
    "\n",
    "### Original notebook by Zach Sherman:\n",
    "https://github.com/uq-crg/pyart_animation\n",
    "\n",
    "### Based on code by Scott Collis:\n",
    "https://github.com/scollis/radar_in_the_cloud/blob/master/notebooks/Matthew.ipynb \n",
    "\n",
    "### Jonathan Helmus:\n",
    "https://anaconda.org/jjhelmus/scipy2015_openaccessradar_jjh/notebook\n",
    "\n",
    "### and memory fixes by Robert Jackson:\n",
    "https://github.com/rcjackson/pyart_practice/blob/master/nexrad_animatedgif.py\n",
    "\n",
    "Note: AUS radar s3 files are set in UTC. "
   ]
  },
  {
   "cell_type": "code",
   "execution_count": 1,
   "metadata": {
    "collapsed": false
   },
   "outputs": [
    {
     "name": "stdout",
     "output_type": "stream",
     "text": [
      "\n",
      "## You are using the Python ARM Radar Toolkit (Py-ART), an open source\n",
      "## library for working with weather radar data.\n",
      "##\n",
      "## If you use this software to prepare a publication, please cite:\n",
      "##\n",
      "##     JJ Helmus and SM Collis, JORS 2016, doi: 10.5334/jors.119 \n"
     ]
    }
   ],
   "source": [
    "from boto.s3.connection import S3Connection\n",
    "import pyart\n",
    "import gzip\n",
    "from matplotlib import pyplot as plt\n",
    "from datetime import date, datetime, timedelta\n",
    "from matplotlib import animation\n",
    "from mpl_toolkits.basemap import Basemap\n",
    "from owslib.wms import WebMapService\n",
    "import tempfile\n",
    "import numpy as np\n",
    "import pandas as pd\n",
    "from IPython.display import Image, display\n",
    "%matplotlib inline"
   ]
  },
  {
   "cell_type": "code",
   "execution_count": 2,
   "metadata": {
    "collapsed": false
   },
   "outputs": [],
   "source": [
    "# Function for pulling all keys between two dates at a chosen nexrad site.\n",
    "\n",
    "def ausrad_site_datespan(start_date=None, start_time=None, \n",
    "                         end_date=None, end_time=None, site=None):\n",
    "    \n",
    "    \"\"\"\n",
    "    Get all volumes of NEXRAD data between two particular datetimes.\n",
    "    Parameters\n",
    "    ----------\n",
    "    start_date : string\n",
    "        eight number date, for example '20150623'\n",
    "    start_date_time : string\n",
    "        six number time, for example '145501'\n",
    "    end_date : string\n",
    "        eight number date or 'Now' to retrieve current UTC\n",
    "    end_date_time : string, optional if end_date = 'Now'\n",
    "        six number time\n",
    "    site : string\n",
    "        two digit radar designation number, for example '02' \n",
    "        \n",
    "    \"\"\"\n",
    "    \n",
    "    def datespan(startDate, endDate, delta=timedelta(days=1)):\n",
    "        currentDate = startDate\n",
    "        while currentDate < endDate:\n",
    "            yield currentDate\n",
    "            currentDate += delta\n",
    "\n",
    "    fmt = '%Y/%m/%d_%H:%M:%S' \n",
    "    \n",
    "    # Allows for the choice of now for the end date so current UTC is pulled.\n",
    "    \n",
    "    if end_date.upper() == 'NOW':\n",
    "        e_d_selected = datetime.utcnow()\n",
    "    else:\n",
    "        e_d_selected = datetime.strptime(end_date + '_' + end_time, fmt)\n",
    "\n",
    "    s_d = datetime.strptime(start_date + '_' + start_time, fmt)\n",
    "    e_d = e_d_selected \n",
    "\n",
    "    if s_d > e_d_selected:\n",
    "            raise ValueError('You provided a start date that comes after the end date.')\n",
    "\n",
    "    times = []\n",
    "    for timestamp in datespan((s_d), (e_d), delta=timedelta(days=1)):\n",
    "        time = timestamp\n",
    "        times += [\"odimh5_archive/\" + site + '/' + datetime.strftime(time, '%Y/%m/%d/')]\n",
    "\n",
    "    print times\n",
    "    conn = S3Connection(anon = True)\n",
    "    bucket = conn.get_bucket('roames-wxradar-archive')\n",
    "    \n",
    "    #Get a list of files \n",
    "    \n",
    "    keys = []\n",
    "    datetimes = []\n",
    "    for time in times:\n",
    "        bucket_list = list(bucket.list(time))   \n",
    "        for i in range(len(bucket_list)):\n",
    "            this_str = str(bucket_list[i].key)\n",
    "            if 'h5' in this_str:\n",
    "                endme = this_str[-18:-3]\n",
    "                fmt = '%Y%m%d_%H%M%S' \n",
    "                dt = datetime.strptime(endme, fmt)\n",
    "                datetimes.append(dt)\n",
    "                keys.append(bucket_list[i])\n",
    "\n",
    "    # Code belows chooses all keys between the user's dates.\n",
    "    \n",
    "    d = {'keys': keys}\n",
    "    key_object = pd.DataFrame(data=d, index=pd.to_datetime(datetimes))\n",
    "\n",
    "    selected_keys = key_object.loc[s_d : e_d, :]\n",
    "    #radar_datetimes = selected_keys.index.tolist()\n",
    "    data_keys = selected_keys['keys'].tolist()\n",
    "    return data_keys"
   ]
  },
  {
   "cell_type": "code",
   "execution_count": 3,
   "metadata": {
    "collapsed": false
   },
   "outputs": [],
   "source": [
    "# Conversion of keys to pyart radar objects.\n",
    "\n",
    "def radar_keys_to_data(keys):\n",
    "    localfile = tempfile.NamedTemporaryFile()\n",
    "    keys.get_contents_to_filename(localfile.name)\n",
    "    # Only pulling two scans for the sake of time.\n",
    "    radar = pyart.aux_io.read_odim_h5(localfile.name, file_field_names=True)\n",
    "    radar.fields['DBZH']['standard_name'] = 'Reflectivity'\n",
    "    radar.fields['DBZH']['units'] = 'dBZ'\n",
    "    radar.fields['DBZH']['long_name'] = 'Radar Reflectivity Factor'\n",
    "    radar.fields['VRADH']['standard_name'] = 'Doppler Velocity'\n",
    "    radar.fields['VRADH']['units'] = 'm/s'\n",
    "    radar.fields['VRADH']['long_name'] = 'Radar Doppler Velocity'\n",
    "    return radar"
   ]
  },
  {
   "cell_type": "code",
   "execution_count": 4,
   "metadata": {
    "collapsed": false
   },
   "outputs": [],
   "source": [
    "def generate_layers(max_lat,min_lat,max_lon,min_lon):\n",
    "    \n",
    "    #generate map bounds\n",
    "    lat_dif   = max_lat-min_lat\n",
    "    lon_dif   = max_lon-min_lon\n",
    "    map_x_sz  = int(500*lon_dif)\n",
    "    map_y_sz  = int(500*lat_dif)\n",
    "\n",
    "    #create overly map\n",
    "    wms = WebMapService('http://services.ga.gov.au/site_7/services/Topographic_Base_Map_WM/MapServer/WMSServer?', version='1.1.1')\n",
    "    img = wms.getmap(layers=['Roads_4','Populated_Places_6'],srs='EPSG:4326',bbox=(min_lon, min_lat, max_lon, max_lat),size=(map_x_sz, map_y_sz),format='image/png',transparent=True)\n",
    "    out = open('overlay.png', 'wb')\n",
    "    out.write(img.read())\n",
    "    out.close()  \n",
    "\n",
    "    #create background map\n",
    "    wms = WebMapService('http://ows.terrestris.de/osm-gray/service?', version='1.1.1')\n",
    "    img = wms.getmap(layers=['TOPO-WMS'],srs='EPSG:4326',bbox=(min_lon, min_lat, max_lon, max_lat),size=(map_x_sz, map_y_sz),format='image/png',transparent=True)\n",
    "    out = open('background.png', 'wb')\n",
    "    out.write(img.read())\n",
    "    out.close() "
   ]
  },
  {
   "cell_type": "code",
   "execution_count": 5,
   "metadata": {
    "collapsed": false
   },
   "outputs": [],
   "source": [
    "# Creating a gif of all volumes between both dates.\n",
    "def animate(nframe):\n",
    "    plt.clf()\n",
    "    #create radar display object\n",
    "    radar   = radar_keys_to_data(my_data_keys[nframe])\n",
    "    display = pyart.graph.RadarMapDisplay(radar)\n",
    "    \n",
    "    #refl plot\n",
    "    plt.subplot(1,2,1)\n",
    "    #create basemap\n",
    "    ref_m = Basemap(llcrnrlon=min_lon,\n",
    "            llcrnrlat=min_lat,\n",
    "            urcrnrlon=max_lon,\n",
    "            urcrnrlat=max_lat, \n",
    "            projection='tmerc', \n",
    "            resolution = bm_res,\n",
    "            epsg = 3857)\n",
    "    #load background image\n",
    "    im = plt.imread('background.png')\n",
    "    ref_m.imshow(im,zorder = 0,origin='upper')\n",
    "    #plot radar data\n",
    "    display.plot_ppi_map('DBZH', sweep=sweep, resolution=bm_res,\n",
    "                         vmin=refl_min, vmax=refl_max, mask_outside=False,\n",
    "                         cmap=pyart.graph.cm.NWSRef,lat_lines=lal, lon_lines=lol,\n",
    "                         basemap = ref_m, zorder = 1)\n",
    "    #overlay mapping data\n",
    "    im = plt.imread('overlay.png')\n",
    "    ref_m.imshow(im,zorder = 2,origin='upper')\n",
    "    #overlay countries\n",
    "    display.basemap.drawcounties()\n",
    "    \n",
    "    #refl plot\n",
    "    plt.subplot(1,2,2)\n",
    "    #create basemap\n",
    "    ref_m = Basemap(llcrnrlon=min_lon,\n",
    "            llcrnrlat=min_lat,\n",
    "            urcrnrlon=max_lon,\n",
    "            urcrnrlat=max_lat, \n",
    "            projection='tmerc', \n",
    "            resolution = bm_res,\n",
    "            epsg = 3857)\n",
    "    #load background image\n",
    "    im = plt.imread('background.png')\n",
    "    ref_m.imshow(im,zorder = 0,origin='upper')\n",
    "    #plot radar data\n",
    "    display.plot_ppi_map('VRADH', sweep=sweep, resolution=bm_res,\n",
    "                         vmin=vel_min, vmax=vel_max, mask_outside=False,\n",
    "                         cmap=pyart.graph.cm.NWSVel,lat_lines=lal, lon_lines=lol,\n",
    "                         basemap = ref_m, zorder = 1)\n",
    "    #overlay mapping data\n",
    "    im = plt.imread('overlay.png')\n",
    "    ref_m.imshow(im,zorder = 2,origin='upper')    \n",
    "    #overlay countries\n",
    "    display.basemap.drawcounties()"
   ]
  },
  {
   "cell_type": "code",
   "execution_count": 6,
   "metadata": {
    "collapsed": false
   },
   "outputs": [
    {
     "name": "stdout",
     "output_type": "stream",
     "text": [
      "['odimh5_archive/66/2016/12/18/']\n",
      "[<Key: roames-wxradar-archive,odimh5_archive/66/2016/12/18/66_20161218_030000.h5>, <Key: roames-wxradar-archive,odimh5_archive/66/2016/12/18/66_20161218_030600.h5>, <Key: roames-wxradar-archive,odimh5_archive/66/2016/12/18/66_20161218_031200.h5>, <Key: roames-wxradar-archive,odimh5_archive/66/2016/12/18/66_20161218_031800.h5>, <Key: roames-wxradar-archive,odimh5_archive/66/2016/12/18/66_20161218_032400.h5>, <Key: roames-wxradar-archive,odimh5_archive/66/2016/12/18/66_20161218_033000.h5>, <Key: roames-wxradar-archive,odimh5_archive/66/2016/12/18/66_20161218_033600.h5>, <Key: roames-wxradar-archive,odimh5_archive/66/2016/12/18/66_20161218_034200.h5>, <Key: roames-wxradar-archive,odimh5_archive/66/2016/12/18/66_20161218_034800.h5>, <Key: roames-wxradar-archive,odimh5_archive/66/2016/12/18/66_20161218_035400.h5>, <Key: roames-wxradar-archive,odimh5_archive/66/2016/12/18/66_20161218_040000.h5>, <Key: roames-wxradar-archive,odimh5_archive/66/2016/12/18/66_20161218_040600.h5>, <Key: roames-wxradar-archive,odimh5_archive/66/2016/12/18/66_20161218_041200.h5>, <Key: roames-wxradar-archive,odimh5_archive/66/2016/12/18/66_20161218_041800.h5>, <Key: roames-wxradar-archive,odimh5_archive/66/2016/12/18/66_20161218_042400.h5>, <Key: roames-wxradar-archive,odimh5_archive/66/2016/12/18/66_20161218_043000.h5>, <Key: roames-wxradar-archive,odimh5_archive/66/2016/12/18/66_20161218_043600.h5>, <Key: roames-wxradar-archive,odimh5_archive/66/2016/12/18/66_20161218_044200.h5>, <Key: roames-wxradar-archive,odimh5_archive/66/2016/12/18/66_20161218_044800.h5>, <Key: roames-wxradar-archive,odimh5_archive/66/2016/12/18/66_20161218_045400.h5>, <Key: roames-wxradar-archive,odimh5_archive/66/2016/12/18/66_20161218_050000.h5>, <Key: roames-wxradar-archive,odimh5_archive/66/2016/12/18/66_20161218_050600.h5>, <Key: roames-wxradar-archive,odimh5_archive/66/2016/12/18/66_20161218_051200.h5>, <Key: roames-wxradar-archive,odimh5_archive/66/2016/12/18/66_20161218_051800.h5>, <Key: roames-wxradar-archive,odimh5_archive/66/2016/12/18/66_20161218_052400.h5>, <Key: roames-wxradar-archive,odimh5_archive/66/2016/12/18/66_20161218_053000.h5>]\n"
     ]
    },
    {
     "name": "stderr",
     "output_type": "stream",
     "text": [
      "/home/meso/anaconda2/lib/python2.7/site-packages/matplotlib/animation.py:782: UserWarning: MovieWriter ImageMagick unavailable\n",
      "  warnings.warn(\"MovieWriter %s unavailable\" % writer)\n"
     ]
    },
    {
     "ename": "S3ResponseError",
     "evalue": "S3ResponseError: 403 Forbidden\n<?xml version=\"1.0\" encoding=\"UTF-8\"?>\n<Error><Code>AccessDenied</Code><Message>Access Denied</Message><RequestId>19A508DE8B03C243</RequestId><HostId>cJsu8PEo8TmWQZ4h9OWzBB5EKzcUMb28hXXCOBxFBpTaPpVZ4qgJADR9xWOFpQES+JLEW5UnVnI=</HostId></Error>",
     "output_type": "error",
     "traceback": [
      "\u001b[0;31m---------------------------------------------------------------------------\u001b[0m",
      "\u001b[0;31mS3ResponseError\u001b[0m                           Traceback (most recent call last)",
      "\u001b[0;32m<ipython-input-6-f6d26792f140>\u001b[0m in \u001b[0;36m<module>\u001b[0;34m()\u001b[0m\n\u001b[1;32m     41\u001b[0m \u001b[0mfig\u001b[0m \u001b[0;34m=\u001b[0m \u001b[0mplt\u001b[0m\u001b[0;34m.\u001b[0m\u001b[0mfigure\u001b[0m\u001b[0;34m(\u001b[0m\u001b[0mfigsize\u001b[0m\u001b[0;34m=\u001b[0m\u001b[0;34m[\u001b[0m\u001b[0;36m15\u001b[0m\u001b[0;34m,\u001b[0m\u001b[0;36m7\u001b[0m\u001b[0;34m]\u001b[0m\u001b[0;34m)\u001b[0m\u001b[0;34m\u001b[0m\u001b[0m\n\u001b[1;32m     42\u001b[0m \u001b[0manim_66\u001b[0m \u001b[0;34m=\u001b[0m \u001b[0manimation\u001b[0m\u001b[0;34m.\u001b[0m\u001b[0mFuncAnimation\u001b[0m\u001b[0;34m(\u001b[0m\u001b[0mfig\u001b[0m\u001b[0;34m,\u001b[0m \u001b[0manimate\u001b[0m\u001b[0;34m,\u001b[0m \u001b[0mframes\u001b[0m\u001b[0;34m=\u001b[0m\u001b[0mlen\u001b[0m\u001b[0;34m(\u001b[0m\u001b[0mmy_data_keys\u001b[0m\u001b[0;34m)\u001b[0m\u001b[0;34m)\u001b[0m\u001b[0;34m\u001b[0m\u001b[0m\n\u001b[0;32m---> 43\u001b[0;31m \u001b[0manim_66\u001b[0m\u001b[0;34m.\u001b[0m\u001b[0msave\u001b[0m\u001b[0;34m(\u001b[0m\u001b[0;34m'data/output.gif'\u001b[0m\u001b[0;34m,\u001b[0m \u001b[0mwriter\u001b[0m\u001b[0;34m=\u001b[0m\u001b[0;34m'ImageMagick'\u001b[0m\u001b[0;34m,\u001b[0m \u001b[0mfps\u001b[0m\u001b[0;34m=\u001b[0m\u001b[0;36m2\u001b[0m\u001b[0;34m)\u001b[0m\u001b[0;34m\u001b[0m\u001b[0m\n\u001b[0m\u001b[1;32m     44\u001b[0m \u001b[0mplt\u001b[0m\u001b[0;34m.\u001b[0m\u001b[0mclose\u001b[0m\u001b[0;34m(\u001b[0m\u001b[0;34m)\u001b[0m\u001b[0;34m\u001b[0m\u001b[0m\n",
      "\u001b[0;32m/home/meso/anaconda2/lib/python2.7/site-packages/matplotlib/animation.pyc\u001b[0m in \u001b[0;36msave\u001b[0;34m(self, filename, writer, fps, dpi, codec, bitrate, extra_args, metadata, extra_anim, savefig_kwargs)\u001b[0m\n\u001b[1;32m    807\u001b[0m                 \u001b[0;32mfor\u001b[0m \u001b[0manim\u001b[0m\u001b[0;34m,\u001b[0m \u001b[0md\u001b[0m \u001b[0;32min\u001b[0m \u001b[0mzip\u001b[0m\u001b[0;34m(\u001b[0m\u001b[0mall_anim\u001b[0m\u001b[0;34m,\u001b[0m \u001b[0mdata\u001b[0m\u001b[0;34m)\u001b[0m\u001b[0;34m:\u001b[0m\u001b[0;34m\u001b[0m\u001b[0m\n\u001b[1;32m    808\u001b[0m                     \u001b[0;31m# TODO: Need to see if turning off blit is really necessary\u001b[0m\u001b[0;34m\u001b[0m\u001b[0;34m\u001b[0m\u001b[0m\n\u001b[0;32m--> 809\u001b[0;31m                     \u001b[0manim\u001b[0m\u001b[0;34m.\u001b[0m\u001b[0m_draw_next_frame\u001b[0m\u001b[0;34m(\u001b[0m\u001b[0md\u001b[0m\u001b[0;34m,\u001b[0m \u001b[0mblit\u001b[0m\u001b[0;34m=\u001b[0m\u001b[0mFalse\u001b[0m\u001b[0;34m)\u001b[0m\u001b[0;34m\u001b[0m\u001b[0m\n\u001b[0m\u001b[1;32m    810\u001b[0m                 \u001b[0mwriter\u001b[0m\u001b[0;34m.\u001b[0m\u001b[0mgrab_frame\u001b[0m\u001b[0;34m(\u001b[0m\u001b[0;34m**\u001b[0m\u001b[0msavefig_kwargs\u001b[0m\u001b[0;34m)\u001b[0m\u001b[0;34m\u001b[0m\u001b[0m\n\u001b[1;32m    811\u001b[0m \u001b[0;34m\u001b[0m\u001b[0m\n",
      "\u001b[0;32m/home/meso/anaconda2/lib/python2.7/site-packages/matplotlib/animation.pyc\u001b[0m in \u001b[0;36m_draw_next_frame\u001b[0;34m(self, framedata, blit)\u001b[0m\n\u001b[1;32m    844\u001b[0m         \u001b[0;31m# post- draw, as well as the drawing of the frame itself.\u001b[0m\u001b[0;34m\u001b[0m\u001b[0;34m\u001b[0m\u001b[0m\n\u001b[1;32m    845\u001b[0m         \u001b[0mself\u001b[0m\u001b[0;34m.\u001b[0m\u001b[0m_pre_draw\u001b[0m\u001b[0;34m(\u001b[0m\u001b[0mframedata\u001b[0m\u001b[0;34m,\u001b[0m \u001b[0mblit\u001b[0m\u001b[0;34m)\u001b[0m\u001b[0;34m\u001b[0m\u001b[0m\n\u001b[0;32m--> 846\u001b[0;31m         \u001b[0mself\u001b[0m\u001b[0;34m.\u001b[0m\u001b[0m_draw_frame\u001b[0m\u001b[0;34m(\u001b[0m\u001b[0mframedata\u001b[0m\u001b[0;34m)\u001b[0m\u001b[0;34m\u001b[0m\u001b[0m\n\u001b[0m\u001b[1;32m    847\u001b[0m         \u001b[0mself\u001b[0m\u001b[0;34m.\u001b[0m\u001b[0m_post_draw\u001b[0m\u001b[0;34m(\u001b[0m\u001b[0mframedata\u001b[0m\u001b[0;34m,\u001b[0m \u001b[0mblit\u001b[0m\u001b[0;34m)\u001b[0m\u001b[0;34m\u001b[0m\u001b[0m\n\u001b[1;32m    848\u001b[0m \u001b[0;34m\u001b[0m\u001b[0m\n",
      "\u001b[0;32m/home/meso/anaconda2/lib/python2.7/site-packages/matplotlib/animation.pyc\u001b[0m in \u001b[0;36m_draw_frame\u001b[0;34m(self, framedata)\u001b[0m\n\u001b[1;32m   1210\u001b[0m         \u001b[0;31m# Call the func with framedata and args. If blitting is desired,\u001b[0m\u001b[0;34m\u001b[0m\u001b[0;34m\u001b[0m\u001b[0m\n\u001b[1;32m   1211\u001b[0m         \u001b[0;31m# func needs to return a sequence of any artists that were modified.\u001b[0m\u001b[0;34m\u001b[0m\u001b[0;34m\u001b[0m\u001b[0m\n\u001b[0;32m-> 1212\u001b[0;31m         \u001b[0mself\u001b[0m\u001b[0;34m.\u001b[0m\u001b[0m_drawn_artists\u001b[0m \u001b[0;34m=\u001b[0m \u001b[0mself\u001b[0m\u001b[0;34m.\u001b[0m\u001b[0m_func\u001b[0m\u001b[0;34m(\u001b[0m\u001b[0mframedata\u001b[0m\u001b[0;34m,\u001b[0m \u001b[0;34m*\u001b[0m\u001b[0mself\u001b[0m\u001b[0;34m.\u001b[0m\u001b[0m_args\u001b[0m\u001b[0;34m)\u001b[0m\u001b[0;34m\u001b[0m\u001b[0m\n\u001b[0m\u001b[1;32m   1213\u001b[0m         \u001b[0;32mif\u001b[0m \u001b[0mself\u001b[0m\u001b[0;34m.\u001b[0m\u001b[0m_blit\u001b[0m\u001b[0;34m:\u001b[0m\u001b[0;34m\u001b[0m\u001b[0m\n\u001b[1;32m   1214\u001b[0m             \u001b[0;32mfor\u001b[0m \u001b[0ma\u001b[0m \u001b[0;32min\u001b[0m \u001b[0mself\u001b[0m\u001b[0;34m.\u001b[0m\u001b[0m_drawn_artists\u001b[0m\u001b[0;34m:\u001b[0m\u001b[0;34m\u001b[0m\u001b[0m\n",
      "\u001b[0;32m<ipython-input-5-f1ba47b32d50>\u001b[0m in \u001b[0;36manimate\u001b[0;34m(nframe)\u001b[0m\n\u001b[1;32m      3\u001b[0m     \u001b[0mplt\u001b[0m\u001b[0;34m.\u001b[0m\u001b[0mclf\u001b[0m\u001b[0;34m(\u001b[0m\u001b[0;34m)\u001b[0m\u001b[0;34m\u001b[0m\u001b[0m\n\u001b[1;32m      4\u001b[0m     \u001b[0;31m#create radar display object\u001b[0m\u001b[0;34m\u001b[0m\u001b[0;34m\u001b[0m\u001b[0m\n\u001b[0;32m----> 5\u001b[0;31m     \u001b[0mradar\u001b[0m   \u001b[0;34m=\u001b[0m \u001b[0mradar_keys_to_data\u001b[0m\u001b[0;34m(\u001b[0m\u001b[0mmy_data_keys\u001b[0m\u001b[0;34m[\u001b[0m\u001b[0mnframe\u001b[0m\u001b[0;34m]\u001b[0m\u001b[0;34m)\u001b[0m\u001b[0;34m\u001b[0m\u001b[0m\n\u001b[0m\u001b[1;32m      6\u001b[0m     \u001b[0mdisplay\u001b[0m \u001b[0;34m=\u001b[0m \u001b[0mpyart\u001b[0m\u001b[0;34m.\u001b[0m\u001b[0mgraph\u001b[0m\u001b[0;34m.\u001b[0m\u001b[0mRadarMapDisplay\u001b[0m\u001b[0;34m(\u001b[0m\u001b[0mradar\u001b[0m\u001b[0;34m)\u001b[0m\u001b[0;34m\u001b[0m\u001b[0m\n\u001b[1;32m      7\u001b[0m \u001b[0;34m\u001b[0m\u001b[0m\n",
      "\u001b[0;32m<ipython-input-3-96eb1658a00e>\u001b[0m in \u001b[0;36mradar_keys_to_data\u001b[0;34m(keys)\u001b[0m\n\u001b[1;32m      3\u001b[0m \u001b[0;32mdef\u001b[0m \u001b[0mradar_keys_to_data\u001b[0m\u001b[0;34m(\u001b[0m\u001b[0mkeys\u001b[0m\u001b[0;34m)\u001b[0m\u001b[0;34m:\u001b[0m\u001b[0;34m\u001b[0m\u001b[0m\n\u001b[1;32m      4\u001b[0m     \u001b[0mlocalfile\u001b[0m \u001b[0;34m=\u001b[0m \u001b[0mtempfile\u001b[0m\u001b[0;34m.\u001b[0m\u001b[0mNamedTemporaryFile\u001b[0m\u001b[0;34m(\u001b[0m\u001b[0;34m)\u001b[0m\u001b[0;34m\u001b[0m\u001b[0m\n\u001b[0;32m----> 5\u001b[0;31m     \u001b[0mkeys\u001b[0m\u001b[0;34m.\u001b[0m\u001b[0mget_contents_to_filename\u001b[0m\u001b[0;34m(\u001b[0m\u001b[0mlocalfile\u001b[0m\u001b[0;34m.\u001b[0m\u001b[0mname\u001b[0m\u001b[0;34m)\u001b[0m\u001b[0;34m\u001b[0m\u001b[0m\n\u001b[0m\u001b[1;32m      6\u001b[0m     \u001b[0;31m# Only pulling two scans for the sake of time.\u001b[0m\u001b[0;34m\u001b[0m\u001b[0;34m\u001b[0m\u001b[0m\n\u001b[1;32m      7\u001b[0m     \u001b[0mradar\u001b[0m \u001b[0;34m=\u001b[0m \u001b[0mpyart\u001b[0m\u001b[0;34m.\u001b[0m\u001b[0maux_io\u001b[0m\u001b[0;34m.\u001b[0m\u001b[0mread_odim_h5\u001b[0m\u001b[0;34m(\u001b[0m\u001b[0mlocalfile\u001b[0m\u001b[0;34m.\u001b[0m\u001b[0mname\u001b[0m\u001b[0;34m,\u001b[0m \u001b[0mfile_field_names\u001b[0m\u001b[0;34m=\u001b[0m\u001b[0mTrue\u001b[0m\u001b[0;34m)\u001b[0m\u001b[0;34m\u001b[0m\u001b[0m\n",
      "\u001b[0;32m/home/meso/anaconda2/lib/python2.7/site-packages/boto/s3/key.pyc\u001b[0m in \u001b[0;36mget_contents_to_filename\u001b[0;34m(self, filename, headers, cb, num_cb, torrent, version_id, res_download_handler, response_headers)\u001b[0m\n\u001b[1;32m   1710\u001b[0m                                           \u001b[0mversion_id\u001b[0m\u001b[0;34m=\u001b[0m\u001b[0mversion_id\u001b[0m\u001b[0;34m,\u001b[0m\u001b[0;34m\u001b[0m\u001b[0m\n\u001b[1;32m   1711\u001b[0m                                           \u001b[0mres_download_handler\u001b[0m\u001b[0;34m=\u001b[0m\u001b[0mres_download_handler\u001b[0m\u001b[0;34m,\u001b[0m\u001b[0;34m\u001b[0m\u001b[0m\n\u001b[0;32m-> 1712\u001b[0;31m                                           response_headers=response_headers)\n\u001b[0m\u001b[1;32m   1713\u001b[0m         \u001b[0;32mexcept\u001b[0m \u001b[0mException\u001b[0m\u001b[0;34m:\u001b[0m\u001b[0;34m\u001b[0m\u001b[0m\n\u001b[1;32m   1714\u001b[0m             \u001b[0mos\u001b[0m\u001b[0;34m.\u001b[0m\u001b[0mremove\u001b[0m\u001b[0;34m(\u001b[0m\u001b[0mfilename\u001b[0m\u001b[0;34m)\u001b[0m\u001b[0;34m\u001b[0m\u001b[0m\n",
      "\u001b[0;32m/home/meso/anaconda2/lib/python2.7/site-packages/boto/s3/key.pyc\u001b[0m in \u001b[0;36mget_contents_to_file\u001b[0;34m(self, fp, headers, cb, num_cb, torrent, version_id, res_download_handler, response_headers)\u001b[0m\n\u001b[1;32m   1648\u001b[0m                 self.get_file(fp, headers, cb, num_cb, torrent=torrent,\n\u001b[1;32m   1649\u001b[0m                               \u001b[0mversion_id\u001b[0m\u001b[0;34m=\u001b[0m\u001b[0mversion_id\u001b[0m\u001b[0;34m,\u001b[0m\u001b[0;34m\u001b[0m\u001b[0m\n\u001b[0;32m-> 1650\u001b[0;31m                               response_headers=response_headers)\n\u001b[0m\u001b[1;32m   1651\u001b[0m \u001b[0;34m\u001b[0m\u001b[0m\n\u001b[1;32m   1652\u001b[0m     def get_contents_to_filename(self, filename, headers=None,\n",
      "\u001b[0;32m/home/meso/anaconda2/lib/python2.7/site-packages/boto/s3/key.pyc\u001b[0m in \u001b[0;36mget_file\u001b[0;34m(self, fp, headers, cb, num_cb, torrent, version_id, override_num_retries, response_headers)\u001b[0m\n\u001b[1;32m   1480\u001b[0m                                 \u001b[0mresponse_headers\u001b[0m\u001b[0;34m=\u001b[0m\u001b[0mresponse_headers\u001b[0m\u001b[0;34m,\u001b[0m\u001b[0;34m\u001b[0m\u001b[0m\n\u001b[1;32m   1481\u001b[0m                                 \u001b[0mhash_algs\u001b[0m\u001b[0;34m=\u001b[0m\u001b[0mNone\u001b[0m\u001b[0;34m,\u001b[0m\u001b[0;34m\u001b[0m\u001b[0m\n\u001b[0;32m-> 1482\u001b[0;31m                                 query_args=None)\n\u001b[0m\u001b[1;32m   1483\u001b[0m \u001b[0;34m\u001b[0m\u001b[0m\n\u001b[1;32m   1484\u001b[0m     def _get_file_internal(self, fp, headers=None, cb=None, num_cb=10,\n",
      "\u001b[0;32m/home/meso/anaconda2/lib/python2.7/site-packages/boto/s3/key.pyc\u001b[0m in \u001b[0;36m_get_file_internal\u001b[0;34m(self, fp, headers, cb, num_cb, torrent, version_id, override_num_retries, response_headers, hash_algs, query_args)\u001b[0m\n\u001b[1;32m   1512\u001b[0m         \u001b[0mquery_args\u001b[0m \u001b[0;34m=\u001b[0m \u001b[0;34m'&'\u001b[0m\u001b[0;34m.\u001b[0m\u001b[0mjoin\u001b[0m\u001b[0;34m(\u001b[0m\u001b[0mquery_args\u001b[0m\u001b[0;34m)\u001b[0m\u001b[0;34m\u001b[0m\u001b[0m\n\u001b[1;32m   1513\u001b[0m         self.open('r', headers, query_args=query_args,\n\u001b[0;32m-> 1514\u001b[0;31m                   override_num_retries=override_num_retries)\n\u001b[0m\u001b[1;32m   1515\u001b[0m \u001b[0;34m\u001b[0m\u001b[0m\n\u001b[1;32m   1516\u001b[0m         \u001b[0mdata_len\u001b[0m \u001b[0;34m=\u001b[0m \u001b[0;36m0\u001b[0m\u001b[0;34m\u001b[0m\u001b[0m\n",
      "\u001b[0;32m/home/meso/anaconda2/lib/python2.7/site-packages/boto/s3/key.pyc\u001b[0m in \u001b[0;36mopen\u001b[0;34m(self, mode, headers, query_args, override_num_retries)\u001b[0m\n\u001b[1;32m    341\u001b[0m             \u001b[0mself\u001b[0m\u001b[0;34m.\u001b[0m\u001b[0mmode\u001b[0m \u001b[0;34m=\u001b[0m \u001b[0;34m'r'\u001b[0m\u001b[0;34m\u001b[0m\u001b[0m\n\u001b[1;32m    342\u001b[0m             self.open_read(headers=headers, query_args=query_args,\n\u001b[0;32m--> 343\u001b[0;31m                            override_num_retries=override_num_retries)\n\u001b[0m\u001b[1;32m    344\u001b[0m         \u001b[0;32melif\u001b[0m \u001b[0mmode\u001b[0m \u001b[0;34m==\u001b[0m \u001b[0;34m'w'\u001b[0m\u001b[0;34m:\u001b[0m\u001b[0;34m\u001b[0m\u001b[0m\n\u001b[1;32m    345\u001b[0m             \u001b[0mself\u001b[0m\u001b[0;34m.\u001b[0m\u001b[0mmode\u001b[0m \u001b[0;34m=\u001b[0m \u001b[0;34m'w'\u001b[0m\u001b[0;34m\u001b[0m\u001b[0m\n",
      "\u001b[0;32m/home/meso/anaconda2/lib/python2.7/site-packages/boto/s3/key.pyc\u001b[0m in \u001b[0;36mopen_read\u001b[0;34m(self, headers, query_args, override_num_retries, response_headers)\u001b[0m\n\u001b[1;32m    301\u001b[0m                 \u001b[0mbody\u001b[0m \u001b[0;34m=\u001b[0m \u001b[0mself\u001b[0m\u001b[0;34m.\u001b[0m\u001b[0mresp\u001b[0m\u001b[0;34m.\u001b[0m\u001b[0mread\u001b[0m\u001b[0;34m(\u001b[0m\u001b[0;34m)\u001b[0m\u001b[0;34m\u001b[0m\u001b[0m\n\u001b[1;32m    302\u001b[0m                 raise provider.storage_response_error(self.resp.status,\n\u001b[0;32m--> 303\u001b[0;31m                                                       self.resp.reason, body)\n\u001b[0m\u001b[1;32m    304\u001b[0m             \u001b[0mresponse_headers\u001b[0m \u001b[0;34m=\u001b[0m \u001b[0mself\u001b[0m\u001b[0;34m.\u001b[0m\u001b[0mresp\u001b[0m\u001b[0;34m.\u001b[0m\u001b[0mmsg\u001b[0m\u001b[0;34m\u001b[0m\u001b[0m\n\u001b[1;32m    305\u001b[0m             self.metadata = boto.utils.get_aws_metadata(response_headers,\n",
      "\u001b[0;31mS3ResponseError\u001b[0m: S3ResponseError: 403 Forbidden\n<?xml version=\"1.0\" encoding=\"UTF-8\"?>\n<Error><Code>AccessDenied</Code><Message>Access Denied</Message><RequestId>19A508DE8B03C243</RequestId><HostId>cJsu8PEo8TmWQZ4h9OWzBB5EKzcUMb28hXXCOBxFBpTaPpVZ4qgJADR9xWOFpQES+JLEW5UnVnI=</HostId></Error>"
     ]
    },
    {
     "data": {
      "text/plain": [
       "<matplotlib.figure.Figure at 0x7ffa1191a910>"
      ]
     },
     "metadata": {},
     "output_type": "display_data"
    }
   ],
   "source": [
    "# Plotting and creating an animation using the radar datas.\n",
    "# Something close to home.\n",
    "# Use the option of saying 'now' to retrieve current UTC.\n",
    "\n",
    "#config vars\n",
    "radar_id     = '66'\n",
    "sweep        = 0\n",
    "refl_min     = -10\n",
    "refl_max     = 65\n",
    "vel_min      = -30\n",
    "vel_max      = 30\n",
    "start_date   = '2016/12/18'\n",
    "start_time   = '03:00:00'\n",
    "end_date     = '2016/12/18'\n",
    "end_time     = '05:30:00'\n",
    "max_lat      = -27.25\n",
    "min_lat      = -28\n",
    "min_lon      = 152.25\n",
    "max_lon      = 153.25\n",
    "lat_grid     = 0.2\n",
    "lon_grid     = 0.2\n",
    "bm_res       = 'h' #l (low), i (intermediate), h (high), f (full)\n",
    "\n",
    "\n",
    "lal = np.arange(min_lat, max_lat, lat_grid)\n",
    "lol = np.arange(min_lon, max_lon, lon_grid)\n",
    "\n",
    "# build keys\n",
    "my_data_keys = ausrad_site_datespan(start_date=start_date,start_time=start_time,\n",
    "                                         end_date=end_date,end_time=end_time,\n",
    "                                         site=radar_id)\n",
    "#confirm keys\n",
    "print(my_data_keys)\n",
    "\n",
    "generate_layers(min_lat = min_lat,max_lat = max_lat,\n",
    "                min_lon = min_lon, max_lon = max_lon)\n",
    "\n",
    "\n",
    "\n",
    "#Setup figure size\n",
    "fig = plt.figure(figsize=[15,7])\n",
    "anim_66 = animation.FuncAnimation(fig, animate, frames=len(my_data_keys))\n",
    "anim_66.save('data/output.gif', writer='ImageMagick', fps=2)\n",
    "plt.close()"
   ]
  },
  {
   "cell_type": "code",
   "execution_count": null,
   "metadata": {
    "collapsed": false
   },
   "outputs": [],
   "source": [
    "# The gifs created will not run inline in Jupyter Notebook unless the gif files are opened.\n",
    "\n",
    "with open('data/output.gif','rb') as f:\n",
    "    display(Image(f.read()), format='png')"
   ]
  },
  {
   "cell_type": "code",
   "execution_count": null,
   "metadata": {
    "collapsed": true
   },
   "outputs": [],
   "source": []
  },
  {
   "cell_type": "code",
   "execution_count": null,
   "metadata": {
    "collapsed": true
   },
   "outputs": [],
   "source": []
  }
 ],
 "metadata": {
  "anaconda-cloud": {},
  "kernelspec": {
   "display_name": "Python [conda root]",
   "language": "python",
   "name": "conda-root-py"
  },
  "language_info": {
   "codemirror_mode": {
    "name": "ipython",
    "version": 2
   },
   "file_extension": ".py",
   "mimetype": "text/x-python",
   "name": "python",
   "nbconvert_exporter": "python",
   "pygments_lexer": "ipython2",
   "version": "2.7.12"
  }
 },
 "nbformat": 4,
 "nbformat_minor": 0
}
