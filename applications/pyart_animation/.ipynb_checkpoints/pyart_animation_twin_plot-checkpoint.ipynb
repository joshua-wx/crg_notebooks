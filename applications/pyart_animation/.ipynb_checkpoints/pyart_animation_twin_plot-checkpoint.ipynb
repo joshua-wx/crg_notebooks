{
 "cells": [
  {
   "cell_type": "markdown",
   "metadata": {},
   "source": [
    "# Py-ART Animation\n",
    "### Choosing the radar volume from a Australian radar site over a time span. \n",
    "\n",
    "### Original notebook by Zach Sherman:\n",
    "https://github.com/uq-crg/pyart_animation\n",
    "\n",
    "### Based on code by Scott Collis:\n",
    "https://github.com/scollis/radar_in_the_cloud/blob/master/notebooks/Matthew.ipynb \n",
    "\n",
    "### Jonathan Helmus:\n",
    "https://anaconda.org/jjhelmus/scipy2015_openaccessradar_jjh/notebook\n",
    "\n",
    "### and memory fixes by Robert Jackson:\n",
    "https://github.com/rcjackson/pyart_practice/blob/master/nexrad_animatedgif.py\n",
    "\n",
    "Note: AUS radar s3 files are set in UTC. "
   ]
  },
  {
   "cell_type": "code",
   "execution_count": 1,
   "metadata": {
    "collapsed": false
   },
   "outputs": [
    {
     "name": "stdout",
     "output_type": "stream",
     "text": [
      "\n",
      "## You are using the Python ARM Radar Toolkit (Py-ART), an open source\n",
      "## library for working with weather radar data.\n",
      "##\n",
      "## If you use this software to prepare a publication, please cite:\n",
      "##\n",
      "##     JJ Helmus and SM Collis, JORS 2016, doi: 10.5334/jors.119 \n"
     ]
    },
    {
     "name": "stderr",
     "output_type": "stream",
     "text": [
      "/home/meso/anaconda2/lib/python2.7/site-packages/ipykernel/kernelbase.py:43: DeprecationWarning: IPythonKernel._eventloop_changed is deprecated: use @observe and @unobserve instead.\n",
      "  def _eventloop_changed(self, name, old, new):\n",
      "/home/meso/anaconda2/lib/python2.7/site-packages/ipykernel/pylab/config.py:66: DeprecationWarning: metadata {'config': True} was set from the constructor.  Metadata should be set using the .tag() method, e.g., Int().tag(key1='value1', key2='value2')\n",
      "  inline backend.\"\"\"\n",
      "/home/meso/anaconda2/lib/python2.7/site-packages/ipykernel/pylab/config.py:71: DeprecationWarning: metadata {'config': True} was set from the constructor.  Metadata should be set using the .tag() method, e.g., Int().tag(key1='value1', key2='value2')\n",
      "  'retina', 'jpeg', 'svg', 'pdf'.\"\"\")\n",
      "/home/meso/anaconda2/lib/python2.7/site-packages/ipykernel/pylab/config.py:85: DeprecationWarning: metadata {'config': True} was set from the constructor.  Metadata should be set using the .tag() method, e.g., Int().tag(key1='value1', key2='value2')\n",
      "  use `figure_formats` instead)\"\"\")\n",
      "/home/meso/anaconda2/lib/python2.7/site-packages/ipykernel/pylab/config.py:95: DeprecationWarning: metadata {'config': True} was set from the constructor.  Metadata should be set using the .tag() method, e.g., Int().tag(key1='value1', key2='value2')\n",
      "  \"\"\"\n",
      "/home/meso/anaconda2/lib/python2.7/site-packages/ipykernel/pylab/config.py:114: DeprecationWarning: metadata {'config': True} was set from the constructor.  Metadata should be set using the .tag() method, e.g., Int().tag(key1='value1', key2='value2')\n",
      "  \"\"\")\n",
      "/home/meso/anaconda2/lib/python2.7/site-packages/ipykernel/pylab/config.py:44: DeprecationWarning: InlineBackend._config_changed is deprecated: use @observe and @unobserve instead.\n",
      "  def _config_changed(self, name, old, new):\n",
      "/home/meso/anaconda2/lib/python2.7/site-packages/traitlets/traitlets.py:770: DeprecationWarning: A parent of InlineBackend._config_changed has adopted the new @observe(change) API\n",
      "  clsname, change_or_name), DeprecationWarning)\n",
      "/home/meso/anaconda2/lib/python2.7/site-packages/IPython/core/formatters.py:98: DeprecationWarning: DisplayFormatter._formatters_default is deprecated: use @default decorator instead.\n",
      "  def _formatters_default(self):\n",
      "/home/meso/anaconda2/lib/python2.7/site-packages/IPython/core/formatters.py:677: DeprecationWarning: PlainTextFormatter._deferred_printers_default is deprecated: use @default decorator instead.\n",
      "  def _deferred_printers_default(self):\n",
      "/home/meso/anaconda2/lib/python2.7/site-packages/IPython/core/formatters.py:669: DeprecationWarning: PlainTextFormatter._singleton_printers_default is deprecated: use @default decorator instead.\n",
      "  def _singleton_printers_default(self):\n",
      "/home/meso/anaconda2/lib/python2.7/site-packages/IPython/core/formatters.py:672: DeprecationWarning: PlainTextFormatter._type_printers_default is deprecated: use @default decorator instead.\n",
      "  def _type_printers_default(self):\n",
      "/home/meso/anaconda2/lib/python2.7/site-packages/IPython/core/formatters.py:672: DeprecationWarning: PlainTextFormatter._type_printers_default is deprecated: use @default decorator instead.\n",
      "  def _type_printers_default(self):\n",
      "/home/meso/anaconda2/lib/python2.7/site-packages/IPython/core/formatters.py:677: DeprecationWarning: PlainTextFormatter._deferred_printers_default is deprecated: use @default decorator instead.\n",
      "  def _deferred_printers_default(self):\n",
      "/home/meso/anaconda2/lib/python2.7/site-packages/ipykernel/kernelbase.py:43: DeprecationWarning: IPythonKernel._eventloop_changed is deprecated: use @observe and @unobserve instead.\n",
      "  def _eventloop_changed(self, name, old, new):\n",
      "/home/meso/anaconda2/lib/python2.7/site-packages/IPython/core/magics/extension.py:47: UserWarning: %install_ext` is deprecated, please distribute your extension as a python package.\n",
      "  \"as a python package.\", UserWarning)\n"
     ]
    },
    {
     "name": "stdout",
     "output_type": "stream",
     "text": [
      "Installed autotime.py. To use it, type:\n",
      "  %load_ext autotime\n"
     ]
    }
   ],
   "source": [
    "from boto.s3.connection import S3Connection\n",
    "import pyart\n",
    "import gzip\n",
    "from matplotlib import pyplot as plt\n",
    "from datetime import date, datetime, timedelta\n",
    "from matplotlib import animation\n",
    "from mpl_toolkits.basemap import Basemap\n",
    "from owslib.wms import WebMapService\n",
    "import tempfile\n",
    "import numpy as np\n",
    "import pandas as pd\n",
    "from IPython.display import Image, display\n",
    "%matplotlib inline\n",
    "%install_ext https://raw.github.com/cpcloud/ipython-autotime/master/autotime.py\n",
    "%load_ext autotime"
   ]
  },
  {
   "cell_type": "code",
   "execution_count": 2,
   "metadata": {
    "collapsed": false
   },
   "outputs": [
    {
     "name": "stdout",
     "output_type": "stream",
     "text": [
      "time: 55.6 ms\n"
     ]
    }
   ],
   "source": [
    "# Function for pulling all keys between two dates at a chosen nexrad site.\n",
    "\n",
    "def ausrad_site_datespan(start_date=None, start_time=None, \n",
    "                         end_date=None, end_time=None, site=None):\n",
    "    \n",
    "    \"\"\"\n",
    "    Get all volumes of NEXRAD data between two particular datetimes.\n",
    "    Parameters\n",
    "    ----------\n",
    "    start_date : string\n",
    "        eight number date, for example '20150623'\n",
    "    start_date_time : string\n",
    "        six number time, for example '145501'\n",
    "    end_date : string\n",
    "        eight number date or 'Now' to retrieve current UTC\n",
    "    end_date_time : string, optional if end_date = 'Now'\n",
    "        six number time\n",
    "    site : string\n",
    "        two digit radar designation number, for example '02' \n",
    "        \n",
    "    \"\"\"\n",
    "    \n",
    "    def datespan(startDate, endDate, delta=timedelta(days=1)):\n",
    "        currentDate = startDate\n",
    "        while currentDate < endDate:\n",
    "            yield currentDate\n",
    "            currentDate += delta\n",
    "\n",
    "    fmt = '%Y/%m/%d_%H:%M:%S' \n",
    "    \n",
    "    # Allows for the choice of now for the end date so current UTC is pulled.\n",
    "    \n",
    "    if end_date.upper() == 'NOW':\n",
    "        e_d_selected = datetime.utcnow()\n",
    "    else:\n",
    "        e_d_selected = datetime.strptime(end_date + '_' + end_time, fmt)\n",
    "\n",
    "    s_d = datetime.strptime(start_date + '_' + start_time, fmt)\n",
    "    e_d = e_d_selected \n",
    "\n",
    "    if s_d > e_d_selected:\n",
    "            raise ValueError('You provided a start date that comes after the end date.')\n",
    "\n",
    "    times = []\n",
    "    for timestamp in datespan((s_d), (e_d), delta=timedelta(days=1)):\n",
    "        time = timestamp\n",
    "        times += [\"odimh5_archive/\" + site + '/' + datetime.strftime(time, '%Y/%m/%d/')]\n",
    "\n",
    "    print times\n",
    "    conn = S3Connection(anon = True)\n",
    "    bucket = conn.get_bucket('roames-wxradar-archive')\n",
    "    \n",
    "    #Get a list of files \n",
    "    \n",
    "    keys = []\n",
    "    datetimes = []\n",
    "    for time in times:\n",
    "        bucket_list = list(bucket.list(time))   \n",
    "        for i in range(len(bucket_list)):\n",
    "            this_str = str(bucket_list[i].key)\n",
    "            if 'h5' in this_str:\n",
    "                endme = this_str[-18:-3]\n",
    "                fmt = '%Y%m%d_%H%M%S' \n",
    "                dt = datetime.strptime(endme, fmt)\n",
    "                datetimes.append(dt)\n",
    "                keys.append(bucket_list[i])\n",
    "\n",
    "    # Code belows chooses all keys between the user's dates.\n",
    "    \n",
    "    d = {'keys': keys}\n",
    "    key_object = pd.DataFrame(data=d, index=pd.to_datetime(datetimes))\n",
    "\n",
    "    selected_keys = key_object.loc[s_d : e_d, :]\n",
    "    #radar_datetimes = selected_keys.index.tolist()\n",
    "    data_keys = selected_keys['keys'].tolist()\n",
    "    return data_keys"
   ]
  },
  {
   "cell_type": "code",
   "execution_count": 3,
   "metadata": {
    "collapsed": false
   },
   "outputs": [
    {
     "name": "stdout",
     "output_type": "stream",
     "text": [
      "time: 6.49 ms\n"
     ]
    }
   ],
   "source": [
    "# Conversion of keys to pyart radar objects.\n",
    "\n",
    "def radar_keys_to_data(keys):\n",
    "    localfile = tempfile.NamedTemporaryFile()\n",
    "    keys.get_contents_to_filename(localfile.name)\n",
    "    # Only pulling two scans for the sake of time.\n",
    "    radar = pyart.aux_io.read_odim_h5(localfile.name, file_field_names=True)\n",
    "    radar.fields['DBZH']['standard_name'] = 'Reflectivity'\n",
    "    radar.fields['DBZH']['units'] = 'dBZ'\n",
    "    radar.fields['DBZH']['long_name'] = 'Radar Reflectivity Factor'\n",
    "    radar.fields['VRADH']['standard_name'] = 'Doppler Velocity'\n",
    "    radar.fields['VRADH']['units'] = 'm/s'\n",
    "    radar.fields['VRADH']['long_name'] = 'Radar Doppler Velocity'\n",
    "    return radar"
   ]
  },
  {
   "cell_type": "code",
   "execution_count": 4,
   "metadata": {
    "collapsed": false
   },
   "outputs": [
    {
     "name": "stdout",
     "output_type": "stream",
     "text": [
      "time: 12.7 ms\n"
     ]
    }
   ],
   "source": [
    "def generate_layers(max_lat,min_lat,max_lon,min_lon):\n",
    "    \n",
    "    #generate map bounds\n",
    "    lat_dif   = max_lat-min_lat\n",
    "    lon_dif   = max_lon-min_lon\n",
    "    map_x_sz  = int(500*lon_dif)\n",
    "    map_y_sz  = int(500*lat_dif)\n",
    "\n",
    "    #create overly map\n",
    "    wms = WebMapService('http://services.ga.gov.au/site_7/services/Topographic_Base_Map_WM/MapServer/WMSServer?', version='1.1.1')\n",
    "    img = wms.getmap(layers=['Roads_4','Populated_Places_6'],srs='EPSG:4326',bbox=(min_lon, min_lat, max_lon, max_lat),size=(map_x_sz, map_y_sz),format='image/png',transparent=True)\n",
    "    out = open('overlay.png', 'wb')\n",
    "    out.write(img.read())\n",
    "    out.close()  \n",
    "\n",
    "    #create background map\n",
    "    wms = WebMapService('http://ows.terrestris.de/osm-gray/service?', version='1.1.1')\n",
    "    img = wms.getmap(layers=['TOPO-WMS'],srs='EPSG:4326',bbox=(min_lon, min_lat, max_lon, max_lat),size=(map_x_sz, map_y_sz),format='image/png',transparent=True)\n",
    "    out = open('background.png', 'wb')\n",
    "    out.write(img.read())\n",
    "    out.close() "
   ]
  },
  {
   "cell_type": "code",
   "execution_count": 5,
   "metadata": {
    "collapsed": false
   },
   "outputs": [
    {
     "name": "stdout",
     "output_type": "stream",
     "text": [
      "time: 34.8 ms\n"
     ]
    }
   ],
   "source": [
    "# Creating a gif of all volumes between both dates.\n",
    "def animate(nframe):\n",
    "    plt.clf()\n",
    "    #create radar display object\n",
    "    radar   = radar_keys_to_data(my_data_keys[nframe])\n",
    "    display = pyart.graph.RadarMapDisplay(radar)\n",
    "    \n",
    "    #refl plot\n",
    "    plt.subplot(1,2,1)\n",
    "    #create basemap\n",
    "    ref_m = Basemap(llcrnrlon=min_lon,\n",
    "            llcrnrlat=min_lat,\n",
    "            urcrnrlon=max_lon,\n",
    "            urcrnrlat=max_lat, \n",
    "            projection='tmerc', \n",
    "            resolution = bm_res,\n",
    "            epsg = 3857)\n",
    "    #load background image\n",
    "    im = plt.imread('background.png')\n",
    "    ref_m.imshow(im,zorder = 0,origin='upper')\n",
    "    #plot radar data\n",
    "    display.plot_ppi_map('DBZH', sweep=sweep, resolution=bm_res,\n",
    "                         vmin=refl_min, vmax=refl_max, mask_outside=False,\n",
    "                         cmap=pyart.graph.cm.NWSRef,lat_lines=lal, lon_lines=lol,\n",
    "                         basemap = ref_m, zorder = 1)\n",
    "    #overlay mapping data\n",
    "    im = plt.imread('overlay.png')\n",
    "    ref_m.imshow(im,zorder = 2,origin='upper')\n",
    "    #overlay countries\n",
    "    display.basemap.drawcounties()\n",
    "    \n",
    "    #refl plot\n",
    "    plt.subplot(1,2,2)\n",
    "    #create basemap\n",
    "    ref_m = Basemap(llcrnrlon=min_lon,\n",
    "            llcrnrlat=min_lat,\n",
    "            urcrnrlon=max_lon,\n",
    "            urcrnrlat=max_lat, \n",
    "            projection='tmerc', \n",
    "            resolution = bm_res,\n",
    "            epsg = 3857)\n",
    "    #load background image\n",
    "    im = plt.imread('background.png')\n",
    "    ref_m.imshow(im,zorder = 0,origin='upper')\n",
    "    #plot radar data\n",
    "    display.plot_ppi_map('VRADH', sweep=sweep, resolution=bm_res,\n",
    "                         vmin=vel_min, vmax=vel_max, mask_outside=False,\n",
    "                         cmap=pyart.graph.cm.NWSVel,lat_lines=lal, lon_lines=lol,\n",
    "                         basemap = ref_m, zorder = 1)\n",
    "    #overlay mapping data\n",
    "    im = plt.imread('overlay.png')\n",
    "    ref_m.imshow(im,zorder = 2,origin='upper')    \n",
    "    #overlay countries\n",
    "    display.basemap.drawcounties()"
   ]
  },
  {
   "cell_type": "code",
   "execution_count": 6,
   "metadata": {
    "collapsed": false
   },
   "outputs": [
    {
     "name": "stdout",
     "output_type": "stream",
     "text": [
      "['odimh5_archive/66/2016/12/01/']\n",
      "[<Key: roames-wxradar-archive,odimh5_archive/66/2016/12/01/66_20161201_040000.h5>, <Key: roames-wxradar-archive,odimh5_archive/66/2016/12/01/66_20161201_040600.h5>, <Key: roames-wxradar-archive,odimh5_archive/66/2016/12/01/66_20161201_041200.h5>, <Key: roames-wxradar-archive,odimh5_archive/66/2016/12/01/66_20161201_041800.h5>, <Key: roames-wxradar-archive,odimh5_archive/66/2016/12/01/66_20161201_042400.h5>, <Key: roames-wxradar-archive,odimh5_archive/66/2016/12/01/66_20161201_043000.h5>, <Key: roames-wxradar-archive,odimh5_archive/66/2016/12/01/66_20161201_043600.h5>, <Key: roames-wxradar-archive,odimh5_archive/66/2016/12/01/66_20161201_044200.h5>, <Key: roames-wxradar-archive,odimh5_archive/66/2016/12/01/66_20161201_044800.h5>, <Key: roames-wxradar-archive,odimh5_archive/66/2016/12/01/66_20161201_045400.h5>, <Key: roames-wxradar-archive,odimh5_archive/66/2016/12/01/66_20161201_050000.h5>, <Key: roames-wxradar-archive,odimh5_archive/66/2016/12/01/66_20161201_050600.h5>, <Key: roames-wxradar-archive,odimh5_archive/66/2016/12/01/66_20161201_051200.h5>, <Key: roames-wxradar-archive,odimh5_archive/66/2016/12/01/66_20161201_051800.h5>, <Key: roames-wxradar-archive,odimh5_archive/66/2016/12/01/66_20161201_052400.h5>, <Key: roames-wxradar-archive,odimh5_archive/66/2016/12/01/66_20161201_053000.h5>, <Key: roames-wxradar-archive,odimh5_archive/66/2016/12/01/66_20161201_053600.h5>, <Key: roames-wxradar-archive,odimh5_archive/66/2016/12/01/66_20161201_054200.h5>, <Key: roames-wxradar-archive,odimh5_archive/66/2016/12/01/66_20161201_054800.h5>, <Key: roames-wxradar-archive,odimh5_archive/66/2016/12/01/66_20161201_055400.h5>, <Key: roames-wxradar-archive,odimh5_archive/66/2016/12/01/66_20161201_060000.h5>, <Key: roames-wxradar-archive,odimh5_archive/66/2016/12/01/66_20161201_060600.h5>, <Key: roames-wxradar-archive,odimh5_archive/66/2016/12/01/66_20161201_061200.h5>, <Key: roames-wxradar-archive,odimh5_archive/66/2016/12/01/66_20161201_061800.h5>, <Key: roames-wxradar-archive,odimh5_archive/66/2016/12/01/66_20161201_062400.h5>, <Key: roames-wxradar-archive,odimh5_archive/66/2016/12/01/66_20161201_063000.h5>]\n"
     ]
    },
    {
     "name": "stderr",
     "output_type": "stream",
     "text": [
      "/home/meso/anaconda2/lib/python2.7/site-packages/matplotlib/animation.py:784: UserWarning: MovieWriter ImageMagick unavailable\n",
      "  warnings.warn(\"MovieWriter %s unavailable\" % writer)\n"
     ]
    },
    {
     "name": "stdout",
     "output_type": "stream",
     "text": [
      "time: 9min 51s\n"
     ]
    }
   ],
   "source": [
    "# Plotting and creating an animation using the radar datas.\n",
    "# Something close to home.\n",
    "# Use the option of saying 'now' to retrieve current UTC.\n",
    "\n",
    "#config vars\n",
    "radar_id     = '66'\n",
    "sweep        = 0\n",
    "refl_min     = -10\n",
    "refl_max     = 65\n",
    "vel_min      = -30\n",
    "vel_max      = 30\n",
    "start_date   = '2016/12/18'\n",
    "start_time   = '03:00:00'\n",
    "end_date     = '2016/12/18'\n",
    "end_time     = '05:30:00'\n",
    "max_lat      = -27.25\n",
    "min_lat      = -28\n",
    "min_lon      = 152.25\n",
    "max_lon      = 153.25\n",
    "lat_grid     = 0.2\n",
    "lon_grid     = 0.2\n",
    "bm_res       = 'h' #l (low), i (intermediate), h (high), f (full)\n",
    "\n",
    "\n",
    "lal = np.arange(min_lat, max_lat, lat_grid)\n",
    "lol = np.arange(min_lon, max_lon, lon_grid)\n",
    "\n",
    "# build keys\n",
    "my_data_keys = ausrad_site_datespan(start_date=start_date,start_time=start_time,\n",
    "                                         end_date=end_date,end_time=end_time,\n",
    "                                         site=radar_id)\n",
    "#confirm keys\n",
    "print(my_data_keys)\n",
    "\n",
    "generate_layers(min_lat = min_lat,max_lat = max_lat,\n",
    "                min_lon = min_lon, max_lon = max_lon)\n",
    "\n",
    "\n",
    "\n",
    "#Setup figure size\n",
    "fig = plt.figure(figsize=[15,7])\n",
    "anim_66 = animation.FuncAnimation(fig, animate, frames=len(my_data_keys))\n",
    "anim_66.save('/home/meso/test.gif', writer='ImageMagick', fps=2)\n",
    "plt.close()"
   ]
  },
  {
   "cell_type": "code",
   "execution_count": null,
   "metadata": {
    "collapsed": false
   },
   "outputs": [],
   "source": [
    "# The gifs created will not run inline in Jupyter Notebook unless the gif files are opened.\n",
    "\n",
    "with open('/home/meso/test.gif','rb') as f:\n",
    "    display(Image(f.read()), format='png')"
   ]
  },
  {
   "cell_type": "code",
   "execution_count": null,
   "metadata": {
    "collapsed": true
   },
   "outputs": [],
   "source": []
  },
  {
   "cell_type": "code",
   "execution_count": null,
   "metadata": {
    "collapsed": true
   },
   "outputs": [],
   "source": []
  }
 ],
 "metadata": {
  "anaconda-cloud": {},
  "kernelspec": {
   "display_name": "Python [conda root]",
   "language": "python",
   "name": "conda-root-py"
  },
  "language_info": {
   "codemirror_mode": {
    "name": "ipython",
    "version": 2
   },
   "file_extension": ".py",
   "mimetype": "text/x-python",
   "name": "python",
   "nbconvert_exporter": "python",
   "pygments_lexer": "ipython2",
   "version": "2.7.12"
  }
 },
 "nbformat": 4,
 "nbformat_minor": 0
}
