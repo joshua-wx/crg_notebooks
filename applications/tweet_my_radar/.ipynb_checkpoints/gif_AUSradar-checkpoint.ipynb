{
 "cells": [
  {
   "cell_type": "markdown",
   "metadata": {},
   "source": [
    "How to use the Twitter API and Py-ART to Tweet Your Australian Radar!\n",
    "----------------------------------------------------------\n",
    "\n",
    "*Scott Collis, Argonne National Laboratory* Adapted for Australian radars by Joshua Soderholm"
   ]
  },
  {
   "cell_type": "code",
   "execution_count": 1,
   "metadata": {
    "collapsed": false
   },
   "outputs": [],
   "source": [
    "#First some imports\n",
    "import pyart #https://github.com/ARM-DOE/pyart\n",
    "import matplotlib.pyplot as plt\n",
    "from boto.s3.connection import S3Connection #Anaconda installable\n",
    "import shutil, os\n",
    "from datetime import timedelta, datetime\n",
    "import numpy as np\n",
    "import tempfile\n",
    "import shutil, os"
   ]
  },
  {
   "cell_type": "markdown",
   "metadata": {},
   "source": [
    "First, some functions to deal with Amazon Web Services Simple Storage Service (s3) holding of BOM radar archive. This is a realtime and historical archive provided by Fugro-ROAMES for testing purposes. Future aim is to host this archive permanently, publically."
   ]
  },
  {
   "cell_type": "code",
   "execution_count": 19,
   "metadata": {
    "collapsed": true
   },
   "outputs": [],
   "source": [
    "def dateFilter(file_datelist, start_datetime, end_datetime):\n",
    "    print start_datetime\n",
    "    print end_datetime\n",
    "    print file_datelist\n",
    "    mask       = start_datetime < file_datelist < end_datetime\n",
    "    filt_dates = file_datelist(mask)\n",
    "    return filt_dates\n",
    "\n",
    "\n",
    "def get_radar_from_aws(site, start_datetime,end_datetime):\n",
    "    \"\"\"\n",
    "    Get the closest volume of NEXRAD data to a particular datetime.\n",
    "    Parameters\n",
    "    ----------\n",
    "    site : string\n",
    "        four letter radar designation \n",
    "    datetime_t : datetime\n",
    "        desired date time\n",
    "    \"\"\"\n",
    "    \n",
    "    #First create the query string for the bucket knowing\n",
    "    #how NOAA and AWS store the data\n",
    "    \n",
    "    my_pref = \"odimh5_archive/\" + site + start_datetime.strftime('/%Y/%m/%d/')\n",
    "    #Connect to the bucket\n",
    "    \n",
    "    conn = S3Connection(anon = True)\n",
    "    bucket = conn.get_bucket('roames-wxradar-archive')\n",
    "    \n",
    "    #Get a list of files \n",
    "    \n",
    "    bucket_list = list(bucket.list(prefix = my_pref))\n",
    "    #print(bucket_list)\n",
    "    #we are going to create a list of keys and datetimes to allow easy searching\n",
    "    \n",
    "    keys = []\n",
    "    datetimes = []\n",
    "    \n",
    "    #populate the list\n",
    "    for i in range(len(bucket_list)):\n",
    "        this_str = str(bucket_list[i].key)\n",
    "        if 'h5' in this_str:\n",
    "            endme = this_str[-18:-3]\n",
    "            fmt = '%Y%m%d_%H%M%S' \n",
    "            dt = datetime.strptime(endme, fmt)\n",
    "            datetimes.append(dt)\n",
    "            keys.append(bucket_list[i])\n",
    "            #print(dt)\n",
    "    \n",
    "    #function to allow easy searching \n",
    "    \n",
    "    #def func(x):\n",
    "    #    delta =  x - datetime_t if x > datetime_t else timedelta.max\n",
    "    #    return delta\n",
    "    \n",
    "    #find the closest available radar to your datetime \n",
    "    datetime_list = dateFilter(datetimes, start_datetime, end_datetime)\n",
    "    index         = datetimes.index(datetime_list)\n",
    "    #print(closest_datetime)\n",
    "    #create a temp file, download radar data to file from S3\n",
    "    #read into a radar object and return\n",
    "    \n",
    "    localfile = tempfile.NamedTemporaryFile()\n",
    "    keys[index].get_contents_to_filename(localfile.name)\n",
    "    radar = pyart.aux_io.read_odim_h5(localfile.name, file_field_names=True) \n",
    "    return radar"
   ]
  },
  {
   "cell_type": "markdown",
   "metadata": {
    "collapsed": true
   },
   "source": [
    "Ok.. Now a cool method for tweeting your radar!"
   ]
  },
  {
   "cell_type": "code",
   "execution_count": 20,
   "metadata": {
    "collapsed": false
   },
   "outputs": [],
   "source": [
    "def tweet_my_radar(start_datetime, stop_datetime, radar, min_lat = None,\n",
    "                  max_lat = None, min_lon = None, \n",
    "                  max_lon = None):\n",
    "    \"\"\"\n",
    "    Fetch a radar from S3, plot it and tweet plus statistics.\n",
    "    \n",
    "    Grab a radar from a site and use the Twitter API\n",
    "    to tweet the PPI from the lowest tilt to twitter.\n",
    "    Also tweet the number of gates above two reflectivity\n",
    "    thresholds and the min and max reflectivity.\n",
    "    \n",
    "    Parameters\n",
    "    ----------\n",
    "    datetime: datetime object\n",
    "        Python datetime object to be passed to the method\n",
    "        to find the nearest radar object from AWS S3 using\n",
    "        boto. \n",
    "    \n",
    "    radar: String\n",
    "        Two number radar code (e.g., 02 Sydney, 66 Brisbane)\n",
    "    \n",
    "    min_lat, max_lat, min_lon, max_lon: floats\n",
    "        bounds for the display\n",
    "        \n",
    "    Returns\n",
    "    -------\n",
    "    None\n",
    "    \n",
    "    \"\"\"\n",
    "    #Get a Py-ART radar Object\n",
    "    my_radar = get_radar_from_aws(radar,start_datetime,stop_datetime )\n",
    "    my_radar.fields['DBZH']['standard_name'] = 'Reflectivity'\n",
    "    my_radar.fields['DBZH']['units'] = 'dBZ'\n",
    "    my_radar.fields['DBZH']['long_name'] = 'Radar Reflectivity Factor'\n",
    "    #Make a display\n",
    "    display = pyart.graph.RadarMapDisplay(my_radar)\n",
    "    fig = plt.figure(figsize = [10,8])\n",
    "    #Plot Z from lowest tilt\n",
    "    display.plot_ppi_map('DBZH', sweep = 1, resolution = 'i',\n",
    "                        vmin = -8, vmax = 64, mask_outside = False,\n",
    "                        cmap = pyart.graph.cm.NWSRef,\n",
    "                        min_lat = min_lat, min_lon = min_lon,\n",
    "                        max_lat = max_lat, max_lon = max_lon)\n",
    "    #get a tempfile\n",
    "    localfile = tempfile.NamedTemporaryFile()\n",
    "    #Save to tempfile.. Need png or Twitter gets grumpy \n",
    "    plt.savefig(localfile.name + '.png')\n",
    "    print(localfile.name)\n",
    "    #Now grab some statistics.. \n",
    "    min_z = my_radar.fields['DBZH']['data'].min()\n",
    "    max_z = my_radar.fields['DBZH']['data'].max()\n",
    "    n_gates_20 = len(np.where(my_radar.fields['DBZH']['data'] > 20.0)[0])\n",
    "    n_gates_40 = len(np.where(my_radar.fields['DBZH']['data'] > 40.0)[0])\n",
    "    \n",
    "    #Format the strings.. TODO: turn into percent\n",
    "    gdata = \"There are {0} gates above 20dBZ and {1} above 40dBZ\".format(n_gates_20, \n",
    "                                                                     n_gates_40)\n",
    "    \n",
    "    #Make the tweet text\n",
    "    mmdata = \"The min Z is {0}dBZ and the max is {1}dBZ\".format(min_z,\n",
    "                                                            max_z)\n",
    "    #And... post it.. yes.. it is that easy!\n",
    "    tapi.PostUpdate( gdata + ' ' + mmdata, \n",
    "              media = localfile.name + '.png')\n",
    "    "
   ]
  },
  {
   "cell_type": "code",
   "execution_count": 21,
   "metadata": {
    "collapsed": false
   },
   "outputs": [
    {
     "name": "stdout",
     "output_type": "stream",
     "text": [
      "2014-11-27 06:00:00\n",
      "2014-11-27 08:00:00\n",
      "[datetime.datetime(2014, 11, 27, 0, 0, 29), datetime.datetime(2014, 11, 27, 0, 6, 30), datetime.datetime(2014, 11, 27, 0, 12, 29), datetime.datetime(2014, 11, 27, 0, 18, 30), datetime.datetime(2014, 11, 27, 0, 24, 30), datetime.datetime(2014, 11, 27, 0, 30, 30), datetime.datetime(2014, 11, 27, 0, 36, 30), datetime.datetime(2014, 11, 27, 0, 42, 30), datetime.datetime(2014, 11, 27, 0, 48, 30), datetime.datetime(2014, 11, 27, 0, 54, 30), datetime.datetime(2014, 11, 27, 1, 0, 30), datetime.datetime(2014, 11, 27, 1, 6, 31), datetime.datetime(2014, 11, 27, 1, 12, 30), datetime.datetime(2014, 11, 27, 1, 18, 30), datetime.datetime(2014, 11, 27, 1, 24, 30), datetime.datetime(2014, 11, 27, 1, 31, 2), datetime.datetime(2014, 11, 27, 1, 36, 30), datetime.datetime(2014, 11, 27, 1, 42, 30), datetime.datetime(2014, 11, 27, 1, 48, 30), datetime.datetime(2014, 11, 27, 1, 54, 30), datetime.datetime(2014, 11, 27, 2, 0, 30), datetime.datetime(2014, 11, 27, 2, 6, 31), datetime.datetime(2014, 11, 27, 2, 12, 30), datetime.datetime(2014, 11, 27, 2, 18, 30), datetime.datetime(2014, 11, 27, 2, 24, 30), datetime.datetime(2014, 11, 27, 2, 30, 31), datetime.datetime(2014, 11, 27, 2, 36, 31), datetime.datetime(2014, 11, 27, 2, 42, 30), datetime.datetime(2014, 11, 27, 2, 48, 30), datetime.datetime(2014, 11, 27, 2, 54, 31), datetime.datetime(2014, 11, 27, 3, 0, 31), datetime.datetime(2014, 11, 27, 3, 6, 32), datetime.datetime(2014, 11, 27, 3, 12, 31), datetime.datetime(2014, 11, 27, 3, 18, 31), datetime.datetime(2014, 11, 27, 3, 24, 31), datetime.datetime(2014, 11, 27, 3, 30, 31), datetime.datetime(2014, 11, 27, 3, 36, 31), datetime.datetime(2014, 11, 27, 3, 42, 31), datetime.datetime(2014, 11, 27, 3, 48, 31), datetime.datetime(2014, 11, 27, 3, 54, 31), datetime.datetime(2014, 11, 27, 4, 0, 31), datetime.datetime(2014, 11, 27, 4, 6, 32), datetime.datetime(2014, 11, 27, 4, 12, 31), datetime.datetime(2014, 11, 27, 4, 18, 31), datetime.datetime(2014, 11, 27, 4, 24, 31), datetime.datetime(2014, 11, 27, 4, 30, 31), datetime.datetime(2014, 11, 27, 4, 36, 31), datetime.datetime(2014, 11, 27, 4, 42, 31), datetime.datetime(2014, 11, 27, 4, 48, 31), datetime.datetime(2014, 11, 27, 4, 54, 31), datetime.datetime(2014, 11, 27, 5, 0, 32), datetime.datetime(2014, 11, 27, 5, 6, 33), datetime.datetime(2014, 11, 27, 5, 12, 32), datetime.datetime(2014, 11, 27, 5, 18, 31), datetime.datetime(2014, 11, 27, 5, 24, 31), datetime.datetime(2014, 11, 27, 5, 30, 32), datetime.datetime(2014, 11, 27, 5, 36, 32), datetime.datetime(2014, 11, 27, 5, 42, 32), datetime.datetime(2014, 11, 27, 5, 48, 32), datetime.datetime(2014, 11, 27, 5, 54, 32), datetime.datetime(2014, 11, 27, 6, 0, 32), datetime.datetime(2014, 11, 27, 6, 6, 33), datetime.datetime(2014, 11, 27, 6, 12, 32), datetime.datetime(2014, 11, 27, 6, 18, 32), datetime.datetime(2014, 11, 27, 6, 24, 32), datetime.datetime(2014, 11, 27, 6, 30, 32), datetime.datetime(2014, 11, 27, 6, 36, 32), datetime.datetime(2014, 11, 27, 6, 42, 32), datetime.datetime(2014, 11, 27, 6, 48, 32), datetime.datetime(2014, 11, 27, 6, 54, 32), datetime.datetime(2014, 11, 27, 7, 0, 32), datetime.datetime(2014, 11, 27, 7, 6, 34), datetime.datetime(2014, 11, 27, 7, 12, 32), datetime.datetime(2014, 11, 27, 7, 18, 32), datetime.datetime(2014, 11, 27, 7, 24, 32), datetime.datetime(2014, 11, 27, 7, 30, 32), datetime.datetime(2014, 11, 27, 7, 36, 32), datetime.datetime(2014, 11, 27, 7, 42, 33), datetime.datetime(2014, 11, 27, 7, 48, 32), datetime.datetime(2014, 11, 27, 7, 54, 33), datetime.datetime(2014, 11, 27, 8, 0, 33), datetime.datetime(2014, 11, 27, 8, 6, 34), datetime.datetime(2014, 11, 27, 8, 12, 33), datetime.datetime(2014, 11, 27, 8, 18, 33), datetime.datetime(2014, 11, 27, 8, 24, 33), datetime.datetime(2014, 11, 27, 8, 30, 33), datetime.datetime(2014, 11, 27, 8, 36, 33), datetime.datetime(2014, 11, 27, 8, 42, 33), datetime.datetime(2014, 11, 27, 8, 48, 33), datetime.datetime(2014, 11, 27, 8, 54, 33), datetime.datetime(2014, 11, 27, 9, 0, 33), datetime.datetime(2014, 11, 27, 9, 6, 34), datetime.datetime(2014, 11, 27, 9, 12, 33), datetime.datetime(2014, 11, 27, 9, 18, 33), datetime.datetime(2014, 11, 27, 9, 24, 33), datetime.datetime(2014, 11, 27, 9, 30, 33), datetime.datetime(2014, 11, 27, 9, 36, 34), datetime.datetime(2014, 11, 27, 9, 42, 33), datetime.datetime(2014, 11, 27, 9, 48, 34), datetime.datetime(2014, 11, 27, 9, 54, 33), datetime.datetime(2014, 11, 27, 10, 0, 34), datetime.datetime(2014, 11, 27, 10, 6, 35), datetime.datetime(2014, 11, 27, 10, 12, 34), datetime.datetime(2014, 11, 27, 10, 18, 33), datetime.datetime(2014, 11, 27, 10, 24, 34), datetime.datetime(2014, 11, 27, 10, 30, 34), datetime.datetime(2014, 11, 27, 10, 36, 34), datetime.datetime(2014, 11, 27, 10, 42, 34), datetime.datetime(2014, 11, 27, 10, 48, 34), datetime.datetime(2014, 11, 27, 10, 54, 34), datetime.datetime(2014, 11, 27, 11, 0, 34), datetime.datetime(2014, 11, 27, 11, 6, 35), datetime.datetime(2014, 11, 27, 11, 12, 34), datetime.datetime(2014, 11, 27, 11, 18, 34), datetime.datetime(2014, 11, 27, 11, 24, 34), datetime.datetime(2014, 11, 27, 11, 30, 34), datetime.datetime(2014, 11, 27, 11, 36, 34), datetime.datetime(2014, 11, 27, 11, 42, 34), datetime.datetime(2014, 11, 27, 11, 48, 34), datetime.datetime(2014, 11, 27, 11, 54, 34), datetime.datetime(2014, 11, 27, 12, 0, 34), datetime.datetime(2014, 11, 27, 12, 6, 36), datetime.datetime(2014, 11, 27, 12, 12, 35), datetime.datetime(2014, 11, 27, 12, 18, 35), datetime.datetime(2014, 11, 27, 12, 24, 35), datetime.datetime(2014, 11, 27, 12, 30, 35), datetime.datetime(2014, 11, 27, 12, 36, 35), datetime.datetime(2014, 11, 27, 12, 42, 35), datetime.datetime(2014, 11, 27, 12, 48, 35), datetime.datetime(2014, 11, 27, 12, 54, 35), datetime.datetime(2014, 11, 27, 13, 0, 35), datetime.datetime(2014, 11, 27, 13, 6, 36), datetime.datetime(2014, 11, 27, 13, 12, 35), datetime.datetime(2014, 11, 27, 13, 18, 35), datetime.datetime(2014, 11, 27, 13, 24, 35), datetime.datetime(2014, 11, 27, 13, 30, 35), datetime.datetime(2014, 11, 27, 13, 36, 35), datetime.datetime(2014, 11, 27, 13, 42, 35), datetime.datetime(2014, 11, 27, 13, 48, 35), datetime.datetime(2014, 11, 27, 13, 54, 35), datetime.datetime(2014, 11, 27, 14, 0, 35), datetime.datetime(2014, 11, 27, 14, 6, 37), datetime.datetime(2014, 11, 27, 14, 12, 35), datetime.datetime(2014, 11, 27, 14, 18, 35), datetime.datetime(2014, 11, 27, 14, 24, 35), datetime.datetime(2014, 11, 27, 14, 30, 35), datetime.datetime(2014, 11, 27, 14, 36, 35), datetime.datetime(2014, 11, 27, 14, 42, 36), datetime.datetime(2014, 11, 27, 14, 48, 36), datetime.datetime(2014, 11, 27, 14, 54, 36), datetime.datetime(2014, 11, 27, 15, 0, 36), datetime.datetime(2014, 11, 27, 15, 12, 36), datetime.datetime(2014, 11, 27, 15, 18, 36), datetime.datetime(2014, 11, 27, 15, 24, 36), datetime.datetime(2014, 11, 27, 15, 30, 36), datetime.datetime(2014, 11, 27, 15, 36, 36), datetime.datetime(2014, 11, 27, 15, 42, 36), datetime.datetime(2014, 11, 27, 15, 48, 36), datetime.datetime(2014, 11, 27, 15, 54, 36), datetime.datetime(2014, 11, 27, 16, 0, 36), datetime.datetime(2014, 11, 27, 16, 6, 37), datetime.datetime(2014, 11, 27, 16, 12, 36), datetime.datetime(2014, 11, 27, 16, 18, 36), datetime.datetime(2014, 11, 27, 16, 24, 36), datetime.datetime(2014, 11, 27, 16, 30, 36), datetime.datetime(2014, 11, 27, 16, 36, 36), datetime.datetime(2014, 11, 27, 16, 42, 36), datetime.datetime(2014, 11, 27, 16, 48, 37), datetime.datetime(2014, 11, 27, 16, 54, 36), datetime.datetime(2014, 11, 27, 17, 0, 37), datetime.datetime(2014, 11, 27, 17, 6, 38), datetime.datetime(2014, 11, 27, 17, 12, 37), datetime.datetime(2014, 11, 27, 17, 18, 37), datetime.datetime(2014, 11, 27, 17, 24, 37), datetime.datetime(2014, 11, 27, 17, 30, 37), datetime.datetime(2014, 11, 27, 17, 36, 37), datetime.datetime(2014, 11, 27, 17, 42, 37), datetime.datetime(2014, 11, 27, 17, 48, 37), datetime.datetime(2014, 11, 27, 17, 54, 37), datetime.datetime(2014, 11, 27, 18, 0, 37), datetime.datetime(2014, 11, 27, 18, 6, 38), datetime.datetime(2014, 11, 27, 18, 12, 37), datetime.datetime(2014, 11, 27, 18, 18, 37), datetime.datetime(2014, 11, 27, 18, 24, 37), datetime.datetime(2014, 11, 27, 18, 30, 37), datetime.datetime(2014, 11, 27, 18, 36, 37), datetime.datetime(2014, 11, 27, 18, 42, 37), datetime.datetime(2014, 11, 27, 18, 48, 37), datetime.datetime(2014, 11, 27, 18, 54, 37), datetime.datetime(2014, 11, 27, 19, 0, 37), datetime.datetime(2014, 11, 27, 19, 6, 38), datetime.datetime(2014, 11, 27, 19, 12, 38), datetime.datetime(2014, 11, 27, 19, 18, 37), datetime.datetime(2014, 11, 27, 19, 24, 37), datetime.datetime(2014, 11, 27, 19, 30, 38), datetime.datetime(2014, 11, 27, 19, 36, 37), datetime.datetime(2014, 11, 27, 19, 42, 38), datetime.datetime(2014, 11, 27, 19, 48, 38), datetime.datetime(2014, 11, 27, 19, 54, 38), datetime.datetime(2014, 11, 27, 20, 0, 38), datetime.datetime(2014, 11, 27, 20, 6, 39), datetime.datetime(2014, 11, 27, 20, 12, 38), datetime.datetime(2014, 11, 27, 20, 18, 38), datetime.datetime(2014, 11, 27, 20, 24, 38), datetime.datetime(2014, 11, 27, 20, 30, 38), datetime.datetime(2014, 11, 27, 20, 36, 38), datetime.datetime(2014, 11, 27, 20, 42, 38), datetime.datetime(2014, 11, 27, 20, 48, 38), datetime.datetime(2014, 11, 27, 20, 54, 16), datetime.datetime(2014, 11, 27, 21, 0, 16), datetime.datetime(2014, 11, 27, 21, 6, 41), datetime.datetime(2014, 11, 27, 21, 12, 39), datetime.datetime(2014, 11, 27, 21, 18, 17), datetime.datetime(2014, 11, 27, 21, 24, 18), datetime.datetime(2014, 11, 27, 21, 30, 40), datetime.datetime(2014, 11, 27, 21, 36, 41), datetime.datetime(2014, 11, 27, 21, 42, 19), datetime.datetime(2014, 11, 27, 21, 48, 19), datetime.datetime(2014, 11, 27, 21, 54, 42), datetime.datetime(2014, 11, 27, 22, 0, 42), datetime.datetime(2014, 11, 27, 22, 6, 41), datetime.datetime(2014, 11, 27, 22, 12, 20), datetime.datetime(2014, 11, 27, 22, 18, 43), datetime.datetime(2014, 11, 27, 22, 24, 43), datetime.datetime(2014, 11, 27, 22, 30, 21), datetime.datetime(2014, 11, 27, 22, 36, 21), datetime.datetime(2014, 11, 27, 22, 42, 44), datetime.datetime(2014, 11, 27, 22, 48, 44), datetime.datetime(2014, 11, 27, 22, 54, 22), datetime.datetime(2014, 11, 27, 23, 0, 23), datetime.datetime(2014, 11, 27, 23, 6, 24), datetime.datetime(2014, 11, 27, 23, 12, 23), datetime.datetime(2014, 11, 27, 23, 18, 22), datetime.datetime(2014, 11, 27, 23, 24, 23), datetime.datetime(2014, 11, 27, 23, 30, 23), datetime.datetime(2014, 11, 27, 23, 36, 23), datetime.datetime(2014, 11, 27, 23, 42, 23), datetime.datetime(2014, 11, 27, 23, 48, 23), datetime.datetime(2014, 11, 27, 23, 54, 23)]\n"
     ]
    },
    {
     "ename": "TypeError",
     "evalue": "can't compare datetime.datetime to list",
     "output_type": "error",
     "traceback": [
      "\u001b[1;31m---------------------------------------------------------------------------\u001b[0m",
      "\u001b[1;31mTypeError\u001b[0m                                 Traceback (most recent call last)",
      "\u001b[1;32m<ipython-input-21-092b4ed7dcd0>\u001b[0m in \u001b[0;36m<module>\u001b[1;34m()\u001b[0m\n\u001b[0;32m     16\u001b[0m tweet_my_radar(s_t, e_t, radar, min_lat = min_lat,\n\u001b[0;32m     17\u001b[0m                   \u001b[0mmax_lat\u001b[0m \u001b[1;33m=\u001b[0m \u001b[0mmax_lat\u001b[0m\u001b[1;33m,\u001b[0m \u001b[0mmin_lon\u001b[0m \u001b[1;33m=\u001b[0m \u001b[0mmin_lon\u001b[0m\u001b[1;33m,\u001b[0m\u001b[1;33m\u001b[0m\u001b[0m\n\u001b[1;32m---> 18\u001b[1;33m                   max_lon = max_lon)\n\u001b[0m",
      "\u001b[1;32m<ipython-input-20-d6da4f7b2eb4>\u001b[0m in \u001b[0;36mtweet_my_radar\u001b[1;34m(start_datetime, stop_datetime, radar, min_lat, max_lat, min_lon, max_lon)\u001b[0m\n\u001b[0;32m     29\u001b[0m     \"\"\"\n\u001b[0;32m     30\u001b[0m     \u001b[1;31m#Get a Py-ART radar Object\u001b[0m\u001b[1;33m\u001b[0m\u001b[1;33m\u001b[0m\u001b[0m\n\u001b[1;32m---> 31\u001b[1;33m     \u001b[0mmy_radar\u001b[0m \u001b[1;33m=\u001b[0m \u001b[0mget_radar_from_aws\u001b[0m\u001b[1;33m(\u001b[0m\u001b[0mradar\u001b[0m\u001b[1;33m,\u001b[0m\u001b[0mstart_datetime\u001b[0m\u001b[1;33m,\u001b[0m\u001b[0mstop_datetime\u001b[0m \u001b[1;33m)\u001b[0m\u001b[1;33m\u001b[0m\u001b[0m\n\u001b[0m\u001b[0;32m     32\u001b[0m     \u001b[0mmy_radar\u001b[0m\u001b[1;33m.\u001b[0m\u001b[0mfields\u001b[0m\u001b[1;33m[\u001b[0m\u001b[1;34m'DBZH'\u001b[0m\u001b[1;33m]\u001b[0m\u001b[1;33m[\u001b[0m\u001b[1;34m'standard_name'\u001b[0m\u001b[1;33m]\u001b[0m \u001b[1;33m=\u001b[0m \u001b[1;34m'Reflectivity'\u001b[0m\u001b[1;33m\u001b[0m\u001b[0m\n\u001b[0;32m     33\u001b[0m     \u001b[0mmy_radar\u001b[0m\u001b[1;33m.\u001b[0m\u001b[0mfields\u001b[0m\u001b[1;33m[\u001b[0m\u001b[1;34m'DBZH'\u001b[0m\u001b[1;33m]\u001b[0m\u001b[1;33m[\u001b[0m\u001b[1;34m'units'\u001b[0m\u001b[1;33m]\u001b[0m \u001b[1;33m=\u001b[0m \u001b[1;34m'dBZ'\u001b[0m\u001b[1;33m\u001b[0m\u001b[0m\n",
      "\u001b[1;32m<ipython-input-19-83f6eb8a4878>\u001b[0m in \u001b[0;36mget_radar_from_aws\u001b[1;34m(site, start_datetime, end_datetime)\u001b[0m\n\u001b[0;32m     55\u001b[0m \u001b[1;33m\u001b[0m\u001b[0m\n\u001b[0;32m     56\u001b[0m     \u001b[1;31m#find the closest available radar to your datetime\u001b[0m\u001b[1;33m\u001b[0m\u001b[1;33m\u001b[0m\u001b[0m\n\u001b[1;32m---> 57\u001b[1;33m     \u001b[0mdatetime_list\u001b[0m \u001b[1;33m=\u001b[0m \u001b[0mdateFilter\u001b[0m\u001b[1;33m(\u001b[0m\u001b[0mdatetimes\u001b[0m\u001b[1;33m,\u001b[0m \u001b[0mstart_datetime\u001b[0m\u001b[1;33m,\u001b[0m \u001b[0mend_datetime\u001b[0m\u001b[1;33m)\u001b[0m\u001b[1;33m\u001b[0m\u001b[0m\n\u001b[0m\u001b[0;32m     58\u001b[0m     \u001b[0mindex\u001b[0m         \u001b[1;33m=\u001b[0m \u001b[0mdatetimes\u001b[0m\u001b[1;33m.\u001b[0m\u001b[0mindex\u001b[0m\u001b[1;33m(\u001b[0m\u001b[0mdatetime_list\u001b[0m\u001b[1;33m)\u001b[0m\u001b[1;33m\u001b[0m\u001b[0m\n\u001b[0;32m     59\u001b[0m     \u001b[1;31m#print(closest_datetime)\u001b[0m\u001b[1;33m\u001b[0m\u001b[1;33m\u001b[0m\u001b[0m\n",
      "\u001b[1;32m<ipython-input-19-83f6eb8a4878>\u001b[0m in \u001b[0;36mdateFilter\u001b[1;34m(file_datelist, start_datetime, end_datetime)\u001b[0m\n\u001b[0;32m      3\u001b[0m     \u001b[1;32mprint\u001b[0m \u001b[0mend_datetime\u001b[0m\u001b[1;33m\u001b[0m\u001b[0m\n\u001b[0;32m      4\u001b[0m     \u001b[1;32mprint\u001b[0m \u001b[0mfile_datelist\u001b[0m\u001b[1;33m\u001b[0m\u001b[0m\n\u001b[1;32m----> 5\u001b[1;33m     \u001b[0mmask\u001b[0m       \u001b[1;33m=\u001b[0m \u001b[0mstart_datetime\u001b[0m \u001b[1;33m<\u001b[0m \u001b[0mfile_datelist\u001b[0m \u001b[1;33m<\u001b[0m \u001b[0mend_datetime\u001b[0m\u001b[1;33m\u001b[0m\u001b[0m\n\u001b[0m\u001b[0;32m      6\u001b[0m     \u001b[0mfilt_dates\u001b[0m \u001b[1;33m=\u001b[0m \u001b[0mfile_datelist\u001b[0m\u001b[1;33m(\u001b[0m\u001b[0mmask\u001b[0m\u001b[1;33m)\u001b[0m\u001b[1;33m\u001b[0m\u001b[0m\n\u001b[0;32m      7\u001b[0m     \u001b[1;32mreturn\u001b[0m \u001b[0mfilt_dates\u001b[0m\u001b[1;33m\u001b[0m\u001b[0m\n",
      "\u001b[1;31mTypeError\u001b[0m: can't compare datetime.datetime to list"
     ]
    }
   ],
   "source": [
    "#2014 hailstorm for Brisbane\n",
    "\n",
    "base_date = \"20141127_060000\"\n",
    "radar     = \"66\"\n",
    "start_datetime = \"20141127_060000\"\n",
    "end_datetime   = \"20141127_080000\"\n",
    "fmt = '%Y%m%d_%H%M%S' \n",
    "s_t = datetime.strptime(start_datetime, fmt)\n",
    "e_t = datetime.strptime(end_datetime, fmt)\n",
    "\n",
    "min_lat = -28.6\n",
    "max_lat = -26.8\n",
    "min_lon = 152.2\n",
    "max_lon = 154.2\n",
    "\n",
    "tweet_my_radar(s_t, e_t, radar, min_lat = min_lat,\n",
    "                  max_lat = max_lat, min_lon = min_lon, \n",
    "                  max_lon = max_lon)"
   ]
  },
  {
   "cell_type": "code",
   "execution_count": 8,
   "metadata": {
    "collapsed": false
   },
   "outputs": [
    {
     "ename": "S3ResponseError",
     "evalue": "S3ResponseError: 403 Forbidden\n",
     "output_type": "error",
     "traceback": [
      "\u001b[1;31m---------------------------------------------------------------------------\u001b[0m",
      "\u001b[1;31mS3ResponseError\u001b[0m                           Traceback (most recent call last)",
      "\u001b[1;32m<ipython-input-8-ad219b5a6945>\u001b[0m in \u001b[0;36m<module>\u001b[1;34m()\u001b[0m\n\u001b[0;32m     10\u001b[0m tweet_my_radar(b_d, radar, api, min_lat = min_lat,\n\u001b[0;32m     11\u001b[0m                   \u001b[0mmax_lat\u001b[0m \u001b[1;33m=\u001b[0m \u001b[0mmax_lat\u001b[0m\u001b[1;33m,\u001b[0m \u001b[0mmin_lon\u001b[0m \u001b[1;33m=\u001b[0m \u001b[0mmin_lon\u001b[0m\u001b[1;33m,\u001b[0m\u001b[1;33m\u001b[0m\u001b[0m\n\u001b[1;32m---> 12\u001b[1;33m                   max_lon = max_lon)\n\u001b[0m",
      "\u001b[1;32m<ipython-input-5-88dd7f982f38>\u001b[0m in \u001b[0;36mtweet_my_radar\u001b[1;34m(datetime, radar, tapi, min_lat, max_lat, min_lon, max_lon)\u001b[0m\n\u001b[0;32m     29\u001b[0m     \"\"\"\n\u001b[0;32m     30\u001b[0m     \u001b[1;31m#Get a Py-ART radar Object\u001b[0m\u001b[1;33m\u001b[0m\u001b[1;33m\u001b[0m\u001b[0m\n\u001b[1;32m---> 31\u001b[1;33m     \u001b[0mmy_radar\u001b[0m \u001b[1;33m=\u001b[0m \u001b[0mget_radar_from_aws\u001b[0m\u001b[1;33m(\u001b[0m\u001b[0mradar\u001b[0m\u001b[1;33m,\u001b[0m\u001b[0mb_d\u001b[0m \u001b[1;33m)\u001b[0m\u001b[1;33m\u001b[0m\u001b[0m\n\u001b[0m\u001b[0;32m     32\u001b[0m     \u001b[0mmy_radar\u001b[0m\u001b[1;33m.\u001b[0m\u001b[0mfields\u001b[0m\u001b[1;33m[\u001b[0m\u001b[1;34m'DBZH'\u001b[0m\u001b[1;33m]\u001b[0m\u001b[1;33m[\u001b[0m\u001b[1;34m'standard_name'\u001b[0m\u001b[1;33m]\u001b[0m \u001b[1;33m=\u001b[0m \u001b[1;34m'Reflectivity'\u001b[0m\u001b[1;33m\u001b[0m\u001b[0m\n\u001b[0;32m     33\u001b[0m     \u001b[0mmy_radar\u001b[0m\u001b[1;33m.\u001b[0m\u001b[0mfields\u001b[0m\u001b[1;33m[\u001b[0m\u001b[1;34m'DBZH'\u001b[0m\u001b[1;33m]\u001b[0m\u001b[1;33m[\u001b[0m\u001b[1;34m'units'\u001b[0m\u001b[1;33m]\u001b[0m \u001b[1;33m=\u001b[0m \u001b[1;34m'dBZ'\u001b[0m\u001b[1;33m\u001b[0m\u001b[0m\n",
      "\u001b[1;32m<ipython-input-2-3de5709be74d>\u001b[0m in \u001b[0;36mget_radar_from_aws\u001b[1;34m(site, datetime_t)\u001b[0m\n\u001b[0;32m     21\u001b[0m \u001b[1;33m\u001b[0m\u001b[0m\n\u001b[0;32m     22\u001b[0m     \u001b[0mconn\u001b[0m \u001b[1;33m=\u001b[0m \u001b[0mS3Connection\u001b[0m\u001b[1;33m(\u001b[0m\u001b[0manon\u001b[0m \u001b[1;33m=\u001b[0m \u001b[0mTrue\u001b[0m\u001b[1;33m)\u001b[0m\u001b[1;33m\u001b[0m\u001b[0m\n\u001b[1;32m---> 23\u001b[1;33m     \u001b[0mbucket\u001b[0m \u001b[1;33m=\u001b[0m \u001b[0mconn\u001b[0m\u001b[1;33m.\u001b[0m\u001b[0mget_bucket\u001b[0m\u001b[1;33m(\u001b[0m\u001b[1;34m'roames-wxradar-archive'\u001b[0m\u001b[1;33m)\u001b[0m\u001b[1;33m\u001b[0m\u001b[0m\n\u001b[0m\u001b[0;32m     24\u001b[0m \u001b[1;33m\u001b[0m\u001b[0m\n\u001b[0;32m     25\u001b[0m     \u001b[1;31m#Get a list of files\u001b[0m\u001b[1;33m\u001b[0m\u001b[1;33m\u001b[0m\u001b[0m\n",
      "\u001b[1;32m/home/meso/anaconda2/lib/python2.7/site-packages/boto/s3/connection.pyc\u001b[0m in \u001b[0;36mget_bucket\u001b[1;34m(self, bucket_name, validate, headers)\u001b[0m\n\u001b[0;32m    504\u001b[0m         \"\"\"\n\u001b[0;32m    505\u001b[0m         \u001b[1;32mif\u001b[0m \u001b[0mvalidate\u001b[0m\u001b[1;33m:\u001b[0m\u001b[1;33m\u001b[0m\u001b[0m\n\u001b[1;32m--> 506\u001b[1;33m             \u001b[1;32mreturn\u001b[0m \u001b[0mself\u001b[0m\u001b[1;33m.\u001b[0m\u001b[0mhead_bucket\u001b[0m\u001b[1;33m(\u001b[0m\u001b[0mbucket_name\u001b[0m\u001b[1;33m,\u001b[0m \u001b[0mheaders\u001b[0m\u001b[1;33m=\u001b[0m\u001b[0mheaders\u001b[0m\u001b[1;33m)\u001b[0m\u001b[1;33m\u001b[0m\u001b[0m\n\u001b[0m\u001b[0;32m    507\u001b[0m         \u001b[1;32melse\u001b[0m\u001b[1;33m:\u001b[0m\u001b[1;33m\u001b[0m\u001b[0m\n\u001b[0;32m    508\u001b[0m             \u001b[1;32mreturn\u001b[0m \u001b[0mself\u001b[0m\u001b[1;33m.\u001b[0m\u001b[0mbucket_class\u001b[0m\u001b[1;33m(\u001b[0m\u001b[0mself\u001b[0m\u001b[1;33m,\u001b[0m \u001b[0mbucket_name\u001b[0m\u001b[1;33m)\u001b[0m\u001b[1;33m\u001b[0m\u001b[0m\n",
      "\u001b[1;32m/home/meso/anaconda2/lib/python2.7/site-packages/boto/s3/connection.pyc\u001b[0m in \u001b[0;36mhead_bucket\u001b[1;34m(self, bucket_name, headers)\u001b[0m\n\u001b[0;32m    537\u001b[0m             \u001b[0merr\u001b[0m\u001b[1;33m.\u001b[0m\u001b[0merror_code\u001b[0m \u001b[1;33m=\u001b[0m \u001b[1;34m'AccessDenied'\u001b[0m\u001b[1;33m\u001b[0m\u001b[0m\n\u001b[0;32m    538\u001b[0m             \u001b[0merr\u001b[0m\u001b[1;33m.\u001b[0m\u001b[0merror_message\u001b[0m \u001b[1;33m=\u001b[0m \u001b[1;34m'Access Denied'\u001b[0m\u001b[1;33m\u001b[0m\u001b[0m\n\u001b[1;32m--> 539\u001b[1;33m             \u001b[1;32mraise\u001b[0m \u001b[0merr\u001b[0m\u001b[1;33m\u001b[0m\u001b[0m\n\u001b[0m\u001b[0;32m    540\u001b[0m         \u001b[1;32melif\u001b[0m \u001b[0mresponse\u001b[0m\u001b[1;33m.\u001b[0m\u001b[0mstatus\u001b[0m \u001b[1;33m==\u001b[0m \u001b[1;36m404\u001b[0m\u001b[1;33m:\u001b[0m\u001b[1;33m\u001b[0m\u001b[0m\n\u001b[0;32m    541\u001b[0m             \u001b[1;31m# For backward-compatibility, we'll populate part of the exception\u001b[0m\u001b[1;33m\u001b[0m\u001b[1;33m\u001b[0m\u001b[0m\n",
      "\u001b[1;31mS3ResponseError\u001b[0m: S3ResponseError: 403 Forbidden\n"
     ]
    }
   ],
   "source": [
    "#now for Brisbane\n",
    "\n",
    "radar   = \"66\"\n",
    "b_d     = datetime.now()\n",
    "min_lat = -28.6\n",
    "max_lat = -26.8\n",
    "min_lon = 152.2\n",
    "max_lon = 154.2\n",
    "\n",
    "tweet_my_radar(b_d, radar, min_lat = min_lat,\n",
    "                  max_lat = max_lat, min_lon = min_lon, \n",
    "                  max_lon = max_lon)"
   ]
  },
  {
   "cell_type": "code",
   "execution_count": null,
   "metadata": {
    "collapsed": true
   },
   "outputs": [],
   "source": []
  }
 ],
 "metadata": {
  "anaconda-cloud": {},
  "kernelspec": {
   "display_name": "Python [Root]",
   "language": "python",
   "name": "Python [Root]"
  },
  "language_info": {
   "codemirror_mode": {
    "name": "ipython",
    "version": 2
   },
   "file_extension": ".py",
   "mimetype": "text/x-python",
   "name": "python",
   "nbconvert_exporter": "python",
   "pygments_lexer": "ipython2",
   "version": "2.7.12"
  }
 },
 "nbformat": 4,
 "nbformat_minor": 1
}
