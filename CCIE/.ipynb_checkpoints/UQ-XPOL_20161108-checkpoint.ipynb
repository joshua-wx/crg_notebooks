{
 "cells": [
  {
   "cell_type": "code",
   "execution_count": 2,
   "metadata": {
    "collapsed": false
   },
   "outputs": [
    {
     "name": "stdout",
     "output_type": "stream",
     "text": [
      "\n",
      "====================================================================\n",
      "Create an RHI plot with reflectivity contour lines from an MDV file\n",
      "====================================================================\n",
      "\n",
      "An example which creates an RHI plot of velocity using a RadarDisplay object\n",
      "and adding Reflectivity contours from the same MDV file.\n",
      "\n",
      "\n",
      "\n",
      "## You are using the Python ARM Radar Toolkit (Py-ART), an open source\n",
      "## library for working with weather radar data.\n",
      "##\n",
      "## If you use this software to prepare a publication, please cite:\n",
      "##\n",
      "##     JJ Helmus and SM Collis, JORS 2016, doi: 10.5334/jors.119 \n"
     ]
    }
   ],
   "source": [
    "%matplotlib inline\n",
    "\n",
    "\"\"\"\n",
    "====================================================================\n",
    "Create an RHI plot with reflectivity contour lines from an MDV file\n",
    "====================================================================\n",
    "\n",
    "An example which creates an RHI plot of velocity using a RadarDisplay object\n",
    "and adding Reflectivity contours from the same MDV file.\n",
    "\n",
    "\"\"\"\n",
    "print __doc__\n",
    "\n",
    "# Author: Cory Weber (cweber@anl.gov)\n",
    "# License: BSD 3 clause\n",
    "import matplotlib.pyplot as plt\n",
    "from mpl_toolkits.basemap import Basemap\n",
    "from owslib.wms import WebMapService\n",
    "import pyart\n",
    "import numpy as np\n",
    "import os\n",
    "\n",
    "\n"
   ]
  },
  {
   "cell_type": "code",
   "execution_count": 3,
   "metadata": {
    "collapsed": false
   },
   "outputs": [],
   "source": [
    "def plot_rhi(in_fn,out_fn):\n",
    "    #Since the names in the HDF5 file are non-standard we use file_field_names = True\n",
    "    #Since the names in the HDF5 file are non-standard we use file_field_names = True\n",
    "    \n",
    "    radar = pyart.aux_io.read_odim_h5(in_fn, file_field_names=True) \n",
    "    \n",
    "    #rename fields\n",
    "    radar.fields['DBZH']['standard_name'] = 'Reflectivity'\n",
    "    radar.fields['DBZH']['units'] = 'dBZ'\n",
    "    radar.fields['DBZH']['long_name'] = 'Radar Reflectivity Factor'\n",
    "    radar.fields['VRADH']['standard_name'] = 'Velocity'\n",
    "    radar.fields['VRADH']['units'] = 'm/s'\n",
    "    radar.fields['VRADH']['long_name'] = 'Radial Velocity of Scatterers'\n",
    "\n",
    "    #create gate filter\n",
    "    gatefilter = pyart.correct.GateFilter(radar)\n",
    "    gatefilter.exclude_below('DBZH', 20)\n",
    "    \n",
    "    #create radar display object\n",
    "    plt.clf()\n",
    "    display = pyart.graph.RadarMapDisplay(radar)\n",
    "    \n",
    "    #refl plot\n",
    "    plt.subplot(1,2,1)\n",
    "    #create basemap\n",
    "    ref_m = Basemap(llcrnrlon=min_lon,\n",
    "            llcrnrlat=min_lat,\n",
    "            urcrnrlon=max_lon,\n",
    "            urcrnrlat=max_lat, \n",
    "            projection='tmerc', \n",
    "            resolution = bm_res,\n",
    "            epsg = 3857)\n",
    "    #load background image\n",
    "    im = plt.imread('background.png')\n",
    "    ref_m.imshow(im,zorder = 0,origin='upper')\n",
    "    #plot radar data\n",
    "    display.plot_ppi_map('DBZH', sweep=sweep, resolution=bm_res,\n",
    "                         vmin=refl_min, vmax=refl_max, mask_outside=False,\n",
    "                         cmap=pyart.graph.cm.NWSRef,lat_lines=lal, lon_lines=lol,\n",
    "                         gatefilter=gatefilter, basemap = ref_m, zorder = 1)\n",
    "    #overlay mapping data\n",
    "    im = plt.imread('overlay.png')\n",
    "    ref_m.imshow(im,zorder = 2,origin='upper')\n",
    "    #overlay countries\n",
    "    display.basemap.drawcounties()\n",
    "    \n",
    "    #refl plot\n",
    "    plt.subplot(1,2,2)\n",
    "    #create basemap\n",
    "    ref_m = Basemap(llcrnrlon=min_lon,\n",
    "            llcrnrlat=min_lat,\n",
    "            urcrnrlon=max_lon,\n",
    "            urcrnrlat=max_lat, \n",
    "            projection='tmerc', \n",
    "            resolution = bm_res,\n",
    "            epsg = 3857)\n",
    "    #load background image\n",
    "    im = plt.imread('background.png')\n",
    "    ref_m.imshow(im,zorder = 0,origin='upper')\n",
    "    #plot radar data\n",
    "    display.plot_ppi_map('VRADH', sweep=sweep, resolution=bm_res,\n",
    "                         vmin=vel_min, vmax=vel_max, mask_outside=False,\n",
    "                         cmap=pyart.graph.cm.NWSVel,lat_lines=lal, lon_lines=lol,\n",
    "                         gatefilter=gatefilter, basemap = ref_m, zorder = 1)\n",
    "    #overlay mapping data\n",
    "    im = plt.imread('overlay.png')\n",
    "    ref_m.imshow(im,zorder = 2,origin='upper')    \n",
    "    #overlay countries\n",
    "    display.basemap.drawcounties()\n",
    "    # save figure\n",
    "    plt.savefig(out_fn, dpi=100)\n",
    "    "
   ]
  },
  {
   "cell_type": "code",
   "execution_count": null,
   "metadata": {
    "collapsed": true
   },
   "outputs": [],
   "source": [
    "def generate_layers(max_lat,min_lat,max_lon,min_lon):\n",
    "    \n",
    "    #generate map bounds\n",
    "    lat_dif   = max_lat-min_lat\n",
    "    lon_dif   = max_lon-min_lon\n",
    "    map_x_sz  = int(500*lon_dif)\n",
    "    map_y_sz  = int(500*lat_dif)\n",
    "\n",
    "    #create overly map\n",
    "    wms = WebMapService('http://services.ga.gov.au/site_7/services/Topographic_Base_Map_WM/MapServer/WMSServer?', version='1.1.1')\n",
    "    img = wms.getmap(layers=['Roads_4','Populated_Places_6'],srs='EPSG:4326',bbox=(min_lon, min_lat, max_lon, max_lat),size=(map_x_sz, map_y_sz),format='image/png',transparent=True)\n",
    "    out = open('overlay.png', 'wb')\n",
    "    out.write(img.read())\n",
    "    out.close()  \n",
    "\n",
    "    #create background map\n",
    "    wms = WebMapService('http://ows.terrestris.de/osm-gray/service?', version='1.1.1')\n",
    "    img = wms.getmap(layers=['TOPO-WMS'],srs='EPSG:4326',bbox=(min_lon, min_lat, max_lon, max_lat),size=(map_x_sz, map_y_sz),format='image/png',transparent=True)\n",
    "    out = open('background.png', 'wb')\n",
    "    out.write(img.read())\n",
    "    out.close()"
   ]
  },
  {
   "cell_type": "code",
   "execution_count": null,
   "metadata": {
    "collapsed": false
   },
   "outputs": [
    {
     "name": "stdout",
     "output_type": "stream",
     "text": [
      "('processing file ', 1, ' ', '/run/media/meso/DATA/obs_data/uqxpol-20161108/odimh5/99_20161108_040900.h5')\n"
     ]
    }
   ],
   "source": [
    "#config vars\n",
    "root_path    = '/run/media/meso/DATA/obs_data/uqxpol-20161108/odimh5/'\n",
    "out_dir      = '/run/media/meso/DATA/obs_data/uqxpol-20161108/images_zoom/'\n",
    "sweep        = 4\n",
    "refl_min     = 20\n",
    "refl_max     = 65\n",
    "vel_min      = -20\n",
    "vel_max      = 20\n",
    "max_lat      = -27.2\n",
    "min_lat      = -27.6\n",
    "min_lon      = 152.35\n",
    "max_lon      = 152.72\n",
    "lat_grid     = 0.1\n",
    "lon_grid     = 0.1\n",
    "bm_res       = 'h' #l (low), i (intermediate), h (high), f (full)\n",
    "lal          = np.arange(min_lat, max_lat, lat_grid)\n",
    "lol          = np.arange(min_lon, max_lon, lon_grid)\n",
    "\n",
    "#generate wms layers\n",
    "generate_layers(max_lat,min_lat,max_lon,min_lon)\n",
    "\n",
    "#generate images\n",
    "fls    = os.listdir(root_path)\n",
    "fls.sort()\n",
    "i = 1\n",
    "fig = plt.figure(figsize=[18,7])\n",
    "for fl in fls:\n",
    "    print('processing file ',i,' ',root_path+ fl)\n",
    "    if (i % 2 == 0):\n",
    "        plot_rhi(root_path+ fl,out_dir+fl+'.png')\n",
    "    else:\n",
    "        plot_rhi(root_path+ fl,out_dir+fl+'.png')\n",
    "    i = i +1\n",
    "    \n",
    "plt.close()"
   ]
  },
  {
   "cell_type": "code",
   "execution_count": null,
   "metadata": {
    "collapsed": true
   },
   "outputs": [],
   "source": []
  },
  {
   "cell_type": "code",
   "execution_count": null,
   "metadata": {
    "collapsed": true
   },
   "outputs": [],
   "source": []
  }
 ],
 "metadata": {
  "kernelspec": {
   "display_name": "Python [Root]",
   "language": "python",
   "name": "Python [Root]"
  },
  "language_info": {
   "codemirror_mode": {
    "name": "ipython",
    "version": 2
   },
   "file_extension": ".py",
   "mimetype": "text/x-python",
   "name": "python",
   "nbconvert_exporter": "python",
   "pygments_lexer": "ipython2",
   "version": "2.7.12"
  }
 },
 "nbformat": 4,
 "nbformat_minor": 0
}
