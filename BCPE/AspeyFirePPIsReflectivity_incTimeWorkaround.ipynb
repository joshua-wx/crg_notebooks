{
 "cells": [
  {
   "cell_type": "markdown",
   "metadata": {},
   "source": [
    "Import Libraries\n",
    "\n",
    "Note: This script has import features that will not work in Python 3"
   ]
  },
  {
   "cell_type": "code",
   "execution_count": 117,
   "metadata": {
    "collapsed": false,
    "scrolled": true
   },
   "outputs": [],
   "source": [
    "#imports\n",
    "from __future__ import print_function\n",
    "import pyart\n",
    "import matplotlib.pyplot as plt\n",
    "import matplotlib\n",
    "#%matplotlib inline\n",
    "import gc\n",
    "import numpy as np\n",
    "import os\n",
    "from netCDF4 import num2date, date2num\n",
    "from datetime import datetime\n",
    "import h5py\n",
    "import time\n",
    "from mpl_toolkits.basemap import Basemap"
   ]
  },
  {
   "cell_type": "markdown",
   "metadata": {},
   "source": [
    "Point to directory"
   ]
  },
  {
   "cell_type": "code",
   "execution_count": 114,
   "metadata": {
    "collapsed": false,
    "scrolled": false
   },
   "outputs": [
    {
     "name": "stdout",
     "output_type": "stream",
     "text": [
      "2558 PPIs\n",
      "315 RHIs\n"
     ]
    }
   ],
   "source": [
    "dirr = '/home/nick-m/Code/uq-xpol-master/DataLinks/Odim/'\n",
    "#dirr = '/home/nick-m/Desktop/AspeyTestData/'\n",
    "outloc = '/home/nick-m/Desktop/AspeyReflOut/'\n",
    "#outloc = '/home/nick-m/Desktop/AspeyTestOut/'\n",
    "firename = 'Aspey'\n",
    "\n",
    "#Read and sort\n",
    "fls = os.listdir(dirr)\n",
    "fls.sort()\n",
    "\n",
    "flsPPI = [s for s in fls if \"ppi\" in s]\n",
    "flsRHI = [s for s in fls if \"rhi\" in s]\n",
    "print(str(len(flsPPI))+' PPIs')\n",
    "print(str(len(flsRHI))+' RHIs')"
   ]
  },
  {
   "cell_type": "markdown",
   "metadata": {},
   "source": [
    "Plot Types? Set to 1 to plot"
   ]
  },
  {
   "cell_type": "code",
   "execution_count": 83,
   "metadata": {
    "collapsed": true
   },
   "outputs": [],
   "source": [
    "PlotRHIs = 0\n",
    "PlotPPIs = 1"
   ]
  },
  {
   "cell_type": "markdown",
   "metadata": {},
   "source": [
    "Setup Plotting Variables:"
   ]
  },
  {
   "cell_type": "code",
   "execution_count": 84,
   "metadata": {
    "collapsed": true
   },
   "outputs": [],
   "source": [
    "# SET Fields to be Plotted\n",
    "fields_to_plot = ['DBZH', 'VRADH']\n",
    "\n",
    "# SET No. of subplot rows\n",
    "rows = 1 \n",
    "\n",
    "tz = 10\n",
    "\n",
    "# SET minimum reflectivity and field ranges\n",
    "\n",
    "minref = -30\n",
    "ranges = [(minref, 35), (-20, 20)]\n",
    "\n",
    "# SET Colourmaps\n",
    "colmaps = [pyart.graph.cm.NWSRef, \n",
    "            pyart.graph.cm.BuDRd18]\n"
   ]
  },
  {
   "cell_type": "markdown",
   "metadata": {},
   "source": [
    "Setup Plot Type Specific Variables.\n",
    "\n",
    "Note: Give plot area in lat/lon. Use the tool http://boundingbox.klokantech.com/ to output in correct format"
   ]
  },
  {
   "cell_type": "code",
   "execution_count": 85,
   "metadata": {
    "collapsed": false
   },
   "outputs": [],
   "source": [
    "## Plot type specifics\n",
    "\n",
    "if PlotRHIs == 1:\n",
    "    \n",
    "    # SET Lims for RHIs\n",
    "    RHIxlims, RHIylims = [5,20],[0, 7]\n",
    "\n",
    "\n",
    "if PlotPPIs == 1:\n",
    "    \n",
    "    # SET PPI DOMAIN\n",
    "    \n",
    "    #                                     West      South   East    North \n",
    "    min_lon, min_lat, max_lon, max_lat = [150.96,-28.35,151.1,-28.2]\n",
    "    \n",
    "    # SET Linespacing on map\n",
    "    lat_lin_space = 0.05\n",
    "    lon_lin_space = 0.05\n",
    "    \n",
    "    # Make lines...\n",
    "    lat_lines = np.arange(np.ceil(max_lat),np.floor(min_lat),-lat_lin_space)\n",
    "    lon_lines = np.arange(np.floor(min_lon),np.ceil(max_lon),lon_lin_space)\n",
    "    \n",
    "    # Radar Location\n",
    "    xpol_lat = -28.333759\n",
    "    xpol_lon = 151.088839\n",
    "\n",
    "\n",
    "    # Azimuth Correction\n",
    "    azimuth_offset = 151.6 # Offset = 140 + where Declination = 10.6 \n",
    "    \n",
    "    # epsg code for GDA94 Projection\n",
    "    GDA94 = 3112\n",
    "    \n",
    "    # ArcGIS Online Map Service to use (e.g. World_Topo_Map or ESRI_Imagery_World_2D)\n",
    "    esriMap = 'World_Topo_Map'\n",
    "    \n",
    "    # Location of Shapefile to Overlay (TO BE FIXED)\n",
    "    # overlayLoc = '/home/nick-m/Desktop/CedarMapParts/Export_OutputCedarPoints'\n",
    "    \n"
   ]
  },
  {
   "cell_type": "markdown",
   "metadata": {},
   "source": [
    "Import AWS data (to be cleaned up)"
   ]
  },
  {
   "cell_type": "code",
   "execution_count": 86,
   "metadata": {
    "collapsed": false
   },
   "outputs": [],
   "source": [
    "SW_CornerAWS = np.loadtxt('/media/nick-m/Seagate Expansion Drive/BCPE_Field_Data/AspeyBurn/AspeyAWS/SW_Corner.csv',\n",
    "          dtype={'names': (\"#\",\"time\",\"p\",\"ws\",\"gs\",\"wd\"),\n",
    "                 'formats': ('i4',object,'f8','f8','f8','f8','f8')},\n",
    "          delimiter=',',skiprows=2, converters={1: lambda x: datetime.strptime(x, \"%m/%d/%y %H:%M:%S\")})\n",
    "SW_CornerAWSlat = -28.290919\n",
    "SW_CornerAWSlon = 151.010911\n",
    "\n",
    "Water_nAWS = np.loadtxt('/media/nick-m/Seagate Expansion Drive/BCPE_Field_Data/AspeyBurn/AspeyAWS/Water_N.csv',\n",
    "          dtype={'names': (\"#\",\"time\",\"ws\",\"gs\",\"wd\"),\n",
    "                 'formats': ('i4',object,'f8','f8','f8','f8')},\n",
    "          delimiter=',',skiprows=2, converters={1: lambda x: datetime.strptime(x, \"%m/%d/%y %H:%M:%S\")})\n",
    "Water_nAWSlat = -28.235011\n",
    "Water_nAWSlon = 151.012899\n",
    "\n",
    "Water_sAWS = np.loadtxt('/media/nick-m/Seagate Expansion Drive/BCPE_Field_Data/AspeyBurn/AspeyAWS/Water_S.csv',\n",
    "          dtype={'names': (\"#\",\"time\",\"ws\",\"gs\",\"wd\"),\n",
    "                 'formats': ('i4',object,'f8','f8','f8','f8','f8')},\n",
    "          delimiter=',',skiprows=2, converters={1: lambda x: datetime.strptime(x, \"%m/%d/%y %H:%M:%S\")})\n",
    "Water_sAWSlat = -28.2675\n",
    "Water_sAWSlon = 151.035168\n",
    "\n",
    "CowsClearingAWS = np.loadtxt('/media/nick-m/Seagate Expansion Drive/BCPE_Field_Data/AspeyBurn/AspeyAWS/CowsClearing.csv',\n",
    "          dtype={'names': (\"#\",\"time\",\"rad\",\"T\",\"RH\",\"ws\",\"gs\",\"wd\"),\n",
    "                 'formats': ('i4',object,'f8','f8','f8','f8','f8','f8','f8')},\n",
    "          delimiter=',',skiprows=2, converters={1: lambda x: datetime.strptime(x, \"%m/%d/%y %H:%M:%S\")})\n",
    "CowsClearingAWSlat = -28.301012\n",
    "CowsClearingAWSlon = 151.064821\n",
    "\n",
    "ClearingNthAWS = np.loadtxt('/media/nick-m/Seagate Expansion Drive/BCPE_Field_Data/AspeyBurn/AspeyAWS/Clearing_Nth.csv',\n",
    "          dtype={'names': (\"#\",\"time\",\"T\",\"RH\",\"ws\",\"gs\",\"wd\"),\n",
    "                 'formats': ('i4',object,'f8','f8','f8','f8','f8','f8')},\n",
    "          delimiter=',',skiprows=2, converters={1: lambda x: datetime.strptime(x, \"%m/%d/%y %H:%M:%S\")})\n",
    "ClearingNthAWSlat = -28.236314\n",
    "ClearingNthAWSlon = 150.987566\n",
    "\n",
    "SunsetStripAWS = np.loadtxt('/media/nick-m/Seagate Expansion Drive/BCPE_Field_Data/AspeyBurn/AspeyAWS/SunsetStrip.csv',\n",
    "          dtype={'names': (\"#\",\"time\",\"ws\",\"gs\",\"wd\"),\n",
    "                 'formats': ('i4',object,'f8','f8','f8','f8')},\n",
    "          delimiter=',',skiprows=2, converters={1: lambda x: datetime.strptime(x, \"%m/%d/%y %H:%M:%S\")})\n",
    "SunsetStripAWSlat = -28.261541\n",
    "SunsetStripAWSlon = 150.994655\n",
    "\n",
    "AWSlats = [SW_CornerAWSlat, Water_nAWSlat, Water_sAWSlat, CowsClearingAWSlat, ClearingNthAWSlat, SunsetStripAWSlat]\n",
    "AWSlons = [SW_CornerAWSlon, Water_nAWSlon, Water_sAWSlon, CowsClearingAWSlon, ClearingNthAWSlon, SunsetStripAWSlon]\n",
    "\n",
    "#Convert to km/h\n",
    "SW_CornerAWS['ws'] = SW_CornerAWS['ws']*3.6\n",
    "Water_nAWS['ws'] = Water_nAWS['ws']*3.6\n",
    "Water_sAWS['ws'] = Water_sAWS['ws']*3.6\n",
    "CowsClearingAWS['ws'] = CowsClearingAWS['ws']*3.6\n",
    "ClearingNthAWS['ws'] = ClearingNthAWS['ws']*3.6\n",
    "SunsetStripAWS['ws'] = SunsetStripAWS['ws']*3.6"
   ]
  },
  {
   "cell_type": "code",
   "execution_count": 131,
   "metadata": {
    "collapsed": false
   },
   "outputs": [],
   "source": [
    "triggertime = 0\n",
    "#Due to the plotting loop slowing down, this variable tracks the length of the whole plot loop.\n",
    "#Once the triggertime reaches 2.5 seconds, the "
   ]
  },
  {
   "cell_type": "code",
   "execution_count": 87,
   "metadata": {
    "collapsed": true
   },
   "outputs": [],
   "source": [
    "def UVnearestDate(AWS, time):\n",
    "    idx = np.argmin(np.abs(AWS['time'] - time))\n",
    "    u = -AWS['ws'][idx] * np.sin(AWS['wd'][idx] * 0.01745329)  # 0.01745329 is pi/180\n",
    "    v = -AWS['ws'][idx] * np.cos(AWS['wd'][idx] * 0.01745329)\n",
    "    \n",
    "    return u,v"
   ]
  },
  {
   "cell_type": "markdown",
   "metadata": {},
   "source": [
    "Set the offset for the sppi"
   ]
  },
  {
   "cell_type": "code",
   "execution_count": 1,
   "metadata": {
    "collapsed": false,
    "scrolled": false
   },
   "outputs": [
    {
     "ename": "NameError",
     "evalue": "name 'plt' is not defined",
     "output_type": "error",
     "traceback": [
      "\u001b[1;31m---------------------------------------------------------------------------\u001b[0m",
      "\u001b[1;31mNameError\u001b[0m                                 Traceback (most recent call last)",
      "\u001b[1;32m<ipython-input-1-08bcdda2ab1f>\u001b[0m in \u001b[0;36m<module>\u001b[1;34m()\u001b[0m\n\u001b[1;32m----> 1\u001b[1;33m \u001b[0mfig\u001b[0m \u001b[1;33m=\u001b[0m \u001b[0mplt\u001b[0m\u001b[1;33m.\u001b[0m\u001b[0mfigure\u001b[0m\u001b[1;33m(\u001b[0m\u001b[1;33m)\u001b[0m\u001b[1;33m\u001b[0m\u001b[0m\n\u001b[0m\u001b[0;32m      2\u001b[0m \u001b[0mi\u001b[0m \u001b[1;33m=\u001b[0m \u001b[1;36m1\u001b[0m\u001b[1;33m\u001b[0m\u001b[0m\n\u001b[0;32m      3\u001b[0m \u001b[1;33m\u001b[0m\u001b[0m\n\u001b[0;32m      4\u001b[0m \u001b[1;32mif\u001b[0m \u001b[0mPlotPPIs\u001b[0m \u001b[1;33m==\u001b[0m \u001b[1;36m1\u001b[0m\u001b[1;33m:\u001b[0m\u001b[1;33m\u001b[0m\u001b[0m\n\u001b[0;32m      5\u001b[0m     \u001b[0mstart\u001b[0m \u001b[1;33m=\u001b[0m \u001b[0mtime\u001b[0m\u001b[1;33m.\u001b[0m\u001b[0mtime\u001b[0m\u001b[1;33m(\u001b[0m\u001b[1;33m)\u001b[0m\u001b[1;33m\u001b[0m\u001b[0m\n",
      "\u001b[1;31mNameError\u001b[0m: name 'plt' is not defined"
     ]
    }
   ],
   "source": [
    "i = 1\n",
    "\n",
    "if PlotPPIs == 1:\n",
    "    start = time.time()\n",
    "    #Setup Basemap\n",
    "    m = Basemap(llcrnrlon=min_lon,\n",
    "                llcrnrlat=min_lat,\n",
    "                urcrnrlon=max_lon,\n",
    "                urcrnrlat=max_lat, \n",
    "                projection='tmerc', \n",
    "                resolution = 'i',\n",
    "                epsg = GDA94)\n",
    "    \n",
    "    AWSx, AWSy = m(AWSlons, AWSlats)\n",
    "\n",
    "    print('Retrieving ArcGIS Online Image for Map Domain...')\n",
    "    try:\n",
    "        m.arcgisimage(service= esriMap, xpixels = 1500, verbose= True)\n",
    "        print('Success')\n",
    "    except:\n",
    "            print('Image Retrieved Failed. Continuing with no image.')\n",
    "    \n",
    "        \n",
    "    \n",
    "    # Initiate loop. Basemap not replotted, so Colourbar only plotted on first iteration\n",
    "    Mark1 = time.time()\n",
    "    print('Map took ', str(round(Mark1 - start,2)), 'seconds')\n",
    "    \n",
    "\n",
    "    for fl in flsPPI:\n",
    "#        try:\n",
    "\n",
    "            print('doing ' + str(i) + ' of ' + str(len(flsPPI)) + ' PPIs - '+ dirr + fl)\n",
    "            \n",
    "            if triggertime > 2.5:\n",
    "                plt.close()\n",
    "                m = Basemap(llcrnrlon=min_lon,llcrnrlat=min_lat,urcrnrlon=max_lon,urcrnrlat=max_lat, projection='tmerc', resolution = 'i',epsg = GDA94)\n",
    "                m.arcgisimage(service= esriMap, xpixels = 1500, verbose= True)\n",
    "                print('\\033[1m' + 'Fig closed, new basemap initialised' + '\\033[0m')\n",
    "        \n",
    "        \n",
    "            Mark2 = time.time()\n",
    "            \n",
    "            \n",
    "            #Load Data\n",
    "            myradar = pyart.aux_io.read_odim_h5(dirr + fl, file_field_names=True)\n",
    "            \n",
    "            \n",
    "            \n",
    "            \n",
    "            #Extract data (timezone *60*60 as datenum is given in seconds since...)\n",
    "            dts = num2date(myradar.time['data'] + tz* 60.*60., myradar.time['units'])\n",
    "            \n",
    "            \n",
    "            \n",
    "\n",
    "            # Set gatefilters\n",
    "            gatefilter = pyart.correct.GateFilter(myradar)\n",
    "            gatefilter.exclude_inside('VRADH',-0.2,0.2)\n",
    "            gatefilter.exclude_outside('VRADH',-12,12)\n",
    "            gatefilter = pyart.correct.despeckle.despeckle_field(myradar,\n",
    "                                                             'VRADH', \n",
    "                                                             gatefilter=gatefilter, \n",
    "                                                             size = 100)\n",
    "            \n",
    "            \n",
    "        \n",
    "            #rename fields\n",
    "            myradar.fields['DBZH']['standard_name'] = 'Reflectivity'\n",
    "            myradar.fields['DBZH']['units'] = 'dBZ'\n",
    "            myradar.fields['DBZH']['long_name'] = 'Radar Reflectivity Factor'\n",
    "            myradar.fields['VRADH']['standard_name'] = 'Velocity'\n",
    "            myradar.fields['VRADH']['units'] = 'm/s'\n",
    "            myradar.fields['VRADH']['long_name'] = 'Radial Velocity of Scatterers'\n",
    "            \n",
    "            \n",
    "            \n",
    "        \n",
    "            # Geographical Corrections\n",
    "            myradar.latitude['data'][0] = xpol_lat \n",
    "            myradar.longitude['data'][0] = xpol_lon\n",
    "            myradar.azimuth['data'] = myradar.azimuth['data'] + azimuth_offset\n",
    "            \n",
    "            \n",
    "            \n",
    "            \n",
    "            #Mark3 = time.time()\n",
    "            #print('Load and corrections took ', str(round(Mark3 - Mark2,2)), 'seconds')\n",
    "            \n",
    "            \n",
    "            \n",
    "            #Setup Display\n",
    "            my_display = pyart.graph.RadarMapDisplay(myradar)\n",
    "            \n",
    "            \n",
    "            \n",
    "            #Mark4 = time.time()\n",
    "            #print('Setup Display took ', str(round(Mark4 - Mark3,2)), 'seconds')\n",
    "            \n",
    "            \n",
    "\n",
    "            # Shapefile (TO BE FIXED)\n",
    "            #m.readshapefile(overlayLoc, 'FirePerim')\n",
    "            \n",
    "        \n",
    "        \n",
    "            # Only plot colorbar on the first plot\n",
    "        \n",
    "            if i == 1:\n",
    "                cbf = True\n",
    "            else:\n",
    "                cbf = False\n",
    "                \n",
    "                \n",
    "            \n",
    "            #Plot Radar Data\n",
    "\n",
    "            my_display.plot_ppi_map('DBZH', vmin=-15, vmax=35, \n",
    "                                    lat_lines = lat_lines, lon_lines = lon_lines,\n",
    "                                    #max_lat = max_lat, #NorthLatitude,\n",
    "                                    #min_lat = min_lat, #SouthLatitude,\n",
    "                                    #min_lon = min_lon, #WestLongitude, \n",
    "                                    #max_lon = max_lon, #EastLongitude,\n",
    "                                    cmap = pyart.graph.cm.NWSRef,\n",
    "                                    gatefilter=gatefilter,\n",
    "                                    colorbar_flag = cbf,\n",
    "                                    basemap = m,\n",
    "                                   )\n",
    "\n",
    "            #my_display.plot_range_ring(2.)\n",
    "            #my_display.plot_range_ring(4.)\n",
    "            #my_display.plot_range_ring(6.)\n",
    "            \n",
    "            Mark5 = time.time()\n",
    "            print('Plot took ', str(round(Mark5 - Mark2,2)), 'seconds')\n",
    "            \n",
    "            \n",
    "            my_display.plot_range_ring(10.)\n",
    "            my_display.plot_point(xpol_lon, xpol_lat, symbol = 'wo')\n",
    "\n",
    "\n",
    "           \n",
    "        \n",
    "            # Plot windbarbs\n",
    "            \n",
    "            uSW_CornerAWS,vSW_CornerAWS = UVnearestDate(SW_CornerAWS,dts[0])\n",
    "            uWater_nAWS,vWater_nAWS = UVnearestDate(Water_nAWS,dts[0])\n",
    "            uWater_sAWS,vWater_sAWS = UVnearestDate(Water_sAWS,dts[0])\n",
    "            uCowsClearingAWS,vCowsClearingAWS = UVnearestDate(CowsClearingAWS,dts[0])\n",
    "            uClearingNthAWS,vClearingNthAWS = UVnearestDate(ClearingNthAWS,dts[0])\n",
    "            uSunsetStripAWS,vSunsetStripAWS = UVnearestDate(SunsetStripAWS,dts[0])\n",
    "            \n",
    "            uData = [uSW_CornerAWS, uWater_nAWS, uWater_sAWS, uCowsClearingAWS, uClearingNthAWS, uSunsetStripAWS]\n",
    "            vData = [vSW_CornerAWS, vWater_nAWS, vWater_sAWS, vCowsClearingAWS, vClearingNthAWS, vSunsetStripAWS]\n",
    "            \n",
    "            #plt.quiver(AWSx, AWSy,uData,vData,scale=700)\n",
    "            plt.barbs(AWSx, AWSy,uData,vData,length=8, pivot='middle')\n",
    "            \n",
    "            Mark6 = time.time()\n",
    "            #print('Barbs took ', str(round(Mark6 - Mark5,2)), 'seconds')\n",
    "            \n",
    "            \n",
    "            \n",
    "            \n",
    "            #Create title/name and save fig\n",
    "            \n",
    "            t = ('PPI over ' + firename +' at ' + \n",
    "                 dts[0].strftime('%H:%M:%S %Y-%m-%d'))\n",
    "            plt.title(t, fontweight='bold')\n",
    "            \n",
    "            #datest = dts[0]\n",
    "\n",
    "        \n",
    "            fn = (firename +\n",
    "                  fl[7:-18] +\n",
    "                  'el_' + str(int(myradar.elevation['data'][0])) +\n",
    "                  '_' + fl[-18:-3])\n",
    "            \n",
    "            #fn = (firename + '_' + myradar.scan_type + str(i)) \n",
    "\n",
    "            plt.savefig(outloc + fn + '.png', dpi=300)\n",
    "            \n",
    "            Mark7 = time.time()\n",
    "            print('Save Plot took ', str(round(Mark7 - Mark6,2)), 'seconds')\n",
    "            \n",
    "            ax = plt.gca()\n",
    "            \n",
    "            \n",
    "            \n",
    "            \n",
    "            ## Below operations seek to clear out unused layers in the plot to avoid \n",
    "            \n",
    "            #plt.savefig(outloc + 'test' + fn + '.png', dpi=400) \n",
    "            #print(len(ax.collections))\n",
    "            \n",
    "            ax.collections.pop(-4)\n",
    "            ax.collections.pop(-3)\n",
    "            ax.collections.pop(-2)\n",
    "            ax.collections.pop(-1)\n",
    "            \n",
    "            print(len(ax.collections))\n",
    "            #print(ax.get_zorder)\n",
    "            #print(ax(1))\n",
    "            #print(ax.axes)\n",
    "\n",
    "            #fig.delaxes(1)\n",
    "            \n",
    "            #fig.set_ydata()\n",
    "            #fig.set_xdata()\n",
    "            #self.figure.canvas.draw()\n",
    "            \n",
    "            #print(len(locals()))\n",
    "            \n",
    "            #fig.canvas.update()\n",
    "            #fig.canvas.flush_events()\n",
    "            \n",
    "            #plt.savefig(outloc + 'test2' + fn + '.png', dpi=200)\n",
    "            \n",
    "            Mark8 = time.time()\n",
    "            print('\\033[1m' + 'Total took ', str(round(Mark8 - Mark2,2)), 'seconds' + '\\033[0m')\n",
    "            \n",
    "            triggertime = round(Mark8 - Mark2,2)\n",
    "            \n",
    "            i = i + 1\n",
    "        \n",
    "            #if i == 5:\n",
    "            #    plt.close()\n",
    "            #    break\n",
    "#        except:\n",
    "#            pass\n",
    "\n",
    "    plt.close()"
   ]
  },
  {
   "cell_type": "code",
   "execution_count": 127,
   "metadata": {
    "collapsed": false,
    "scrolled": true
   },
   "outputs": [],
   "source": [
    "#plt.close()"
   ]
  },
  {
   "cell_type": "code",
   "execution_count": 92,
   "metadata": {
    "collapsed": false
   },
   "outputs": [],
   "source": []
  },
  {
   "cell_type": "code",
   "execution_count": 94,
   "metadata": {
    "collapsed": false
   },
   "outputs": [
    {
     "data": {
      "text/plain": [
       "(0.29259959149818243, -0.47747824982411169)"
      ]
     },
     "execution_count": 94,
     "metadata": {},
     "output_type": "execute_result"
    }
   ],
   "source": []
  },
  {
   "cell_type": "code",
   "execution_count": 91,
   "metadata": {
    "collapsed": false
   },
   "outputs": [
    {
     "data": {
      "text/plain": [
       "(0.91914660149617511, 0.62230983035625553)"
      ]
     },
     "execution_count": 91,
     "metadata": {},
     "output_type": "execute_result"
    }
   ],
   "source": []
  },
  {
   "cell_type": "code",
   "execution_count": 6,
   "metadata": {
    "collapsed": false
   },
   "outputs": [
    {
     "name": "stdout",
     "output_type": "stream",
     "text": [
      "Hello\n",
      "['Map took ', 0.00029397010803222656]\n"
     ]
    }
   ],
   "source": []
  },
  {
   "cell_type": "code",
   "execution_count": null,
   "metadata": {
    "collapsed": true
   },
   "outputs": [],
   "source": []
  }
 ],
 "metadata": {
  "kernelspec": {
   "display_name": "Python 3",
   "language": "python",
   "name": "python3"
  },
  "language_info": {
   "codemirror_mode": {
    "name": "ipython",
    "version": 3
   },
   "file_extension": ".py",
   "mimetype": "text/x-python",
   "name": "python",
   "nbconvert_exporter": "python",
   "pygments_lexer": "ipython3",
   "version": "3.5.1"
  }
 },
 "nbformat": 4,
 "nbformat_minor": 0
}
